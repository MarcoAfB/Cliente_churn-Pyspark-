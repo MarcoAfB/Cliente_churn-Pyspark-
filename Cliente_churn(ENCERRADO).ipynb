{
 "cells": [
  {
   "cell_type": "code",
   "execution_count": 70,
   "metadata": {},
   "outputs": [],
   "source": [
    "from pyspark.sql.types import *\n",
    "from pyspark.sql import SparkSession\n",
    "import pandas as pd\n",
    "import numpy as np\n",
    "import seaborn \n",
    "import matplotlib.pyplot as plt\n",
    "import pyspark.sql.functions as F\n",
    "import datetime\n",
    "from pyspark import\tSparkContext"
   ]
  },
  {
   "attachments": {},
   "cell_type": "markdown",
   "metadata": {},
   "source": [
    "## Adicionando os Dados"
   ]
  },
  {
   "cell_type": "code",
   "execution_count": 71,
   "metadata": {},
   "outputs": [],
   "source": [
    "# iniciando uma sessão \n",
    "ssql = SparkSession.builder.appName(\"Client\").getOrCreate()"
   ]
  },
  {
   "cell_type": "code",
   "execution_count": 72,
   "metadata": {},
   "outputs": [],
   "source": [
    "# Carregando o dataset utilizado\n",
    "data = ssql.read.csv('Data.csv', header=True)\n",
    "\n",
    "# Carregando o dataset utilizado\n",
    "ssql.read.csv('Data.csv', header=True).createOrReplaceTempView(\"Data\")"
   ]
  },
  {
   "cell_type": "code",
   "execution_count": 73,
   "metadata": {},
   "outputs": [
    {
     "name": "stdout",
     "output_type": "stream",
     "text": [
      "+---+--------------------+---------+---------+------+-------------+--------+---------+-----+--------------------+------+---------------+---------------+---------+--------------------+------+-------------+--------------------+--------------------+\n",
      "|_c0|              artist|     auth|firstName|gender|itemInSession|lastName|   length|level|            location|method|           page|   registration|sessionId|                song|status|           ts|           userAgent|              userId|\n",
      "+---+--------------------+---------+---------+------+-------------+--------+---------+-----+--------------------+------+---------------+---------------+---------+--------------------+------+-------------+--------------------+--------------------+\n",
      "|  0|      Martha Tilston|Logged In|    Colin|     M|           50| Freeman|277.89016| paid|     Bakersfield, CA|   PUT|       NextSong|1538173362000.0|       29|           Rockpools|   200|1538352117000|Mozilla/5.0 (Wind...|                  30|\n",
      "|  1|    Five Iron Frenzy|Logged In|    Micah|     M|           79|    Long|236.09424| free|Boston-Cambridge-...|   PUT|       NextSong|1538331630000.0|        8|              Canada|   200|1538352180000|\"\"\"Mozilla/5.0 (W...| like Gecko) Chro...|\n",
      "|  2|        Adam Lambert|Logged In|    Colin|     M|           51| Freeman| 282.8273| paid|     Bakersfield, CA|   PUT|       NextSong|1538173362000.0|       29|   Time For Miracles|   200|1538352394000|Mozilla/5.0 (Wind...|                  30|\n",
      "|  3|              Enigma|Logged In|    Micah|     M|           80|    Long|262.71302| free|Boston-Cambridge-...|   PUT|       NextSong|1538331630000.0|        8|Knocking On Forbi...|   200|1538352416000|\"\"\"Mozilla/5.0 (W...| like Gecko) Chro...|\n",
      "|  4|           Daft Punk|Logged In|    Colin|     M|           52| Freeman|223.60771| paid|     Bakersfield, CA|   PUT|       NextSong|1538173362000.0|       29|Harder Better Fas...|   200|1538352676000|Mozilla/5.0 (Wind...|                  30|\n",
      "|  5|The All-American ...|Logged In|    Micah|     M|           81|    Long|208.29995| free|Boston-Cambridge-...|   PUT|       NextSong|1538331630000.0|        8|      Don't Leave Me|   200|1538352678000|\"\"\"Mozilla/5.0 (W...| like Gecko) Chro...|\n",
      "|  6|The Velvet Underg...|Logged In|    Micah|     M|           82|    Long|260.46649| free|Boston-Cambridge-...|   PUT|       NextSong|1538331630000.0|        8|         Run Run Run|   200|1538352886000|\"\"\"Mozilla/5.0 (W...| like Gecko) Chro...|\n",
      "|  7|        Starflyer 59|Logged In|    Colin|     M|           53| Freeman|185.44281| paid|     Bakersfield, CA|   PUT|       NextSong|1538173362000.0|       29|Passengers (Old A...|   200|1538352899000|Mozilla/5.0 (Wind...|                  30|\n",
      "|  8|                null|Logged In|    Colin|     M|           54| Freeman|     null| paid|     Bakersfield, CA|   PUT|Add to Playlist|1538173362000.0|       29|                null|   200|1538352905000|Mozilla/5.0 (Wind...|                  30|\n",
      "|  9|            Frumpies|Logged In|    Colin|     M|           55| Freeman|134.47791| paid|     Bakersfield, CA|   PUT|       NextSong|1538173362000.0|       29|          Fuck Kitty|   200|1538353084000|Mozilla/5.0 (Wind...|                  30|\n",
      "| 10|        Britt Nicole|Logged In|    Micah|     M|           83|    Long| 229.8771| free|Boston-Cambridge-...|   PUT|       NextSong|1538331630000.0|        8|   Walk On The Water|   200|1538353146000|\"\"\"Mozilla/5.0 (W...| like Gecko) Chro...|\n",
      "| 11|                null|Logged In|    Micah|     M|           84|    Long|     null| free|Boston-Cambridge-...|   GET|    Roll Advert|1538331630000.0|        8|                null|   200|1538353150000|\"\"\"Mozilla/5.0 (W...| like Gecko) Chro...|\n",
      "| 12|Edward Sharpe & T...|Logged In|    Colin|     M|           56| Freeman|223.58159| paid|     Bakersfield, CA|   PUT|       NextSong|1538173362000.0|       29|                Jade|   200|1538353218000|Mozilla/5.0 (Wind...|                  30|\n",
      "| 13|               Tesla|Logged In|    Micah|     M|           85|    Long|201.06404| free|Boston-Cambridge-...|   PUT|       NextSong|1538331630000.0|        8|      Gettin' Better|   200|1538353375000|\"\"\"Mozilla/5.0 (W...| like Gecko) Chro...|\n",
      "| 14|                null|Logged In|    Micah|     M|           86|    Long|     null| free|Boston-Cambridge-...|   PUT|      Thumbs Up|1538331630000.0|        8|                null|   307|1538353376000|\"\"\"Mozilla/5.0 (W...| like Gecko) Chro...|\n",
      "| 15|         Stan Mosley|Logged In|    Colin|     M|           57| Freeman|246.69995| paid|     Bakersfield, CA|   PUT|       NextSong|1538173362000.0|       29|   So-Called Friends|   200|1538353441000|Mozilla/5.0 (Wind...|                  30|\n",
      "| 16|Florence + The Ma...|Logged In|    Micah|     M|           87|    Long|168.64608| free|Boston-Cambridge-...|   PUT|       NextSong|1538331630000.0|        8| You've Got The Love|   200|1538353576000|\"\"\"Mozilla/5.0 (W...| like Gecko) Chro...|\n",
      "| 17|   Tokyo Police Club|Logged In|  Ashlynn|     F|            0|Williams| 166.1122| free|     Tallahassee, FL|   PUT|       NextSong|1537365219000.0|      217|Citizens Of Tomorrow|   200|1538353668000|\"\"\"Mozilla/5.0 (M...| like Gecko) Chro...|\n",
      "| 18|             Orishas|Logged In|    Colin|     M|           58| Freeman|222.22322| paid|     Bakersfield, CA|   PUT|       NextSong|1538173362000.0|       29|           Represent|   200|1538353687000|Mozilla/5.0 (Wind...|                  30|\n",
      "| 19|             Ratatat|Logged In|    Micah|     M|           88|    Long|229.77261| free|Boston-Cambridge-...|   PUT|       NextSong|1538331630000.0|        8|              Swisha|   200|1538353744000|\"\"\"Mozilla/5.0 (W...| like Gecko) Chro...|\n",
      "+---+--------------------+---------+---------+------+-------------+--------+---------+-----+--------------------+------+---------------+---------------+---------+--------------------+------+-------------+--------------------+--------------------+\n",
      "only showing top 20 rows\n",
      "\n"
     ]
    }
   ],
   "source": [
    "data.show()"
   ]
  },
  {
   "cell_type": "code",
   "execution_count": 74,
   "metadata": {},
   "outputs": [
    {
     "name": "stdout",
     "output_type": "stream",
     "text": [
      "O data-set possui 286500 fileiras\n",
      "e 19 colunas\n"
     ]
    }
   ],
   "source": [
    "print(f'O data-set possui {data.count()} fileiras')\n",
    "print(f'e {len(data.columns)} colunas')"
   ]
  },
  {
   "cell_type": "code",
   "execution_count": 75,
   "metadata": {},
   "outputs": [
    {
     "name": "stdout",
     "output_type": "stream",
     "text": [
      "root\n",
      " |-- _c0: string (nullable = true)\n",
      " |-- artist: string (nullable = true)\n",
      " |-- auth: string (nullable = true)\n",
      " |-- firstName: string (nullable = true)\n",
      " |-- gender: string (nullable = true)\n",
      " |-- itemInSession: string (nullable = true)\n",
      " |-- lastName: string (nullable = true)\n",
      " |-- length: string (nullable = true)\n",
      " |-- level: string (nullable = true)\n",
      " |-- location: string (nullable = true)\n",
      " |-- method: string (nullable = true)\n",
      " |-- page: string (nullable = true)\n",
      " |-- registration: string (nullable = true)\n",
      " |-- sessionId: string (nullable = true)\n",
      " |-- song: string (nullable = true)\n",
      " |-- status: string (nullable = true)\n",
      " |-- ts: string (nullable = true)\n",
      " |-- userAgent: string (nullable = true)\n",
      " |-- userId: string (nullable = true)\n",
      "\n"
     ]
    }
   ],
   "source": [
    "data.printSchema()"
   ]
  },
  {
   "attachments": {},
   "cell_type": "markdown",
   "metadata": {},
   "source": [
    "## EDA"
   ]
  },
  {
   "attachments": {},
   "cell_type": "markdown",
   "metadata": {},
   "source": [
    "Temos as informações de quais foram as movimentações no site. Sendo a de nosso interesse \"Cancellation Confirmation\" que foram as contas encerradas pelos clientes"
   ]
  },
  {
   "cell_type": "code",
   "execution_count": 76,
   "metadata": {},
   "outputs": [
    {
     "name": "stdout",
     "output_type": "stream",
     "text": [
      "+-------------------------+------+\n",
      "|page                     |page  |\n",
      "+-------------------------+------+\n",
      "|NextSong                 |228108|\n",
      "|Home                     |14457 |\n",
      "|Thumbs Up                |12551 |\n",
      "|Add to Playlist          |6526  |\n",
      "|Add Friend               |4277  |\n",
      "|Roll Advert              |3933  |\n",
      "|Login                    |3241  |\n",
      "|Logout                   |3226  |\n",
      "|Thumbs Down              |2546  |\n",
      "|Downgrade                |2055  |\n",
      "|Help                     |1726  |\n",
      "|Settings                 |1514  |\n",
      "|About                    |924   |\n",
      "|Upgrade                  |499   |\n",
      "|Save Settings            |310   |\n",
      "|Error                    |258   |\n",
      "|Submit Upgrade           |159   |\n",
      "|Submit Downgrade         |63    |\n",
      "|Cancel                   |52    |\n",
      "|Cancellation Confirmation|52    |\n",
      "+-------------------------+------+\n",
      "only showing top 20 rows\n",
      "\n"
     ]
    }
   ],
   "source": [
    "ssql.sql(\"select page, count(page) page \"+\n",
    "         \"from data \"+\n",
    "         \"group by page \"+\n",
    "         \"order by count(page) desc\").show(truncate=False)"
   ]
  },
  {
   "attachments": {},
   "cell_type": "markdown",
   "metadata": {},
   "source": [
    "Podemos perceper que há grande quantia de nulls, e que há pelo menos 3 colunas com as mesmas quantias, provavelmente se uma determinada coluna estiver com null as outras também estarão"
   ]
  },
  {
   "cell_type": "code",
   "execution_count": 77,
   "metadata": {},
   "outputs": [
    {
     "name": "stdout",
     "output_type": "stream",
     "text": [
      "Quantia de Nulls na coluna artist  58392\n",
      "Quantia de Nulls na coluna auth  0\n",
      "Quantia de Nulls na coluna firstName  8346\n",
      "Quantia de Nulls na coluna gender  8346\n",
      "Quantia de Nulls na coluna itemInSession  0\n",
      "Quantia de Nulls na coluna lastName  8346\n",
      "Quantia de Nulls na coluna length  58392\n",
      "Quantia de Nulls na coluna level  0\n",
      "Quantia de Nulls na coluna location  8346\n",
      "Quantia de Nulls na coluna method  0\n",
      "Quantia de Nulls na coluna page  0\n",
      "Quantia de Nulls na coluna registration  8346\n",
      "Quantia de Nulls na coluna sessionId  0\n",
      "Quantia de Nulls na coluna song  58392\n",
      "Quantia de Nulls na coluna status  0\n",
      "Quantia de Nulls na coluna ts  0\n",
      "Quantia de Nulls na coluna userAgent  8346\n",
      "Quantia de Nulls na coluna userId  8346\n"
     ]
    }
   ],
   "source": [
    "# Loop para contabilizar quantia de nulls em cada coluna\n",
    "for i in data.columns[1:]:\n",
    "    nulls = data.filter(f'{i} is NULL').count()\n",
    "    print(f'Quantia de Nulls na coluna {i} ', nulls)"
   ]
  },
  {
   "attachments": {},
   "cell_type": "markdown",
   "metadata": {},
   "source": [
    "Os valores que faltam podem seguir um certo padrão já que seguem uma sequência, esse problema será resolvido nas seguintes partes levando essa informação em conta, pois irei usar uma forma específica para lidar com os valores faltantes"
   ]
  },
  {
   "cell_type": "code",
   "execution_count": 78,
   "metadata": {},
   "outputs": [
    {
     "data": {
      "text/plain": [
       "58392"
      ]
     },
     "execution_count": 78,
     "metadata": {},
     "output_type": "execute_result"
    }
   ],
   "source": [
    "# Quando um das 3 colunas é null as outras duas também serão\n",
    "ssql.sql(\"select artist, length, song \"+\n",
    "         \"from data \"+\n",
    "         \"where artist is null and \"+\n",
    "         \"length is null and \"+\n",
    "         \"song is null\").count()"
   ]
  },
  {
   "cell_type": "code",
   "execution_count": 79,
   "metadata": {},
   "outputs": [
    {
     "data": {
      "text/plain": [
       "8346"
      ]
     },
     "execution_count": 79,
     "metadata": {},
     "output_type": "execute_result"
    }
   ],
   "source": [
    "# Quando um das 7 colunas é null as outras seis também serão\n",
    "ssql.sql(\"select firstName, gender, lastName, location, registration, userAgent, userID \"+\n",
    "         \"from data \"+\n",
    "         \"where gender is null and firstName is null and lastName is null and registration is null and \"+\n",
    "         \"userAgent is null and userID is null\").count()"
   ]
  },
  {
   "cell_type": "code",
   "execution_count": 80,
   "metadata": {},
   "outputs": [
    {
     "name": "stdout",
     "output_type": "stream",
     "text": [
      "+------+----------+\n",
      "|gender|num_userID|\n",
      "+------+----------+\n",
      "|     M|        46|\n",
      "|     F|        43|\n",
      "|  null|         0|\n",
      "+------+----------+\n",
      "\n"
     ]
    }
   ],
   "source": [
    "# Quantia de usuários do serviço, separados por sexo\n",
    "ssql.sql(\"select gender,count(distinct userID) as num_userID \"+\n",
    "         \"from data \"+\n",
    "         \"group by gender \"+\n",
    "         \"order by count(distinct userID) desc\").show()"
   ]
  },
  {
   "cell_type": "code",
   "execution_count": 81,
   "metadata": {},
   "outputs": [
    {
     "name": "stdout",
     "output_type": "stream",
     "text": [
      "+----------+------+\n",
      "|      auth| authD|\n",
      "+----------+------+\n",
      "| Logged In|278102|\n",
      "|Logged Out|  8249|\n",
      "|     Guest|    97|\n",
      "| Cancelled|    52|\n",
      "+----------+------+\n",
      "\n"
     ]
    }
   ],
   "source": [
    "# Diferentes auth\n",
    "ssql.sql(\"select auth, count(auth) as authD \"+\n",
    "         \"from data \"+\n",
    "         \"group by auth \"+\n",
    "         \"order by count(auth) desc\").show()"
   ]
  },
  {
   "cell_type": "code",
   "execution_count": 82,
   "metadata": {},
   "outputs": [
    {
     "name": "stdout",
     "output_type": "stream",
     "text": [
      "+-------------+--------------------+\n",
      "|itemInSession|count(itemInSession)|\n",
      "+-------------+--------------------+\n",
      "|            0|                3278|\n",
      "|            1|                3125|\n",
      "|            2|                3067|\n",
      "|            3|                3013|\n",
      "|            4|                2977|\n",
      "|            5|                2925|\n",
      "|            6|                2886|\n",
      "|            7|                2857|\n",
      "|            8|                2816|\n",
      "|            9|                2771|\n",
      "|           10|                2717|\n",
      "|           11|                2672|\n",
      "|           12|                2636|\n",
      "|           13|                2600|\n",
      "|           14|                2561|\n",
      "|           15|                2523|\n",
      "|           16|                2497|\n",
      "|           17|                2461|\n",
      "|           18|                2417|\n",
      "|           19|                2381|\n",
      "+-------------+--------------------+\n",
      "only showing top 20 rows\n",
      "\n"
     ]
    }
   ],
   "source": [
    "ssql.sql(\"select itemInSession, count(itemInSession) \"+\n",
    "         \"from data \"+\n",
    "         \"group by itemInSession \"+\n",
    "         \"order by count(itemInSession) desc\").show()"
   ]
  },
  {
   "cell_type": "code",
   "execution_count": 83,
   "metadata": {},
   "outputs": [],
   "source": [
    "# Transformando uma variável de str para double\n",
    "data = data.withColumn(\"length\", data.length.cast('double'))"
   ]
  },
  {
   "cell_type": "code",
   "execution_count": 84,
   "metadata": {},
   "outputs": [],
   "source": [
    "# Criando um data frame no formato do pandas\n",
    "data_pd = data.toPandas()"
   ]
  },
  {
   "cell_type": "code",
   "execution_count": 85,
   "metadata": {},
   "outputs": [
    {
     "data": {
      "text/plain": [
       "<Axes: ylabel='Frequency'>"
      ]
     },
     "execution_count": 85,
     "metadata": {},
     "output_type": "execute_result"
    },
    {
     "data": {
      "image/png": "[encoded data removed]",
      "text/plain": [
       "<Figure size 640x480 with 1 Axes>"
      ]
     },
     "metadata": {},
     "output_type": "display_data"
    }
   ],
   "source": [
    "# hist da duração das musicas por segundo\n",
    "data_pd['length'].plot.hist(bins=50)"
   ]
  },
  {
   "cell_type": "code",
   "execution_count": 86,
   "metadata": {},
   "outputs": [
    {
     "data": {
      "text/plain": [
       "count    228108.000000\n",
       "mean        249.117182\n",
       "std          99.235179\n",
       "min           0.783220\n",
       "25%         199.888530\n",
       "50%         234.500770\n",
       "75%         277.158730\n",
       "max        3024.665670\n",
       "Name: length, dtype: float64"
      ]
     },
     "execution_count": 86,
     "metadata": {},
     "output_type": "execute_result"
    }
   ],
   "source": [
    "data_pd['length'].describe()"
   ]
  },
  {
   "attachments": {},
   "cell_type": "markdown",
   "metadata": {},
   "source": [
    "A forma que a localização foi salva não permite, sem que haja um tratamento, a distribuição dos usuários por região"
   ]
  },
  {
   "cell_type": "code",
   "execution_count": 87,
   "metadata": {},
   "outputs": [
    {
     "name": "stdout",
     "output_type": "stream",
     "text": [
      "+-------------------------------------------+--------+\n",
      "|location                                   |location|\n",
      "+-------------------------------------------+--------+\n",
      "|Los Angeles-Long Beach-Anaheim, CA         |30131   |\n",
      "|New York-Newark-Jersey City, NY-NJ-PA      |23684   |\n",
      "|Boston-Cambridge-Newton, MA-NH             |13873   |\n",
      "|Houston-The Woodlands-Sugar Land, TX       |9499    |\n",
      "|Charlotte-Concord-Gastonia, NC-SC          |7780    |\n",
      "|Dallas-Fort Worth-Arlington, TX            |7605    |\n",
      "|Louisville/Jefferson County, KY-IN         |6880    |\n",
      "|Philadelphia-Camden-Wilmington, PA-NJ-DE-MD|5890    |\n",
      "|Chicago-Naperville-Elgin, IL-IN-WI         |5114    |\n",
      "|St. Louis, MO-IL                           |4858    |\n",
      "|Phoenix-Mesa-Scottsdale, AZ                |4846    |\n",
      "|Vineland-Bridgeton, NJ                     |4825    |\n",
      "|Wilson, NC                                 |4659    |\n",
      "|Denver-Aurora-Lakewood, CO                 |4453    |\n",
      "|Ionia, MI                                  |4428    |\n",
      "|San Antonio-New Braunfels, TX              |4373    |\n",
      "|Danville, VA                               |4257    |\n",
      "|Atlanta-Sandy Springs-Roswell, GA          |4236    |\n",
      "|New Haven-Milford, CT                      |4007    |\n",
      "|Jackson, MS                                |3839    |\n",
      "+-------------------------------------------+--------+\n",
      "only showing top 20 rows\n",
      "\n"
     ]
    }
   ],
   "source": [
    "# Localização dos usuários do serviço\n",
    "ssql.sql(\"select location,count(location) as location \"+\n",
    "         \"from data \"+\n",
    "         \"group by location \"+\n",
    "         \"order by count(location) desc\").show(truncate=False)"
   ]
  },
  {
   "attachments": {},
   "cell_type": "markdown",
   "metadata": {},
   "source": [
    "## Data Preprocessing"
   ]
  },
  {
   "attachments": {},
   "cell_type": "markdown",
   "metadata": {},
   "source": [
    "Com a exploração feita temos uma pequena noção do que deve ser ajeitado para termos os dados em um melhor formato. Para então, depois que tivermos esses dados melhores tratados poderemos explorar alguns detalhes finais, e voltar a processar os dados caso for necessário."
   ]
  },
  {
   "attachments": {},
   "cell_type": "markdown",
   "metadata": {},
   "source": [
    "Iremos começar adicionando mais uma variável ao data set representando se determinado usuário deixou de usar o serviço (churn)"
   ]
  },
  {
   "cell_type": "code",
   "execution_count": 88,
   "metadata": {},
   "outputs": [],
   "source": [
    "# Adicionando coluna int para churn\n",
    "data = data.withColumn('churn', F.when((data.page == 'Cancellation Confirmation'), F.lit(1))\\\n",
    "                     .otherwise(F.lit(0)))\n",
    "# Nova coluna int para pago ou não pago\n",
    "data = data.withColumn('paid', F.when((data.level == 'paid'), F.lit(1))\\\n",
    "                     .otherwise(F.lit(0)))\n",
    "# Nova coluna int para sexo feminino ou não(masculino)\n",
    "data = data.withColumn('Feminino', F.when((data.gender == 'F'), F.lit(1))\\\n",
    "                     .otherwise(F.lit(0)))\n",
    "# O se o a chamda HTTP foi get ou não\n",
    "data = data.withColumn('method_GET', F.when((data.method == 'GET'), F.lit(1))\\\n",
    "                     .otherwise(F.lit(0)))"
   ]
  },
  {
   "attachments": {},
   "cell_type": "markdown",
   "metadata": {},
   "source": [
    "Iremos fazer One-hot-encode em variáveis str com mais de 2 classes. Para usar o One_hot_encode iremos criar uma função, pois as que encontrei disponível em pyspark não atende as necessidades."
   ]
  },
  {
   "cell_type": "code",
   "execution_count": 89,
   "metadata": {},
   "outputs": [],
   "source": [
    "# Função para One_hot_encode\n",
    "def One_hot_encode(data_set, coluna):\n",
    "    for i in data_set.select(coluna).distinct().collect():\n",
    "        data_set = data_set.withColumn(i[coluna]+' _One_hot', F.when((data_set[coluna] == i[coluna]), F.lit(1))\\\n",
    "                     .otherwise(F.lit(0)))\n",
    "    return data_set\n",
    "\n",
    "data = One_hot_encode(data, 'auth')"
   ]
  },
  {
   "cell_type": "code",
   "execution_count": 91,
   "metadata": {},
   "outputs": [],
   "source": [
    "# Encluindo colunas que foram representadas de outra forma\n",
    "data = data.drop('gender').drop('level').drop('method').drop('auth').drop('Cancelled One_hot')\n",
    "# CancelledOne_hot = churn"
   ]
  },
  {
   "cell_type": "code",
   "execution_count": 92,
   "metadata": {},
   "outputs": [
    {
     "name": "stdout",
     "output_type": "stream",
     "text": [
      "+---+--------------------+---------+-------------+--------+---------+--------------------+---------------+---------------+---------+--------------------+------+-------------+--------------------+--------------------+-----+----+--------+----------+-------------------+------------------+------------------+--------------+\n",
      "|_c0|              artist|firstName|itemInSession|lastName|   length|            location|           page|   registration|sessionId|                song|status|           ts|           userAgent|              userId|churn|paid|Feminino|method_GET|Logged Out _One_hot|Cancelled _One_hot|Logged In _One_hot|Guest _One_hot|\n",
      "+---+--------------------+---------+-------------+--------+---------+--------------------+---------------+---------------+---------+--------------------+------+-------------+--------------------+--------------------+-----+----+--------+----------+-------------------+------------------+------------------+--------------+\n",
      "|  0|      Martha Tilston|    Colin|           50| Freeman|277.89016|     Bakersfield, CA|       NextSong|1538173362000.0|       29|           Rockpools|   200|1538352117000|Mozilla/5.0 (Wind...|                  30|    0|   1|       0|         0|                  0|                 0|                 1|             0|\n",
      "|  1|    Five Iron Frenzy|    Micah|           79|    Long|236.09424|Boston-Cambridge-...|       NextSong|1538331630000.0|        8|              Canada|   200|1538352180000|\"\"\"Mozilla/5.0 (W...| like Gecko) Chro...|    0|   0|       0|         0|                  0|                 0|                 1|             0|\n",
      "|  2|        Adam Lambert|    Colin|           51| Freeman| 282.8273|     Bakersfield, CA|       NextSong|1538173362000.0|       29|   Time For Miracles|   200|1538352394000|Mozilla/5.0 (Wind...|                  30|    0|   1|       0|         0|                  0|                 0|                 1|             0|\n",
      "|  3|              Enigma|    Micah|           80|    Long|262.71302|Boston-Cambridge-...|       NextSong|1538331630000.0|        8|Knocking On Forbi...|   200|1538352416000|\"\"\"Mozilla/5.0 (W...| like Gecko) Chro...|    0|   0|       0|         0|                  0|                 0|                 1|             0|\n",
      "|  4|           Daft Punk|    Colin|           52| Freeman|223.60771|     Bakersfield, CA|       NextSong|1538173362000.0|       29|Harder Better Fas...|   200|1538352676000|Mozilla/5.0 (Wind...|                  30|    0|   1|       0|         0|                  0|                 0|                 1|             0|\n",
      "|  5|The All-American ...|    Micah|           81|    Long|208.29995|Boston-Cambridge-...|       NextSong|1538331630000.0|        8|      Don't Leave Me|   200|1538352678000|\"\"\"Mozilla/5.0 (W...| like Gecko) Chro...|    0|   0|       0|         0|                  0|                 0|                 1|             0|\n",
      "|  6|The Velvet Underg...|    Micah|           82|    Long|260.46649|Boston-Cambridge-...|       NextSong|1538331630000.0|        8|         Run Run Run|   200|1538352886000|\"\"\"Mozilla/5.0 (W...| like Gecko) Chro...|    0|   0|       0|         0|                  0|                 0|                 1|             0|\n",
      "|  7|        Starflyer 59|    Colin|           53| Freeman|185.44281|     Bakersfield, CA|       NextSong|1538173362000.0|       29|Passengers (Old A...|   200|1538352899000|Mozilla/5.0 (Wind...|                  30|    0|   1|       0|         0|                  0|                 0|                 1|             0|\n",
      "|  8|                null|    Colin|           54| Freeman|     null|     Bakersfield, CA|Add to Playlist|1538173362000.0|       29|                null|   200|1538352905000|Mozilla/5.0 (Wind...|                  30|    0|   1|       0|         0|                  0|                 0|                 1|             0|\n",
      "|  9|            Frumpies|    Colin|           55| Freeman|134.47791|     Bakersfield, CA|       NextSong|1538173362000.0|       29|          Fuck Kitty|   200|1538353084000|Mozilla/5.0 (Wind...|                  30|    0|   1|       0|         0|                  0|                 0|                 1|             0|\n",
      "| 10|        Britt Nicole|    Micah|           83|    Long| 229.8771|Boston-Cambridge-...|       NextSong|1538331630000.0|        8|   Walk On The Water|   200|1538353146000|\"\"\"Mozilla/5.0 (W...| like Gecko) Chro...|    0|   0|       0|         0|                  0|                 0|                 1|             0|\n",
      "| 11|                null|    Micah|           84|    Long|     null|Boston-Cambridge-...|    Roll Advert|1538331630000.0|        8|                null|   200|1538353150000|\"\"\"Mozilla/5.0 (W...| like Gecko) Chro...|    0|   0|       0|         1|                  0|                 0|                 1|             0|\n",
      "| 12|Edward Sharpe & T...|    Colin|           56| Freeman|223.58159|     Bakersfield, CA|       NextSong|1538173362000.0|       29|                Jade|   200|1538353218000|Mozilla/5.0 (Wind...|                  30|    0|   1|       0|         0|                  0|                 0|                 1|             0|\n",
      "| 13|               Tesla|    Micah|           85|    Long|201.06404|Boston-Cambridge-...|       NextSong|1538331630000.0|        8|      Gettin' Better|   200|1538353375000|\"\"\"Mozilla/5.0 (W...| like Gecko) Chro...|    0|   0|       0|         0|                  0|                 0|                 1|             0|\n",
      "| 14|                null|    Micah|           86|    Long|     null|Boston-Cambridge-...|      Thumbs Up|1538331630000.0|        8|                null|   307|1538353376000|\"\"\"Mozilla/5.0 (W...| like Gecko) Chro...|    0|   0|       0|         0|                  0|                 0|                 1|             0|\n",
      "| 15|         Stan Mosley|    Colin|           57| Freeman|246.69995|     Bakersfield, CA|       NextSong|1538173362000.0|       29|   So-Called Friends|   200|1538353441000|Mozilla/5.0 (Wind...|                  30|    0|   1|       0|         0|                  0|                 0|                 1|             0|\n",
      "| 16|Florence + The Ma...|    Micah|           87|    Long|168.64608|Boston-Cambridge-...|       NextSong|1538331630000.0|        8| You've Got The Love|   200|1538353576000|\"\"\"Mozilla/5.0 (W...| like Gecko) Chro...|    0|   0|       0|         0|                  0|                 0|                 1|             0|\n",
      "| 17|   Tokyo Police Club|  Ashlynn|            0|Williams| 166.1122|     Tallahassee, FL|       NextSong|1537365219000.0|      217|Citizens Of Tomorrow|   200|1538353668000|\"\"\"Mozilla/5.0 (M...| like Gecko) Chro...|    0|   0|       1|         0|                  0|                 0|                 1|             0|\n",
      "| 18|             Orishas|    Colin|           58| Freeman|222.22322|     Bakersfield, CA|       NextSong|1538173362000.0|       29|           Represent|   200|1538353687000|Mozilla/5.0 (Wind...|                  30|    0|   1|       0|         0|                  0|                 0|                 1|             0|\n",
      "| 19|             Ratatat|    Micah|           88|    Long|229.77261|Boston-Cambridge-...|       NextSong|1538331630000.0|        8|              Swisha|   200|1538353744000|\"\"\"Mozilla/5.0 (W...| like Gecko) Chro...|    0|   0|       0|         0|                  0|                 0|                 1|             0|\n",
      "+---+--------------------+---------+-------------+--------+---------+--------------------+---------------+---------------+---------+--------------------+------+-------------+--------------------+--------------------+-----+----+--------+----------+-------------------+------------------+------------------+--------------+\n",
      "only showing top 20 rows\n",
      "\n"
     ]
    }
   ],
   "source": [
    "data.show()"
   ]
  }
 ],
 "metadata": {
  "kernelspec": {
   "display_name": "env",
   "language": "python",
   "name": "python3"
  },
  "language_info": {
   "codemirror_mode": {
    "name": "ipython",
    "version": 3
   },
   "file_extension": ".py",
   "mimetype": "text/x-python",
   "name": "python",
   "nbconvert_exporter": "python",
   "pygments_lexer": "ipython3",
   "version": "3.11.0"
  },
  "orig_nbformat": 4
 },
 "nbformat": 4,
 "nbformat_minor": 2
}
