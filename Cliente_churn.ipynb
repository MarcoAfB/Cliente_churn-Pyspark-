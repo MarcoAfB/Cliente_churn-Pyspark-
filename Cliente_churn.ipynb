{
 "cells": [
  {
   "cell_type": "code",
   "execution_count": 56,
   "metadata": {},
   "outputs": [],
   "source": [
    "from pyspark.sql.types import *\n",
    "from pyspark.sql import SparkSession\n",
    "import pandas as pd\n",
    "import numpy as np\n",
    "import matplotlib.pyplot as plt\n",
    "import pyspark.sql.functions as F\n",
    "import datetime\n",
    "from pyspark import\tSparkContext\n",
    "from pyspark.ml.feature import VectorAssembler\n",
    "from pyspark.ml.evaluation import MulticlassClassificationEvaluator\n",
    "from pyspark.ml.classification import RandomForestClassifier, LogisticRegression\n",
    "from pyspark.ml.tuning import CrossValidator, ParamGridBuilder\n",
    "from pyspark.ml import Pipeline\n",
    "from pyspark.ml.feature import  VectorAssembler\n",
    "from pyspark.ml.evaluation import MulticlassClassificationEvaluator"
   ]
  },
  {
   "attachments": {},
   "cell_type": "markdown",
   "metadata": {},
   "source": [
    "## Adicionando os Dados"
   ]
  },
  {
   "cell_type": "code",
   "execution_count": 2,
   "metadata": {},
   "outputs": [],
   "source": [
    "# iniciando uma sessão \n",
    "ssql = SparkSession.builder.appName(\"Client\").getOrCreate()\n",
    "\n",
    "sc = SparkContext.getOrCreate()"
   ]
  },
  {
   "cell_type": "code",
   "execution_count": 3,
   "metadata": {},
   "outputs": [],
   "source": [
    "# Carregando o dataset utilizado\n",
    "data = ssql.read.csv('Data.csv', header=True)\n",
    "\n",
    "# Carregando o dataset utilizado\n",
    "ssql.read.csv('Data.csv', header=True).createOrReplaceTempView(\"Data\")"
   ]
  },
  {
   "cell_type": "code",
   "execution_count": 4,
   "metadata": {},
   "outputs": [
    {
     "name": "stdout",
     "output_type": "stream",
     "text": [
      "+---+--------------------+---------+---------+------+-------------+--------+---------+-----+--------------------+------+---------------+---------------+---------+--------------------+------+-------------+--------------------+--------------------+\n",
      "|_c0|              artist|     auth|firstName|gender|itemInSession|lastName|   length|level|            location|method|           page|   registration|sessionId|                song|status|           ts|           userAgent|              userId|\n",
      "+---+--------------------+---------+---------+------+-------------+--------+---------+-----+--------------------+------+---------------+---------------+---------+--------------------+------+-------------+--------------------+--------------------+\n",
      "|  0|      Martha Tilston|Logged In|    Colin|     M|           50| Freeman|277.89016| paid|     Bakersfield, CA|   PUT|       NextSong|1538173362000.0|       29|           Rockpools|   200|1538352117000|Mozilla/5.0 (Wind...|                  30|\n",
      "|  1|    Five Iron Frenzy|Logged In|    Micah|     M|           79|    Long|236.09424| free|Boston-Cambridge-...|   PUT|       NextSong|1538331630000.0|        8|              Canada|   200|1538352180000|\"\"\"Mozilla/5.0 (W...| like Gecko) Chro...|\n",
      "|  2|        Adam Lambert|Logged In|    Colin|     M|           51| Freeman| 282.8273| paid|     Bakersfield, CA|   PUT|       NextSong|1538173362000.0|       29|   Time For Miracles|   200|1538352394000|Mozilla/5.0 (Wind...|                  30|\n",
      "|  3|              Enigma|Logged In|    Micah|     M|           80|    Long|262.71302| free|Boston-Cambridge-...|   PUT|       NextSong|1538331630000.0|        8|Knocking On Forbi...|   200|1538352416000|\"\"\"Mozilla/5.0 (W...| like Gecko) Chro...|\n",
      "|  4|           Daft Punk|Logged In|    Colin|     M|           52| Freeman|223.60771| paid|     Bakersfield, CA|   PUT|       NextSong|1538173362000.0|       29|Harder Better Fas...|   200|1538352676000|Mozilla/5.0 (Wind...|                  30|\n",
      "|  5|The All-American ...|Logged In|    Micah|     M|           81|    Long|208.29995| free|Boston-Cambridge-...|   PUT|       NextSong|1538331630000.0|        8|      Don't Leave Me|   200|1538352678000|\"\"\"Mozilla/5.0 (W...| like Gecko) Chro...|\n",
      "|  6|The Velvet Underg...|Logged In|    Micah|     M|           82|    Long|260.46649| free|Boston-Cambridge-...|   PUT|       NextSong|1538331630000.0|        8|         Run Run Run|   200|1538352886000|\"\"\"Mozilla/5.0 (W...| like Gecko) Chro...|\n",
      "|  7|        Starflyer 59|Logged In|    Colin|     M|           53| Freeman|185.44281| paid|     Bakersfield, CA|   PUT|       NextSong|1538173362000.0|       29|Passengers (Old A...|   200|1538352899000|Mozilla/5.0 (Wind...|                  30|\n",
      "|  8|                null|Logged In|    Colin|     M|           54| Freeman|     null| paid|     Bakersfield, CA|   PUT|Add to Playlist|1538173362000.0|       29|                null|   200|1538352905000|Mozilla/5.0 (Wind...|                  30|\n",
      "|  9|            Frumpies|Logged In|    Colin|     M|           55| Freeman|134.47791| paid|     Bakersfield, CA|   PUT|       NextSong|1538173362000.0|       29|          Fuck Kitty|   200|1538353084000|Mozilla/5.0 (Wind...|                  30|\n",
      "| 10|        Britt Nicole|Logged In|    Micah|     M|           83|    Long| 229.8771| free|Boston-Cambridge-...|   PUT|       NextSong|1538331630000.0|        8|   Walk On The Water|   200|1538353146000|\"\"\"Mozilla/5.0 (W...| like Gecko) Chro...|\n",
      "| 11|                null|Logged In|    Micah|     M|           84|    Long|     null| free|Boston-Cambridge-...|   GET|    Roll Advert|1538331630000.0|        8|                null|   200|1538353150000|\"\"\"Mozilla/5.0 (W...| like Gecko) Chro...|\n",
      "| 12|Edward Sharpe & T...|Logged In|    Colin|     M|           56| Freeman|223.58159| paid|     Bakersfield, CA|   PUT|       NextSong|1538173362000.0|       29|                Jade|   200|1538353218000|Mozilla/5.0 (Wind...|                  30|\n",
      "| 13|               Tesla|Logged In|    Micah|     M|           85|    Long|201.06404| free|Boston-Cambridge-...|   PUT|       NextSong|1538331630000.0|        8|      Gettin' Better|   200|1538353375000|\"\"\"Mozilla/5.0 (W...| like Gecko) Chro...|\n",
      "| 14|                null|Logged In|    Micah|     M|           86|    Long|     null| free|Boston-Cambridge-...|   PUT|      Thumbs Up|1538331630000.0|        8|                null|   307|1538353376000|\"\"\"Mozilla/5.0 (W...| like Gecko) Chro...|\n",
      "| 15|         Stan Mosley|Logged In|    Colin|     M|           57| Freeman|246.69995| paid|     Bakersfield, CA|   PUT|       NextSong|1538173362000.0|       29|   So-Called Friends|   200|1538353441000|Mozilla/5.0 (Wind...|                  30|\n",
      "| 16|Florence + The Ma...|Logged In|    Micah|     M|           87|    Long|168.64608| free|Boston-Cambridge-...|   PUT|       NextSong|1538331630000.0|        8| You've Got The Love|   200|1538353576000|\"\"\"Mozilla/5.0 (W...| like Gecko) Chro...|\n",
      "| 17|   Tokyo Police Club|Logged In|  Ashlynn|     F|            0|Williams| 166.1122| free|     Tallahassee, FL|   PUT|       NextSong|1537365219000.0|      217|Citizens Of Tomorrow|   200|1538353668000|\"\"\"Mozilla/5.0 (M...| like Gecko) Chro...|\n",
      "| 18|             Orishas|Logged In|    Colin|     M|           58| Freeman|222.22322| paid|     Bakersfield, CA|   PUT|       NextSong|1538173362000.0|       29|           Represent|   200|1538353687000|Mozilla/5.0 (Wind...|                  30|\n",
      "| 19|             Ratatat|Logged In|    Micah|     M|           88|    Long|229.77261| free|Boston-Cambridge-...|   PUT|       NextSong|1538331630000.0|        8|              Swisha|   200|1538353744000|\"\"\"Mozilla/5.0 (W...| like Gecko) Chro...|\n",
      "+---+--------------------+---------+---------+------+-------------+--------+---------+-----+--------------------+------+---------------+---------------+---------+--------------------+------+-------------+--------------------+--------------------+\n",
      "only showing top 20 rows\n",
      "\n"
     ]
    }
   ],
   "source": [
    "data.show()"
   ]
  },
  {
   "cell_type": "code",
   "execution_count": 5,
   "metadata": {},
   "outputs": [
    {
     "name": "stdout",
     "output_type": "stream",
     "text": [
      "O data-set possui 286500 fileiras\n",
      "e 19 colunas\n"
     ]
    }
   ],
   "source": [
    "print(f'O data-set possui {data.count()} fileiras')\n",
    "print(f'e {len(data.columns)} colunas')"
   ]
  },
  {
   "cell_type": "code",
   "execution_count": 6,
   "metadata": {},
   "outputs": [
    {
     "name": "stdout",
     "output_type": "stream",
     "text": [
      "root\n",
      " |-- _c0: string (nullable = true)\n",
      " |-- artist: string (nullable = true)\n",
      " |-- auth: string (nullable = true)\n",
      " |-- firstName: string (nullable = true)\n",
      " |-- gender: string (nullable = true)\n",
      " |-- itemInSession: string (nullable = true)\n",
      " |-- lastName: string (nullable = true)\n",
      " |-- length: string (nullable = true)\n",
      " |-- level: string (nullable = true)\n",
      " |-- location: string (nullable = true)\n",
      " |-- method: string (nullable = true)\n",
      " |-- page: string (nullable = true)\n",
      " |-- registration: string (nullable = true)\n",
      " |-- sessionId: string (nullable = true)\n",
      " |-- song: string (nullable = true)\n",
      " |-- status: string (nullable = true)\n",
      " |-- ts: string (nullable = true)\n",
      " |-- userAgent: string (nullable = true)\n",
      " |-- userId: string (nullable = true)\n",
      "\n"
     ]
    }
   ],
   "source": [
    "data.printSchema()"
   ]
  },
  {
   "attachments": {},
   "cell_type": "markdown",
   "metadata": {},
   "source": [
    "## EDA"
   ]
  },
  {
   "attachments": {},
   "cell_type": "markdown",
   "metadata": {},
   "source": [
    "Temos as informações de quais foram as movimentações no site. Sendo a de nosso interesse \"Cancellation Confirmation\" que foram as contas encerradas pelos clientes"
   ]
  },
  {
   "cell_type": "code",
   "execution_count": 7,
   "metadata": {},
   "outputs": [
    {
     "name": "stdout",
     "output_type": "stream",
     "text": [
      "+-------------------------+------+\n",
      "|page                     |page  |\n",
      "+-------------------------+------+\n",
      "|NextSong                 |228108|\n",
      "|Home                     |14457 |\n",
      "|Thumbs Up                |12551 |\n",
      "|Add to Playlist          |6526  |\n",
      "|Add Friend               |4277  |\n",
      "|Roll Advert              |3933  |\n",
      "|Login                    |3241  |\n",
      "|Logout                   |3226  |\n",
      "|Thumbs Down              |2546  |\n",
      "|Downgrade                |2055  |\n",
      "|Help                     |1726  |\n",
      "|Settings                 |1514  |\n",
      "|About                    |924   |\n",
      "|Upgrade                  |499   |\n",
      "|Save Settings            |310   |\n",
      "|Error                    |258   |\n",
      "|Submit Upgrade           |159   |\n",
      "|Submit Downgrade         |63    |\n",
      "|Cancel                   |52    |\n",
      "|Cancellation Confirmation|52    |\n",
      "+-------------------------+------+\n",
      "only showing top 20 rows\n",
      "\n"
     ]
    }
   ],
   "source": [
    "ssql.sql(\"select page, count(page) page \"+\n",
    "         \"from data \"+\n",
    "         \"group by page \"+\n",
    "         \"order by count(page) desc\").show(truncate=False)"
   ]
  },
  {
   "attachments": {},
   "cell_type": "markdown",
   "metadata": {},
   "source": [
    "Podemos perceper que há grande quantia de nulls, e que há pelo menos 3 colunas com as mesmas quantias, provavelmente se uma determinada coluna estiver com null as outras também estarão"
   ]
  },
  {
   "cell_type": "code",
   "execution_count": 8,
   "metadata": {},
   "outputs": [
    {
     "name": "stdout",
     "output_type": "stream",
     "text": [
      "Quantia de Nulls na coluna artist  58392\n",
      "Quantia de Nulls na coluna auth  0\n",
      "Quantia de Nulls na coluna firstName  8346\n",
      "Quantia de Nulls na coluna gender  8346\n",
      "Quantia de Nulls na coluna itemInSession  0\n",
      "Quantia de Nulls na coluna lastName  8346\n",
      "Quantia de Nulls na coluna length  58392\n",
      "Quantia de Nulls na coluna level  0\n",
      "Quantia de Nulls na coluna location  8346\n",
      "Quantia de Nulls na coluna method  0\n",
      "Quantia de Nulls na coluna page  0\n",
      "Quantia de Nulls na coluna registration  8346\n",
      "Quantia de Nulls na coluna sessionId  0\n",
      "Quantia de Nulls na coluna song  58392\n",
      "Quantia de Nulls na coluna status  0\n",
      "Quantia de Nulls na coluna ts  0\n",
      "Quantia de Nulls na coluna userAgent  8346\n",
      "Quantia de Nulls na coluna userId  8346\n"
     ]
    }
   ],
   "source": [
    "# Loop para contabilizar quantia de nulls em cada coluna\n",
    "for i in data.columns[1:]:\n",
    "    nulls = data.filter(f'{i} is NULL').count()\n",
    "    print(f'Quantia de Nulls na coluna {i} ', nulls)"
   ]
  },
  {
   "attachments": {},
   "cell_type": "markdown",
   "metadata": {},
   "source": [
    "Os valores que faltam podem seguir um certo padrão já que seguem uma sequência, esse problema será resolvido nas seguintes partes levando essa informação em conta, pois irei usar uma forma específica para lidar com os valores faltantes"
   ]
  },
  {
   "cell_type": "code",
   "execution_count": 9,
   "metadata": {},
   "outputs": [
    {
     "data": {
      "text/plain": [
       "58392"
      ]
     },
     "execution_count": 9,
     "metadata": {},
     "output_type": "execute_result"
    }
   ],
   "source": [
    "# Quando um das 3 colunas é null as outras duas também serão\n",
    "ssql.sql(\"select artist, length, song \"+\n",
    "         \"from data \"+\n",
    "         \"where artist is null and \"+\n",
    "         \"length is null and \"+\n",
    "         \"song is null\").count()"
   ]
  },
  {
   "cell_type": "code",
   "execution_count": 10,
   "metadata": {},
   "outputs": [
    {
     "data": {
      "text/plain": [
       "8346"
      ]
     },
     "execution_count": 10,
     "metadata": {},
     "output_type": "execute_result"
    }
   ],
   "source": [
    "# Quando um das 7 colunas é null as outras seis também serão\n",
    "ssql.sql(\"select firstName, gender, lastName, location, registration, userAgent, userID \"+\n",
    "         \"from data \"+\n",
    "         \"where gender is null and firstName is null and lastName is null and registration is null and \"+\n",
    "         \"userAgent is null and userID is null\").count()"
   ]
  },
  {
   "cell_type": "code",
   "execution_count": 11,
   "metadata": {},
   "outputs": [
    {
     "data": {
      "text/plain": [
       "8346"
      ]
     },
     "execution_count": 11,
     "metadata": {},
     "output_type": "execute_result"
    }
   ],
   "source": [
    "# Ao selecionar todas a variáveis que possuem null\n",
    "ssql.sql(\"select artist, length, song, firstName, gender, lastName, location, registration, userAgent, userID \"+\n",
    "         \"from data \"+\n",
    "         \"where artist is null and \"+\n",
    "         \"length is null and \"+\n",
    "         \"song is null and \"+\n",
    "         \"gender is null and firstName is null and lastName is null and \"+\n",
    "         \"registration is null and userAgent is null and userID is null\").count()"
   ]
  },
  {
   "cell_type": "code",
   "execution_count": 12,
   "metadata": {},
   "outputs": [
    {
     "name": "stdout",
     "output_type": "stream",
     "text": [
      "+------+----------+\n",
      "|gender|num_userID|\n",
      "+------+----------+\n",
      "|     M|        46|\n",
      "|     F|        43|\n",
      "|  null|         0|\n",
      "+------+----------+\n",
      "\n"
     ]
    }
   ],
   "source": [
    "# Quantia de usuários do serviço, separados por sexo\n",
    "ssql.sql(\"select gender,count(distinct userID) as num_userID \"+\n",
    "         \"from data \"+\n",
    "         \"group by gender \"+\n",
    "         \"order by count(distinct userID) desc\").show()"
   ]
  },
  {
   "cell_type": "code",
   "execution_count": 13,
   "metadata": {},
   "outputs": [
    {
     "name": "stdout",
     "output_type": "stream",
     "text": [
      "+----------+------+\n",
      "|      auth| authD|\n",
      "+----------+------+\n",
      "| Logged In|278102|\n",
      "|Logged Out|  8249|\n",
      "|     Guest|    97|\n",
      "| Cancelled|    52|\n",
      "+----------+------+\n",
      "\n"
     ]
    }
   ],
   "source": [
    "# Diferentes auth\n",
    "ssql.sql(\"select auth, count(auth) as authD \"+\n",
    "         \"from data \"+\n",
    "         \"group by auth \"+\n",
    "         \"order by count(auth) desc\").show()"
   ]
  },
  {
   "cell_type": "code",
   "execution_count": 14,
   "metadata": {},
   "outputs": [
    {
     "name": "stdout",
     "output_type": "stream",
     "text": [
      "+-------------+--------------------+\n",
      "|itemInSession|count(itemInSession)|\n",
      "+-------------+--------------------+\n",
      "|            0|                3278|\n",
      "|            1|                3125|\n",
      "|            2|                3067|\n",
      "|            3|                3013|\n",
      "|            4|                2977|\n",
      "|            5|                2925|\n",
      "|            6|                2886|\n",
      "|            7|                2857|\n",
      "|            8|                2816|\n",
      "|            9|                2771|\n",
      "|           10|                2717|\n",
      "|           11|                2672|\n",
      "|           12|                2636|\n",
      "|           13|                2600|\n",
      "|           14|                2561|\n",
      "|           15|                2523|\n",
      "|           16|                2497|\n",
      "|           17|                2461|\n",
      "|           18|                2417|\n",
      "|           19|                2381|\n",
      "+-------------+--------------------+\n",
      "only showing top 20 rows\n",
      "\n"
     ]
    }
   ],
   "source": [
    "ssql.sql(\"select itemInSession, count(itemInSession) \"+\n",
    "         \"from data \"+\n",
    "         \"group by itemInSession \"+\n",
    "         \"order by count(itemInSession) desc\").show()"
   ]
  },
  {
   "cell_type": "code",
   "execution_count": 15,
   "metadata": {},
   "outputs": [],
   "source": [
    "# Transformando uma variável de str para double\n",
    "data = data.withColumn(\"length\", data.length.cast('double'))\n",
    "\n",
    "# Transformando uma variável de str para double\n",
    "data = data.withColumn(\"_c0\", data._c0.cast('int'))"
   ]
  },
  {
   "cell_type": "code",
   "execution_count": 16,
   "metadata": {},
   "outputs": [],
   "source": [
    "# Criando um data frame no formato do pandas\n",
    "data_pd = data.toPandas()"
   ]
  },
  {
   "cell_type": "code",
   "execution_count": 17,
   "metadata": {},
   "outputs": [
    {
     "data": {
      "text/plain": [
       "<Axes: ylabel='Frequency'>"
      ]
     },
     "execution_count": 17,
     "metadata": {},
     "output_type": "execute_result"
    },
    {
     "data": {
      "image/png": "[encoded data removed]",
      "text/plain": [
       "<Figure size 640x480 with 1 Axes>"
      ]
     },
     "metadata": {},
     "output_type": "display_data"
    }
   ],
   "source": [
    "# hist da duração da sessões por segundo\n",
    "data_pd['length'].plot.hist(bins=50)"
   ]
  },
  {
   "cell_type": "code",
   "execution_count": 18,
   "metadata": {},
   "outputs": [
    {
     "data": {
      "text/plain": [
       "count    228108.000000\n",
       "mean        249.117182\n",
       "std          99.235179\n",
       "min           0.783220\n",
       "25%         199.888530\n",
       "50%         234.500770\n",
       "75%         277.158730\n",
       "max        3024.665670\n",
       "Name: length, dtype: float64"
      ]
     },
     "execution_count": 18,
     "metadata": {},
     "output_type": "execute_result"
    }
   ],
   "source": [
    "data_pd['length'].describe()"
   ]
  },
  {
   "attachments": {},
   "cell_type": "markdown",
   "metadata": {},
   "source": [
    "A forma que a localização foi salva não permite, sem que haja um tratamento, a distribuição dos usuários por região"
   ]
  },
  {
   "cell_type": "code",
   "execution_count": 19,
   "metadata": {},
   "outputs": [
    {
     "name": "stdout",
     "output_type": "stream",
     "text": [
      "+-------------------------------------------+--------+\n",
      "|location                                   |location|\n",
      "+-------------------------------------------+--------+\n",
      "|Los Angeles-Long Beach-Anaheim, CA         |30131   |\n",
      "|New York-Newark-Jersey City, NY-NJ-PA      |23684   |\n",
      "|Boston-Cambridge-Newton, MA-NH             |13873   |\n",
      "|Houston-The Woodlands-Sugar Land, TX       |9499    |\n",
      "|Charlotte-Concord-Gastonia, NC-SC          |7780    |\n",
      "|Dallas-Fort Worth-Arlington, TX            |7605    |\n",
      "|Louisville/Jefferson County, KY-IN         |6880    |\n",
      "|Philadelphia-Camden-Wilmington, PA-NJ-DE-MD|5890    |\n",
      "|Chicago-Naperville-Elgin, IL-IN-WI         |5114    |\n",
      "|St. Louis, MO-IL                           |4858    |\n",
      "|Phoenix-Mesa-Scottsdale, AZ                |4846    |\n",
      "|Vineland-Bridgeton, NJ                     |4825    |\n",
      "|Wilson, NC                                 |4659    |\n",
      "|Denver-Aurora-Lakewood, CO                 |4453    |\n",
      "|Ionia, MI                                  |4428    |\n",
      "|San Antonio-New Braunfels, TX              |4373    |\n",
      "|Danville, VA                               |4257    |\n",
      "|Atlanta-Sandy Springs-Roswell, GA          |4236    |\n",
      "|New Haven-Milford, CT                      |4007    |\n",
      "|Jackson, MS                                |3839    |\n",
      "+-------------------------------------------+--------+\n",
      "only showing top 20 rows\n",
      "\n"
     ]
    }
   ],
   "source": [
    "# Localização dos usuários do serviço\n",
    "ssql.sql(\"select location,count(location) as location \"+\n",
    "         \"from data \"+\n",
    "         \"group by location \"+\n",
    "         \"order by count(location) desc\").show(truncate=False)"
   ]
  },
  {
   "attachments": {},
   "cell_type": "markdown",
   "metadata": {},
   "source": [
    "## Data Preprocessing"
   ]
  },
  {
   "attachments": {},
   "cell_type": "markdown",
   "metadata": {},
   "source": [
    "Com a exploração feita temos uma pequena noção do que deve ser ajeitado para termos os dados em um melhor formato. Para então, depois que tivermos esses dados melhores tratados poderemos explorar alguns detalhes finais, e voltar a processar os dados caso for necessário."
   ]
  },
  {
   "attachments": {},
   "cell_type": "markdown",
   "metadata": {},
   "source": [
    "Iremos começar adicionando mais uma variável ao data set representando se determinado usuário deixou de usar o serviço (churn)"
   ]
  },
  {
   "cell_type": "code",
   "execution_count": 20,
   "metadata": {},
   "outputs": [],
   "source": [
    "# Adicionando coluna int para churn\n",
    "data = data.withColumn('churn', F.when((data.page == 'Cancellation Confirmation'), F.lit(1))\\\n",
    "                     .otherwise(F.lit(0)))\n",
    "# Nova coluna int para pago ou não pago\n",
    "data = data.withColumn('paid', F.when((data.level == 'paid'), F.lit(1))\\\n",
    "                     .otherwise(F.lit(0)))\n",
    "\n",
    "# Nova coluna int para sexo feminino ou não(masculino)\n",
    "data = data.withColumn('Feminino', F.when((data.gender == 'F'), F.lit(1))\\\n",
    "                       .when((data.gender == 'M'), F.lit(0)).otherwise('null'))\n",
    "\n",
    "# O se o a chamda HTTP foi get ou não\n",
    "data = data.withColumn('method_GET', F.when((data.method == 'GET'), F.lit(1))\\\n",
    "                     .otherwise(F.lit(0)))"
   ]
  },
  {
   "attachments": {},
   "cell_type": "markdown",
   "metadata": {},
   "source": [
    "Podemos perceber que o dataset não está tão desbalanceado em questão ao churn 1 e não-churn 0. "
   ]
  },
  {
   "cell_type": "code",
   "execution_count": 21,
   "metadata": {},
   "outputs": [
    {
     "data": {
      "text/plain": [
       "churn\n",
       "0    54\n",
       "1    25\n",
       "Name: count, dtype: int64"
      ]
     },
     "execution_count": 21,
     "metadata": {},
     "output_type": "execute_result"
    }
   ],
   "source": [
    "# Quantia de churns\n",
    "pd_churn = data.select(['userId', 'churn']).groupBy(['userId']).agg(F.max('churn').alias('churn')).toPandas()\n",
    "pd_churn['churn'].value_counts()"
   ]
  },
  {
   "cell_type": "code",
   "execution_count": 22,
   "metadata": {},
   "outputs": [
    {
     "data": {
      "text/plain": [
       "<BarContainer object of 2 artists>"
      ]
     },
     "execution_count": 22,
     "metadata": {},
     "output_type": "execute_result"
    },
    {
     "data": {
      "image/png": "[encoded data removed]",
      "text/plain": [
       "<Figure size 640x480 with 1 Axes>"
      ]
     },
     "metadata": {},
     "output_type": "display_data"
    }
   ],
   "source": [
    "# Plotar um gráfico de barra com a quantia de churn 1 e não-churn 0\n",
    "x = pd_churn['churn'].value_counts().index\n",
    "y = pd_churn['churn'].value_counts()\n",
    "plt.bar(x=x, height=y)"
   ]
  },
  {
   "attachments": {},
   "cell_type": "markdown",
   "metadata": {},
   "source": [
    "Iremos fazer One-hot-encode em variáveis str com mais de 2 classes. Para usar o One_hot_encode iremos criar uma função, pois as que encontrei disponível em pyspark não atende as necessidades."
   ]
  },
  {
   "cell_type": "code",
   "execution_count": 23,
   "metadata": {},
   "outputs": [],
   "source": [
    "# Função para One_hot_encode\n",
    "def One_hot_encode(data_set, coluna):\n",
    "    for i in data_set.select(coluna).distinct().collect():\n",
    "        data_set = data_set.withColumn(i[coluna]+' _One_hot', F.when((data_set[coluna] == i[coluna]), F.lit(1))\\\n",
    "                     .otherwise(F.lit(0)))\n",
    "    return data_set\n",
    "\n",
    "data = One_hot_encode(data, 'auth')"
   ]
  },
  {
   "cell_type": "code",
   "execution_count": 24,
   "metadata": {},
   "outputs": [],
   "source": [
    "# Encluindo colunas que foram representadas de outra forma\n",
    "data = data.drop('gender').drop('level').drop('method').drop('auth').drop('Cancelled One_hot')\n",
    "# CancelledOne_hot = churn"
   ]
  },
  {
   "cell_type": "code",
   "execution_count": 25,
   "metadata": {},
   "outputs": [
    {
     "name": "stdout",
     "output_type": "stream",
     "text": [
      "+---+--------------------+---------+-------------+--------+---------+--------------------+---------------+---------------+---------+--------------------+------+-------------+--------------------+--------------------+-----+----+--------+----------+-------------------+------------------+------------------+--------------+\n",
      "|_c0|              artist|firstName|itemInSession|lastName|   length|            location|           page|   registration|sessionId|                song|status|           ts|           userAgent|              userId|churn|paid|Feminino|method_GET|Logged Out _One_hot|Cancelled _One_hot|Logged In _One_hot|Guest _One_hot|\n",
      "+---+--------------------+---------+-------------+--------+---------+--------------------+---------------+---------------+---------+--------------------+------+-------------+--------------------+--------------------+-----+----+--------+----------+-------------------+------------------+------------------+--------------+\n",
      "|  0|      Martha Tilston|    Colin|           50| Freeman|277.89016|     Bakersfield, CA|       NextSong|1538173362000.0|       29|           Rockpools|   200|1538352117000|Mozilla/5.0 (Wind...|                  30|    0|   1|       0|         0|                  0|                 0|                 1|             0|\n",
      "|  1|    Five Iron Frenzy|    Micah|           79|    Long|236.09424|Boston-Cambridge-...|       NextSong|1538331630000.0|        8|              Canada|   200|1538352180000|\"\"\"Mozilla/5.0 (W...| like Gecko) Chro...|    0|   0|       0|         0|                  0|                 0|                 1|             0|\n",
      "|  2|        Adam Lambert|    Colin|           51| Freeman| 282.8273|     Bakersfield, CA|       NextSong|1538173362000.0|       29|   Time For Miracles|   200|1538352394000|Mozilla/5.0 (Wind...|                  30|    0|   1|       0|         0|                  0|                 0|                 1|             0|\n",
      "|  3|              Enigma|    Micah|           80|    Long|262.71302|Boston-Cambridge-...|       NextSong|1538331630000.0|        8|Knocking On Forbi...|   200|1538352416000|\"\"\"Mozilla/5.0 (W...| like Gecko) Chro...|    0|   0|       0|         0|                  0|                 0|                 1|             0|\n",
      "|  4|           Daft Punk|    Colin|           52| Freeman|223.60771|     Bakersfield, CA|       NextSong|1538173362000.0|       29|Harder Better Fas...|   200|1538352676000|Mozilla/5.0 (Wind...|                  30|    0|   1|       0|         0|                  0|                 0|                 1|             0|\n",
      "|  5|The All-American ...|    Micah|           81|    Long|208.29995|Boston-Cambridge-...|       NextSong|1538331630000.0|        8|      Don't Leave Me|   200|1538352678000|\"\"\"Mozilla/5.0 (W...| like Gecko) Chro...|    0|   0|       0|         0|                  0|                 0|                 1|             0|\n",
      "|  6|The Velvet Underg...|    Micah|           82|    Long|260.46649|Boston-Cambridge-...|       NextSong|1538331630000.0|        8|         Run Run Run|   200|1538352886000|\"\"\"Mozilla/5.0 (W...| like Gecko) Chro...|    0|   0|       0|         0|                  0|                 0|                 1|             0|\n",
      "|  7|        Starflyer 59|    Colin|           53| Freeman|185.44281|     Bakersfield, CA|       NextSong|1538173362000.0|       29|Passengers (Old A...|   200|1538352899000|Mozilla/5.0 (Wind...|                  30|    0|   1|       0|         0|                  0|                 0|                 1|             0|\n",
      "|  8|                null|    Colin|           54| Freeman|     null|     Bakersfield, CA|Add to Playlist|1538173362000.0|       29|                null|   200|1538352905000|Mozilla/5.0 (Wind...|                  30|    0|   1|       0|         0|                  0|                 0|                 1|             0|\n",
      "|  9|            Frumpies|    Colin|           55| Freeman|134.47791|     Bakersfield, CA|       NextSong|1538173362000.0|       29|          Fuck Kitty|   200|1538353084000|Mozilla/5.0 (Wind...|                  30|    0|   1|       0|         0|                  0|                 0|                 1|             0|\n",
      "| 10|        Britt Nicole|    Micah|           83|    Long| 229.8771|Boston-Cambridge-...|       NextSong|1538331630000.0|        8|   Walk On The Water|   200|1538353146000|\"\"\"Mozilla/5.0 (W...| like Gecko) Chro...|    0|   0|       0|         0|                  0|                 0|                 1|             0|\n",
      "| 11|                null|    Micah|           84|    Long|     null|Boston-Cambridge-...|    Roll Advert|1538331630000.0|        8|                null|   200|1538353150000|\"\"\"Mozilla/5.0 (W...| like Gecko) Chro...|    0|   0|       0|         1|                  0|                 0|                 1|             0|\n",
      "| 12|Edward Sharpe & T...|    Colin|           56| Freeman|223.58159|     Bakersfield, CA|       NextSong|1538173362000.0|       29|                Jade|   200|1538353218000|Mozilla/5.0 (Wind...|                  30|    0|   1|       0|         0|                  0|                 0|                 1|             0|\n",
      "| 13|               Tesla|    Micah|           85|    Long|201.06404|Boston-Cambridge-...|       NextSong|1538331630000.0|        8|      Gettin' Better|   200|1538353375000|\"\"\"Mozilla/5.0 (W...| like Gecko) Chro...|    0|   0|       0|         0|                  0|                 0|                 1|             0|\n",
      "| 14|                null|    Micah|           86|    Long|     null|Boston-Cambridge-...|      Thumbs Up|1538331630000.0|        8|                null|   307|1538353376000|\"\"\"Mozilla/5.0 (W...| like Gecko) Chro...|    0|   0|       0|         0|                  0|                 0|                 1|             0|\n",
      "| 15|         Stan Mosley|    Colin|           57| Freeman|246.69995|     Bakersfield, CA|       NextSong|1538173362000.0|       29|   So-Called Friends|   200|1538353441000|Mozilla/5.0 (Wind...|                  30|    0|   1|       0|         0|                  0|                 0|                 1|             0|\n",
      "| 16|Florence + The Ma...|    Micah|           87|    Long|168.64608|Boston-Cambridge-...|       NextSong|1538331630000.0|        8| You've Got The Love|   200|1538353576000|\"\"\"Mozilla/5.0 (W...| like Gecko) Chro...|    0|   0|       0|         0|                  0|                 0|                 1|             0|\n",
      "| 17|   Tokyo Police Club|  Ashlynn|            0|Williams| 166.1122|     Tallahassee, FL|       NextSong|1537365219000.0|      217|Citizens Of Tomorrow|   200|1538353668000|\"\"\"Mozilla/5.0 (M...| like Gecko) Chro...|    0|   0|       1|         0|                  0|                 0|                 1|             0|\n",
      "| 18|             Orishas|    Colin|           58| Freeman|222.22322|     Bakersfield, CA|       NextSong|1538173362000.0|       29|           Represent|   200|1538353687000|Mozilla/5.0 (Wind...|                  30|    0|   1|       0|         0|                  0|                 0|                 1|             0|\n",
      "| 19|             Ratatat|    Micah|           88|    Long|229.77261|Boston-Cambridge-...|       NextSong|1538331630000.0|        8|              Swisha|   200|1538353744000|\"\"\"Mozilla/5.0 (W...| like Gecko) Chro...|    0|   0|       0|         0|                  0|                 0|                 1|             0|\n",
      "+---+--------------------+---------+-------------+--------+---------+--------------------+---------------+---------------+---------+--------------------+------+-------------+--------------------+--------------------+-----+----+--------+----------+-------------------+------------------+------------------+--------------+\n",
      "only showing top 20 rows\n",
      "\n"
     ]
    }
   ],
   "source": [
    "data.show()"
   ]
  },
  {
   "attachments": {},
   "cell_type": "markdown",
   "metadata": {},
   "source": [
    "Registration e ts são variáveis do tipo date, porem não estão configuradas do jeito que lemos, então farei um processo para processa-los. Porem o caminho mais fácil está dando problemas, ao pesquisá-lo diz ser questão de versão em compatibilidade, podendo ser do java, python,  spark ou hadoop, testei em outras versões algum deles porem sem sucesso, então o caminho será um pouco mais longo"
   ]
  },
  {
   "cell_type": "code",
   "execution_count": 26,
   "metadata": {},
   "outputs": [
    {
     "data": {
      "text/plain": [
       "['0,2018-09-30 21:01:57',\n",
       " '1,2018-09-30 21:03:00',\n",
       " '2,2018-09-30 21:06:34',\n",
       " '3,2018-09-30 21:06:56',\n",
       " '4,2018-09-30 21:11:16']"
      ]
     },
     "execution_count": 26,
     "metadata": {},
     "output_type": "execute_result"
    }
   ],
   "source": [
    "# Loop por toda coluna em ts passando os dados para %Y-%m-%d %H:%M:%S\n",
    "count = 0\n",
    "date1 = []\n",
    "for i in data.select('ts').collect():\n",
    "    date = datetime.datetime.fromtimestamp(int(i.ts) / 1000.0)\\\n",
    "        .strftime(\"%Y-%m-%d %H:%M:%S\")\n",
    "    date1.append(str(count)+','+date)\n",
    "    count+=1\n",
    "date1[:5]"
   ]
  },
  {
   "cell_type": "code",
   "execution_count": 27,
   "metadata": {},
   "outputs": [
    {
     "data": {
      "text/plain": [
       "['0,2018-09-28 19:22:42',\n",
       " '1,2018-09-30 15:20:30',\n",
       " '2,2018-09-28 19:22:42',\n",
       " '3,2018-09-30 15:20:30',\n",
       " '4,2018-09-28 19:22:42']"
      ]
     },
     "execution_count": 27,
     "metadata": {},
     "output_type": "execute_result"
    }
   ],
   "source": [
    "# Loop por toda coluna em restration passando os dados para %Y-%m-%d %H:%M:%S\n",
    "count = 0\n",
    "date2 = []\n",
    "for i in data.select('registration').collect():\n",
    "    # registration possui alguns Nan values que causam erro. E por condição é muito custoso\n",
    "    try:\n",
    "        date = datetime.datetime.fromtimestamp(float(i.registration) / 1000.0)\\\n",
    "            .strftime(\"%Y-%m-%d %H:%M:%S\")\n",
    "    except:\n",
    "        date = 'None'\n",
    "    date2.append(str(count)+','+date)\n",
    "    count+=1\n",
    "date2[:5]"
   ]
  },
  {
   "attachments": {},
   "cell_type": "markdown",
   "metadata": {},
   "source": [
    "O jeito mais fácil para passar esses dados para o dataframe foi transformando cada lista (date1, date2) em um próprio dataframe para então depois usar um join em cada no dataframe principal (data).\n",
    "Tive problemas em juntar os dois dataframe (date1, date2) para então fazer um join com data. (Seria menos custos)"
   ]
  },
  {
   "cell_type": "code",
   "execution_count": 28,
   "metadata": {},
   "outputs": [],
   "source": [
    "# Excluindo as colunas com os dados antigos\n",
    "#            data = data.drop('ts').drop('registration')\n",
    "\n",
    "# Dataframe da lista com date1\n",
    "date1 = sc.parallelize(date1)\n",
    "date1 = date1.map(lambda x: x.split(','))\n",
    "date1 = date1.mapValues(lambda x: x)\n",
    "date1 = ssql.createDataFrame(date1)\n",
    "date1 = date1.withColumnRenamed('_2', 'ts_1')\n",
    "data = data.join(date1, data._c0 == date1._1, 'inner')\n",
    "\n",
    "# Dataframe da lista com date2\n",
    "date2 = sc.parallelize(date2)\n",
    "date2 = date2.map(lambda x: x.split(','))\n",
    "date2 = date2.mapValues(lambda x: x)\n",
    "date2 = ssql.createDataFrame(date2)\n",
    "date2 = date2.withColumnRenamed('_2', 'registration_1')\n",
    "data = data.join(date2, data._c0 == date2._1, 'inner')\n",
    "\n",
    "# Excluindo o index usado para juntar os 3 dataframe\n",
    "data = data.drop('_1')"
   ]
  },
  {
   "cell_type": "code",
   "execution_count": 29,
   "metadata": {},
   "outputs": [
    {
     "name": "stdout",
     "output_type": "stream",
     "text": [
      "+---+--------------------+---------+-------------+--------+---------+--------------------+---------------+---------------+---------+--------------------+------+-------------+--------------------+--------------------+-----+----+--------+----------+-------------------+------------------+------------------+--------------+-------------------+-------------------+\n",
      "|_c0|              artist|firstName|itemInSession|lastName|   length|            location|           page|   registration|sessionId|                song|status|           ts|           userAgent|              userId|churn|paid|Feminino|method_GET|Logged Out _One_hot|Cancelled _One_hot|Logged In _One_hot|Guest _One_hot|               ts_1|     registration_1|\n",
      "+---+--------------------+---------+-------------+--------+---------+--------------------+---------------+---------------+---------+--------------------+------+-------------+--------------------+--------------------+-----+----+--------+----------+-------------------+------------------+------------------+--------------+-------------------+-------------------+\n",
      "|  0|      Martha Tilston|    Colin|           50| Freeman|277.89016|     Bakersfield, CA|       NextSong|1538173362000.0|       29|           Rockpools|   200|1538352117000|Mozilla/5.0 (Wind...|                  30|    0|   1|       0|         0|                  0|                 0|                 1|             0|2018-09-30 21:01:57|2018-09-28 19:22:42|\n",
      "|  1|    Five Iron Frenzy|    Micah|           79|    Long|236.09424|Boston-Cambridge-...|       NextSong|1538331630000.0|        8|              Canada|   200|1538352180000|\"\"\"Mozilla/5.0 (W...| like Gecko) Chro...|    0|   0|       0|         0|                  0|                 0|                 1|             0|2018-09-30 21:03:00|2018-09-30 15:20:30|\n",
      "|  2|        Adam Lambert|    Colin|           51| Freeman| 282.8273|     Bakersfield, CA|       NextSong|1538173362000.0|       29|   Time For Miracles|   200|1538352394000|Mozilla/5.0 (Wind...|                  30|    0|   1|       0|         0|                  0|                 0|                 1|             0|2018-09-30 21:06:34|2018-09-28 19:22:42|\n",
      "|  3|              Enigma|    Micah|           80|    Long|262.71302|Boston-Cambridge-...|       NextSong|1538331630000.0|        8|Knocking On Forbi...|   200|1538352416000|\"\"\"Mozilla/5.0 (W...| like Gecko) Chro...|    0|   0|       0|         0|                  0|                 0|                 1|             0|2018-09-30 21:06:56|2018-09-30 15:20:30|\n",
      "|  4|           Daft Punk|    Colin|           52| Freeman|223.60771|     Bakersfield, CA|       NextSong|1538173362000.0|       29|Harder Better Fas...|   200|1538352676000|Mozilla/5.0 (Wind...|                  30|    0|   1|       0|         0|                  0|                 0|                 1|             0|2018-09-30 21:11:16|2018-09-28 19:22:42|\n",
      "|  5|The All-American ...|    Micah|           81|    Long|208.29995|Boston-Cambridge-...|       NextSong|1538331630000.0|        8|      Don't Leave Me|   200|1538352678000|\"\"\"Mozilla/5.0 (W...| like Gecko) Chro...|    0|   0|       0|         0|                  0|                 0|                 1|             0|2018-09-30 21:11:18|2018-09-30 15:20:30|\n",
      "|  6|The Velvet Underg...|    Micah|           82|    Long|260.46649|Boston-Cambridge-...|       NextSong|1538331630000.0|        8|         Run Run Run|   200|1538352886000|\"\"\"Mozilla/5.0 (W...| like Gecko) Chro...|    0|   0|       0|         0|                  0|                 0|                 1|             0|2018-09-30 21:14:46|2018-09-30 15:20:30|\n",
      "|  7|        Starflyer 59|    Colin|           53| Freeman|185.44281|     Bakersfield, CA|       NextSong|1538173362000.0|       29|Passengers (Old A...|   200|1538352899000|Mozilla/5.0 (Wind...|                  30|    0|   1|       0|         0|                  0|                 0|                 1|             0|2018-09-30 21:14:59|2018-09-28 19:22:42|\n",
      "|  8|                null|    Colin|           54| Freeman|     null|     Bakersfield, CA|Add to Playlist|1538173362000.0|       29|                null|   200|1538352905000|Mozilla/5.0 (Wind...|                  30|    0|   1|       0|         0|                  0|                 0|                 1|             0|2018-09-30 21:15:05|2018-09-28 19:22:42|\n",
      "|  9|            Frumpies|    Colin|           55| Freeman|134.47791|     Bakersfield, CA|       NextSong|1538173362000.0|       29|          Fuck Kitty|   200|1538353084000|Mozilla/5.0 (Wind...|                  30|    0|   1|       0|         0|                  0|                 0|                 1|             0|2018-09-30 21:18:04|2018-09-28 19:22:42|\n",
      "| 10|        Britt Nicole|    Micah|           83|    Long| 229.8771|Boston-Cambridge-...|       NextSong|1538331630000.0|        8|   Walk On The Water|   200|1538353146000|\"\"\"Mozilla/5.0 (W...| like Gecko) Chro...|    0|   0|       0|         0|                  0|                 0|                 1|             0|2018-09-30 21:19:06|2018-09-30 15:20:30|\n",
      "| 11|                null|    Micah|           84|    Long|     null|Boston-Cambridge-...|    Roll Advert|1538331630000.0|        8|                null|   200|1538353150000|\"\"\"Mozilla/5.0 (W...| like Gecko) Chro...|    0|   0|       0|         1|                  0|                 0|                 1|             0|2018-09-30 21:19:10|2018-09-30 15:20:30|\n",
      "| 12|Edward Sharpe & T...|    Colin|           56| Freeman|223.58159|     Bakersfield, CA|       NextSong|1538173362000.0|       29|                Jade|   200|1538353218000|Mozilla/5.0 (Wind...|                  30|    0|   1|       0|         0|                  0|                 0|                 1|             0|2018-09-30 21:20:18|2018-09-28 19:22:42|\n",
      "| 13|               Tesla|    Micah|           85|    Long|201.06404|Boston-Cambridge-...|       NextSong|1538331630000.0|        8|      Gettin' Better|   200|1538353375000|\"\"\"Mozilla/5.0 (W...| like Gecko) Chro...|    0|   0|       0|         0|                  0|                 0|                 1|             0|2018-09-30 21:22:55|2018-09-30 15:20:30|\n",
      "| 14|                null|    Micah|           86|    Long|     null|Boston-Cambridge-...|      Thumbs Up|1538331630000.0|        8|                null|   307|1538353376000|\"\"\"Mozilla/5.0 (W...| like Gecko) Chro...|    0|   0|       0|         0|                  0|                 0|                 1|             0|2018-09-30 21:22:56|2018-09-30 15:20:30|\n",
      "| 15|         Stan Mosley|    Colin|           57| Freeman|246.69995|     Bakersfield, CA|       NextSong|1538173362000.0|       29|   So-Called Friends|   200|1538353441000|Mozilla/5.0 (Wind...|                  30|    0|   1|       0|         0|                  0|                 0|                 1|             0|2018-09-30 21:24:01|2018-09-28 19:22:42|\n",
      "| 16|Florence + The Ma...|    Micah|           87|    Long|168.64608|Boston-Cambridge-...|       NextSong|1538331630000.0|        8| You've Got The Love|   200|1538353576000|\"\"\"Mozilla/5.0 (W...| like Gecko) Chro...|    0|   0|       0|         0|                  0|                 0|                 1|             0|2018-09-30 21:26:16|2018-09-30 15:20:30|\n",
      "| 17|   Tokyo Police Club|  Ashlynn|            0|Williams| 166.1122|     Tallahassee, FL|       NextSong|1537365219000.0|      217|Citizens Of Tomorrow|   200|1538353668000|\"\"\"Mozilla/5.0 (M...| like Gecko) Chro...|    0|   0|       1|         0|                  0|                 0|                 1|             0|2018-09-30 21:27:48|2018-09-19 10:53:39|\n",
      "| 18|             Orishas|    Colin|           58| Freeman|222.22322|     Bakersfield, CA|       NextSong|1538173362000.0|       29|           Represent|   200|1538353687000|Mozilla/5.0 (Wind...|                  30|    0|   1|       0|         0|                  0|                 0|                 1|             0|2018-09-30 21:28:07|2018-09-28 19:22:42|\n",
      "| 19|             Ratatat|    Micah|           88|    Long|229.77261|Boston-Cambridge-...|       NextSong|1538331630000.0|        8|              Swisha|   200|1538353744000|\"\"\"Mozilla/5.0 (W...| like Gecko) Chro...|    0|   0|       0|         0|                  0|                 0|                 1|             0|2018-09-30 21:29:04|2018-09-30 15:20:30|\n",
      "+---+--------------------+---------+-------------+--------+---------+--------------------+---------------+---------------+---------+--------------------+------+-------------+--------------------+--------------------+-----+----+--------+----------+-------------------+------------------+------------------+--------------+-------------------+-------------------+\n",
      "only showing top 20 rows\n",
      "\n"
     ]
    }
   ],
   "source": [
    "# Passando _c0 para int, e colocando em ordem\n",
    "data = data.withColumn(\"_c0\", data._c0.cast('int'))\n",
    "data = data.orderBy('_c0')\n",
    "data.show()"
   ]
  },
  {
   "attachments": {},
   "cell_type": "markdown",
   "metadata": {},
   "source": [
    "Devemos agora tratar os nulls. Eles realmente tem um padrão, porem como poderemos observar os padrões são esperados. Por exemplo, o tamanho da música irá ser null com certeza se não houver músicas tocando. Apenas em relação aos \"userId\" não podemos ter nulls já que é com base neles que obteremos informações."
   ]
  },
  {
   "cell_type": "code",
   "execution_count": 30,
   "metadata": {},
   "outputs": [
    {
     "name": "stdout",
     "output_type": "stream",
     "text": [
      "+--------+\n",
      "|page    |\n",
      "+--------+\n",
      "|NextSong|\n",
      "+--------+\n",
      "\n"
     ]
    }
   ],
   "source": [
    "# Irá retornar o tipo da interação do usuário quando o tamanho da música é null\n",
    "ssql.sql(\"select page \"+\n",
    "         \"from data \"+\n",
    "         \"where length is not null \"+\n",
    "         \"group by page \"+\n",
    "         \"order by count(page) desc\").show(truncate=False)"
   ]
  },
  {
   "cell_type": "code",
   "execution_count": 31,
   "metadata": {},
   "outputs": [
    {
     "name": "stdout",
     "output_type": "stream",
     "text": [
      "+-------------------+\n",
      "|               page|\n",
      "+-------------------+\n",
      "|               Home|\n",
      "|              Login|\n",
      "|              About|\n",
      "|               Help|\n",
      "|           Register|\n",
      "|              Error|\n",
      "|Submit Registration|\n",
      "+-------------------+\n",
      "\n"
     ]
    }
   ],
   "source": [
    "# Irá retornar o tipo da interação do usuário quando o sexo (e todos os outros) são null\n",
    "# (artist, length, song, firstName, gender, lastName, location, registration, userAgent, userID)\n",
    "ssql.sql(\"select page \"+\n",
    "         \"from data \"+\n",
    "         \"where gender is null \"+      \n",
    "         \"group by page \"+\n",
    "         \"order by count(page) desc\").show()"
   ]
  },
  {
   "cell_type": "code",
   "execution_count": 32,
   "metadata": {},
   "outputs": [
    {
     "name": "stdout",
     "output_type": "stream",
     "text": [
      "+--------------------+\n",
      "|                page|\n",
      "+--------------------+\n",
      "|            NextSong|\n",
      "|           Thumbs Up|\n",
      "|                Home|\n",
      "|     Add to Playlist|\n",
      "|          Add Friend|\n",
      "|         Roll Advert|\n",
      "|              Logout|\n",
      "|         Thumbs Down|\n",
      "|           Downgrade|\n",
      "|            Settings|\n",
      "|                Help|\n",
      "|             Upgrade|\n",
      "|               About|\n",
      "|       Save Settings|\n",
      "|               Error|\n",
      "|      Submit Upgrade|\n",
      "|    Submit Downgrade|\n",
      "|              Cancel|\n",
      "|Cancellation Conf...|\n",
      "+--------------------+\n",
      "\n"
     ]
    }
   ],
   "source": [
    "# Irá retornar o tipo da interação do usuário quando o sexo (e todos os outros) não são null\n",
    "# (artist, length, song, firstName, gender, lastName, location, registration, userAgent, userID)\n",
    "ssql.sql(\"select page \"+\n",
    "         \"from data \"+\n",
    "         \"where gender is not null \"+      \n",
    "         \"group by page \"+\n",
    "         \"order by count(page) desc\").show()"
   ]
  },
  {
   "cell_type": "code",
   "execution_count": 33,
   "metadata": {},
   "outputs": [
    {
     "name": "stdout",
     "output_type": "stream",
     "text": [
      "+--------------------+\n",
      "|                page|\n",
      "+--------------------+\n",
      "|            NextSong|\n",
      "|           Thumbs Up|\n",
      "|                Home|\n",
      "|     Add to Playlist|\n",
      "|          Add Friend|\n",
      "|         Roll Advert|\n",
      "|              Logout|\n",
      "|         Thumbs Down|\n",
      "|           Downgrade|\n",
      "|            Settings|\n",
      "|                Help|\n",
      "|             Upgrade|\n",
      "|               About|\n",
      "|       Save Settings|\n",
      "|               Error|\n",
      "|      Submit Upgrade|\n",
      "|    Submit Downgrade|\n",
      "|              Cancel|\n",
      "|Cancellation Conf...|\n",
      "+--------------------+\n",
      "\n"
     ]
    }
   ],
   "source": [
    "ssql.sql(\"select page \"+\n",
    "         \"from data \"+\n",
    "         \"where userID is not null \"+      \n",
    "         \"group by page \"+\n",
    "         \"order by count(page) desc\").show()"
   ]
  },
  {
   "attachments": {},
   "cell_type": "markdown",
   "metadata": {},
   "source": [
    "Então não haverá necessidade de tratar esses null values já que são normais, o mesmo para userId porem não podemos aceitar nulls nessa categoria."
   ]
  },
  {
   "cell_type": "code",
   "execution_count": 34,
   "metadata": {},
   "outputs": [],
   "source": [
    "data = data.select('*').where('userId is not NULL')"
   ]
  },
  {
   "attachments": {},
   "cell_type": "markdown",
   "metadata": {},
   "source": [
    "## Data Engineering\n",
    "\n",
    "Agora iremos começar a criar algumas variáveis que podem ser importantes para prever se um cancelamento na assinatura pode acontecer. Iremos agrupar todos pelo item userId.\n",
    "\n",
    "* Tempo médio do usuário no aplicativo por sessão\n",
    "* Tempo mínimo do usuário no aplicativo\n",
    "* Tempo máximo do usuário no aplicativo por sessão\n",
    "* Quantia de dislikes\n",
    "* Quantia de likes\n",
    "* Quantia de músicas escutada\n",
    "* Quantia de músicas em playlist\n",
    "* Quantia de dislikes\n",
    "* Usuários com assinatura paga\n",
    "* Usuários que cancelaram assinatura"
   ]
  },
  {
   "attachments": {},
   "cell_type": "markdown",
   "metadata": {},
   "source": [
    "O tempo que o usuário passa por sessão parece ser uma métrica importante. Irei criá-la e depois ao juntar essa com outras informações num data set, como será feito por userId, penso em colocar informações como a média por sessão, e outras transformações que permitiram usá-las. Uma coisa que devemos cuidar é com a quantia de variáveis que teremos nesse data set já que não há um histórico muito grande de usuários, adicionar muita complexidade iremos causar overfitting"
   ]
  },
  {
   "cell_type": "code",
   "execution_count": 35,
   "metadata": {},
   "outputs": [
    {
     "name": "stdout",
     "output_type": "stream",
     "text": [
      "+--------------------+---------+------------+\n",
      "|              userId|sessionId|tempo_sessao|\n",
      "+--------------------+---------+------------+\n",
      "| like Gecko) Chro...|      101|     29003.0|\n",
      "| like Gecko) Chro...|      116|      2555.0|\n",
      "| like Gecko) Chro...|      120|      2390.0|\n",
      "| like Gecko) Chro...|      123|     78344.0|\n",
      "| like Gecko) Chro...|      129|     10137.0|\n",
      "+--------------------+---------+------------+\n",
      "only showing top 5 rows\n",
      "\n"
     ]
    }
   ],
   "source": [
    "# Tempo de entrada até a saída de uma sessão (em segundos)\n",
    "usuario_temp = data.where(data.userId != \"\").groupby(['userId','sessionId']) \\\n",
    "            .agg(((F.max('ts') - F.min('ts'))/1000).alias('tempo_sessao'))\n",
    "usuario_temp.show(n=5)"
   ]
  },
  {
   "attachments": {},
   "cell_type": "markdown",
   "metadata": {},
   "source": [
    "user será o data set utilizado para treinar o modelo de ML, iremos colocar todas as novas variáveis nela por meio de join em userId"
   ]
  },
  {
   "cell_type": "code",
   "execution_count": 36,
   "metadata": {},
   "outputs": [
    {
     "name": "stdout",
     "output_type": "stream",
     "text": [
      "+--------------------+----------+----------+------------------+\n",
      "|              userId|max_sessao|min_sessao|       mean_sessao|\n",
      "+--------------------+----------+----------+------------------+\n",
      "|                   7|   18678.0|     244.0| 5258.428571428572|\n",
      "|                  54|  122592.0|       0.0| 19337.37837837838|\n",
      "| like Gecko) Chro...|  120472.0|       0.0|19173.673076923078|\n",
      "|                 101|  198001.0|    1431.0|           49054.8|\n",
      "|                  11|   41310.0|    1173.0|          9682.625|\n",
      "+--------------------+----------+----------+------------------+\n",
      "only showing top 5 rows\n",
      "\n"
     ]
    }
   ],
   "source": [
    "# Tem média, máximo e mínimo da duração do usuário entre suas sessões\n",
    "user = usuario_temp.groupby(['userId']).agg(F.max('tempo_sessao').alias('max_sessao'), F.min('tempo_sessao').alias('min_sessao'), F.mean('tempo_sessao').alias('mean_sessao'))\n",
    "user.show(n=5)"
   ]
  },
  {
   "cell_type": "code",
   "execution_count": 37,
   "metadata": {},
   "outputs": [
    {
     "name": "stdout",
     "output_type": "stream",
     "text": [
      "+--------------------+------+\n",
      "|              userID|musica|\n",
      "+--------------------+------+\n",
      "|                   7|   150|\n",
      "|                  54|  2841|\n",
      "| like Gecko) Chro...| 12168|\n",
      "|                 101|  1797|\n",
      "|                  11|   647|\n",
      "+--------------------+------+\n",
      "only showing top 5 rows\n",
      "\n"
     ]
    }
   ],
   "source": [
    "# Quantia de músicas escutadas por cada usuário\n",
    "musicas = data.select('userID', 'page').where(data.page == 'NextSong').groupBy('userID').count() \\\n",
    "                    .withColumnRenamed('count', 'musica')\n",
    "musicas.show(n=5)"
   ]
  },
  {
   "cell_type": "code",
   "execution_count": 38,
   "metadata": {},
   "outputs": [
    {
     "name": "stdout",
     "output_type": "stream",
     "text": [
      "+--------------------+----+\n",
      "|              userId|like|\n",
      "+--------------------+----+\n",
      "|                   7|   7|\n",
      "|                  54| 163|\n",
      "| like Gecko) Chro...| 596|\n",
      "|                 101|  86|\n",
      "|                  11|  40|\n",
      "+--------------------+----+\n",
      "only showing top 5 rows\n",
      "\n"
     ]
    }
   ],
   "source": [
    "# Quantia de likes que cada usuário deu\n",
    "like = data.select('userId', 'page').where(data.page == 'Thumbs Up').groupBy('userId').count() \\\n",
    "                    .withColumnRenamed('count', 'like')\n",
    "like.show(n=5)"
   ]
  },
  {
   "cell_type": "code",
   "execution_count": 39,
   "metadata": {},
   "outputs": [
    {
     "name": "stdout",
     "output_type": "stream",
     "text": [
      "+--------------------+---------------+\n",
      "|              userID|musica_playlist|\n",
      "+--------------------+---------------+\n",
      "|                   7|              5|\n",
      "|                  54|             72|\n",
      "| like Gecko) Chro...|            358|\n",
      "|                 101|             61|\n",
      "|                  11|             20|\n",
      "+--------------------+---------------+\n",
      "only showing top 5 rows\n",
      "\n"
     ]
    }
   ],
   "source": [
    "# Quantia de músicas adicionadas à playlist por cada usuário\n",
    "playlist = data.select('userID', 'page') \\\n",
    "                            .where(data.page == 'Add to Playlist').groupBy('userID').count() \\\n",
    "                            .withColumnRenamed('count', 'musica_playlist')\n",
    "playlist.show(n=5)"
   ]
  },
  {
   "cell_type": "code",
   "execution_count": 40,
   "metadata": {},
   "outputs": [
    {
     "name": "stdout",
     "output_type": "stream",
     "text": [
      "+--------------------+-------+\n",
      "|              userId|dislike|\n",
      "+--------------------+-------+\n",
      "|                   7|      1|\n",
      "|                  54|     29|\n",
      "| like Gecko) Chro...|    113|\n",
      "|                 101|     16|\n",
      "|                  11|      9|\n",
      "+--------------------+-------+\n",
      "only showing top 5 rows\n",
      "\n"
     ]
    }
   ],
   "source": [
    "# Quantia de dislikes dado pelo usuário\n",
    "dislike = data.select('userId', 'page').where(data.page == 'Thumbs Down').groupBy('userId').count() \\\n",
    "                    .withColumnRenamed('count', 'dislike')\n",
    "\n",
    "dislike.show(5)"
   ]
  },
  {
   "cell_type": "code",
   "execution_count": 41,
   "metadata": {},
   "outputs": [
    {
     "name": "stdout",
     "output_type": "stream",
     "text": [
      "+--------------------+---------+\n",
      "|              userId|help_page|\n",
      "+--------------------+---------+\n",
      "|                   7|        1|\n",
      "|                  54|       17|\n",
      "| like Gecko) Chro...|       70|\n",
      "|                 101|       12|\n",
      "|                  11|        3|\n",
      "+--------------------+---------+\n",
      "only showing top 5 rows\n",
      "\n"
     ]
    }
   ],
   "source": [
    "# Quantia de vezes o usuário acessou o página de ajuda\n",
    "help_use = data.groupby('userId').agg(F.sum(F.when(F.col('page') == 'Help', 1).otherwise(0)).alias('help_page'))\n",
    "help_use.show(5)"
   ]
  },
  {
   "cell_type": "code",
   "execution_count": 42,
   "metadata": {},
   "outputs": [],
   "source": [
    "# Data set agrupado pelo userId com informações do churn e paid\n",
    "churn = data.select(['userId', 'churn']).groupBy(['userId']).agg(F.max('churn').alias('churn'))\n",
    "paid = data.select(['userId', 'paid']).groupBy(['userId']).agg(F.max('paid').alias('paid'))"
   ]
  },
  {
   "cell_type": "code",
   "execution_count": 43,
   "metadata": {},
   "outputs": [
    {
     "name": "stdout",
     "output_type": "stream",
     "text": [
      "+--------------------+----------+----------+------------------+---------+-------+----+---------------+------+----+-----+\n",
      "|              userId|max_sessao|min_sessao|       mean_sessao|help_page|dislike|like|musica_playlist|musica|paid|churn|\n",
      "+--------------------+----------+----------+------------------+---------+-------+----+---------------+------+----+-----+\n",
      "|                   7|   18678.0|     244.0| 5258.428571428572|        1|      1|   7|              5|   150|   0|    0|\n",
      "|                  54|  122592.0|       0.0| 19337.37837837838|       17|     29| 163|             72|  2841|   1|    1|\n",
      "| like Gecko) Chro...|  120472.0|       0.0|19173.673076923078|       70|    113| 596|            358| 12168|   1|    1|\n",
      "|                 101|  198001.0|    1431.0|           49054.8|       12|     16|  86|             61|  1797|   1|    1|\n",
      "|                  11|   41310.0|    1173.0|          9682.625|        3|      9|  40|             20|   647|   1|    0|\n",
      "|                 112|   19181.0|       0.0|            5067.1|        1|      3|   9|              7|   215|   0|    0|\n",
      "|                  73|   33083.0|    1837.0|           15545.5|        4|      7|  14|             11|   377|   1|    1|\n",
      "|              200010|   15720.0|       1.0| 9789.833333333334|        1|      7|  14|              5|   237|   0|    0|\n",
      "|                  30|   65342.0|       0.0|       11015.65625|        5|     17|  62|             47|  1417|   1|    0|\n",
      "|                  59|   61455.0|       0.0| 27436.85714285714|        3|      9|  30|             14|   724|   1|    0|\n",
      "| like Gecko) Vers...|   76514.0|     726.0|15801.166666666666|       13|     28| 155|             72|  2307|   1|    0|\n",
      "|                  28|   70009.0|       0.0|17123.904761904763|        7|     22|  79|             50|  1457|   1|    1|\n",
      "|              100022|   36715.0|      67.0|            8176.1|        6|     20|  45|             14|   681|   0|    1|\n",
      "|                  52|   77518.0|       1.0|19980.933333333334|        7|      9|  54|             33|  1086|   1|    0|\n",
      "|                  71|   38361.0|    4539.0|           16049.5|        1|      4|  14|              5|   264|   1|    0|\n",
      "|              100008|  121464.0|    3423.0|31695.166666666668|        6|      6|  37|             30|   772|   1|    0|\n",
      "|                  47|   16713.0|       0.0| 5236.777777777777|        1|      2|  10|              3|   202|   0|    0|\n",
      "|                 107|   40407.0|    2599.0|          15378.75|        0|      2|  14|             10|   246|   0|    0|\n",
      "|              300002|  142084.0|     266.0|           22369.5|       16|     11| 140|             57|  1610|   1|    0|\n",
      "|                 100|   61175.0|       0.0| 18991.14285714286|       18|     27| 148|             61|  2682|   1|    0|\n",
      "+--------------------+----------+----------+------------------+---------+-------+----+---------------+------+----+-----+\n",
      "only showing top 20 rows\n",
      "\n"
     ]
    }
   ],
   "source": [
    "# Juntando as informações dos destintos data set criados\n",
    "user = user.join(help_use, ['userId'])\n",
    "user = user.join(dislike, ['userId'])\n",
    "user = user.join(like, ['userId'])\n",
    "user = user.join(playlist, ['userId'])\n",
    "user = user.join(musicas, ['userId'])\n",
    "user = user.join(paid, ['userId'])\n",
    "user = user.join(churn, ['userId'])\n",
    "\n",
    "user.show()"
   ]
  },
  {
   "cell_type": "code",
   "execution_count": 45,
   "metadata": {},
   "outputs": [],
   "source": [
    "# variáveis utilizadas para prever o churn\n",
    "variaveis_col = [\n",
    "            'max_sessao',\n",
    "            'min_sessao',\n",
    "            'mean_sessao',\n",
    "            'help_page',\n",
    "            'dislike',\n",
    "            'like',\n",
    "            'musica_playlist',\n",
    "            'musica',\n",
    "            'paid']"
   ]
  },
  {
   "cell_type": "code",
   "execution_count": 46,
   "metadata": {},
   "outputs": [
    {
     "name": "stdout",
     "output_type": "stream",
     "text": [
      "+--------------------+----------+----------+------------------+---------+-------+----+---------------+------+----+-----+--------------------+\n",
      "|              userId|max_sessao|min_sessao|       mean_sessao|help_page|dislike|like|musica_playlist|musica|paid|churn|           variaveis|\n",
      "+--------------------+----------+----------+------------------+---------+-------+----+---------------+------+----+-----+--------------------+\n",
      "|                   7|   18678.0|     244.0| 5258.428571428572|        1|      1|   7|              5|   150|   0|    0|[18678.0,244.0,52...|\n",
      "|                  54|  122592.0|       0.0| 19337.37837837838|       17|     29| 163|             72|  2841|   1|    1|[122592.0,0.0,193...|\n",
      "| like Gecko) Chro...|  120472.0|       0.0|19173.673076923078|       70|    113| 596|            358| 12168|   1|    1|[120472.0,0.0,191...|\n",
      "|                 101|  198001.0|    1431.0|           49054.8|       12|     16|  86|             61|  1797|   1|    1|[198001.0,1431.0,...|\n",
      "|                  11|   41310.0|    1173.0|          9682.625|        3|      9|  40|             20|   647|   1|    0|[41310.0,1173.0,9...|\n",
      "|                 112|   19181.0|       0.0|            5067.1|        1|      3|   9|              7|   215|   0|    0|[19181.0,0.0,5067...|\n",
      "|                  73|   33083.0|    1837.0|           15545.5|        4|      7|  14|             11|   377|   1|    1|[33083.0,1837.0,1...|\n",
      "|              200010|   15720.0|       1.0| 9789.833333333334|        1|      7|  14|              5|   237|   0|    0|[15720.0,1.0,9789...|\n",
      "|                  30|   65342.0|       0.0|       11015.65625|        5|     17|  62|             47|  1417|   1|    0|[65342.0,0.0,1101...|\n",
      "|                  59|   61455.0|       0.0| 27436.85714285714|        3|      9|  30|             14|   724|   1|    0|[61455.0,0.0,2743...|\n",
      "+--------------------+----------+----------+------------------+---------+-------+----+---------------+------+----+-----+--------------------+\n",
      "only showing top 10 rows\n",
      "\n"
     ]
    }
   ],
   "source": [
    "# Ageitando os dados para estarem no formato esperado\n",
    "var_vector = VectorAssembler(inputCols=variaveis_col, outputCol=\"variaveis\") \n",
    "user_df = var_vector.transform(user)\n",
    "user_df.show(n=10)"
   ]
  },
  {
   "cell_type": "code",
   "execution_count": 47,
   "metadata": {},
   "outputs": [
    {
     "name": "stdout",
     "output_type": "stream",
     "text": [
      "Quantia de dados em treino:  51\n",
      "Quantia de dados em test:  19\n"
     ]
    }
   ],
   "source": [
    "# Separando os dados de treino e teste\n",
    "train, test = user_df.randomSplit([0.7, 0.3], seed=1)\n",
    "tam_test = test.count()\n",
    "print(\"Quantia de dados em treino: \",train.count())\n",
    "print(\"Quantia de dados em test: \",tam_test)\n",
    "\n",
    "evaluator = MulticlassClassificationEvaluator(labelCol='churn')"
   ]
  },
  {
   "cell_type": "code",
   "execution_count": 48,
   "metadata": {},
   "outputs": [],
   "source": [
    "# Função que irá demonstrar os resultados do modelo\n",
    "def avaliacao(model_result):\n",
    "\n",
    "    evaluator = MulticlassClassificationEvaluator(predictionCol='prediction')\n",
    "    evaluator.setLabelCol('churn')\n",
    "    acertos = evaluator.evaluate(model_result, {evaluator.metricName : 'accuracy'})\n",
    "    f1 = evaluator.evaluate(model_result, {evaluator.metricName : 'f1'})\n",
    "    \n",
    "    print('Acertos: ',acertos)\n",
    "    print('F-1 Score: ',f1)"
   ]
  },
  {
   "cell_type": "code",
   "execution_count": 49,
   "metadata": {},
   "outputs": [
    {
     "name": "stdout",
     "output_type": "stream",
     "text": [
      "Acertos:  0.7894736842105263\n",
      "F-1 Score:  0.7701754385964912\n"
     ]
    }
   ],
   "source": [
    "rf = RandomForestClassifier(labelCol='churn', featuresCol='variaveis', seed = 42)\n",
    "\n",
    "# Profundidade máxima da árvore\n",
    "depth = int(np.sqrt(len(variaveis_col)))\n",
    "\n",
    "pipeline = Pipeline(stages=[rf])\n",
    "rf_grid = (ParamGridBuilder()\n",
    "             .addGrid(rf.numTrees, [10,20,50,100])\n",
    "             .addGrid(rf.maxDepth, [int(np.sqrt(len(variaveis_col)))])\n",
    "             .build())\n",
    "\n",
    "crossval_rf = CrossValidator(\n",
    "    estimator=pipeline,\n",
    "    estimatorParamMaps=rf_grid,\n",
    "    evaluator=evaluator,\n",
    "    numFolds=5)\n",
    "\n",
    "rf_model = crossval_rf.fit(train)\n",
    "rf_model_pre = rf_model.transform(test)\n",
    "avaliacao(rf_model_pre)"
   ]
  },
  {
   "cell_type": "code",
   "execution_count": 54,
   "metadata": {},
   "outputs": [
    {
     "data": {
      "text/plain": [
       "[0.7706303521040364,\n",
       " 0.7706303521040364,\n",
       " 0.7908900923637766,\n",
       " 0.7908900923637766]"
      ]
     },
     "execution_count": 54,
     "metadata": {},
     "output_type": "execute_result"
    }
   ],
   "source": [
    "# Media dos resultados de cada hyper-parameters nos k-fold\n",
    "rf_model.avgMetrics"
   ]
  },
  {
   "cell_type": "code",
   "execution_count": 50,
   "metadata": {},
   "outputs": [
    {
     "name": "stdout",
     "output_type": "stream",
     "text": [
      "Acertos:  0.7894736842105263\n",
      "F-1 Score:  0.7701754385964912\n"
     ]
    }
   ],
   "source": [
    "lr = LogisticRegression(maxIter=10, labelCol='churn', featuresCol='variaveis')\n",
    "\n",
    "pipeline = Pipeline(stages=[lr])\n",
    "lr_grid = (ParamGridBuilder()\n",
    "                .addGrid(lr.regParam, [0.01, 0.001])\n",
    "                .addGrid(lr.elasticNetParam, [0, 1])\n",
    "                .build())\n",
    "\n",
    "crossval_lr = CrossValidator(\n",
    "    estimator=pipeline,\n",
    "    estimatorParamMaps=lr_grid,\n",
    "    evaluator=evaluator,\n",
    "    numFolds=5)\n",
    "\n",
    "lr_model = crossval_lr.fit(train)\n",
    "lr_model_pre = lr_model.transform(test)\n",
    "avaliacao(lr_model_pre)"
   ]
  },
  {
   "cell_type": "code",
   "execution_count": 55,
   "metadata": {},
   "outputs": [
    {
     "data": {
      "text/plain": [
       "[0.7706303521040364,\n",
       " 0.7849619029061755,\n",
       " 0.7849619029061755,\n",
       " 0.7945247345247346]"
      ]
     },
     "execution_count": 55,
     "metadata": {},
     "output_type": "execute_result"
    }
   ],
   "source": [
    "# Media dos resultados de cada hyper-parameters nos k-fold\n",
    "lr_model.avgMetrics"
   ]
  },
  {
   "attachments": {},
   "cell_type": "markdown",
   "metadata": {},
   "source": [
    "Os resultados do melhor hyper-parametro em validation, resultou na mesma porcentagem de acertos, tando para random forest quanto para logistic regression. Isso tinha maior chances de ocorrer pelo tamanho mínimo do data-set. Se há algo a ser investido para podermos melhorar o modelo de predição do churn é a quantia de dados de diferentes usuários disponíveis.\n",
    "Até por conta do tamanho do data set estava apostando um melhor resultado com logistic regression por ser mais simples, precisando um número menor de dados para poder generalizar."
   ]
  }
 ],
 "metadata": {
  "kernelspec": {
   "display_name": "env",
   "language": "python",
   "name": "python3"
  },
  "language_info": {
   "codemirror_mode": {
    "name": "ipython",
    "version": 3
   },
   "file_extension": ".py",
   "mimetype": "text/x-python",
   "name": "python",
   "nbconvert_exporter": "python",
   "pygments_lexer": "ipython3",
   "version": "3.9.10"
  },
  "orig_nbformat": 4
 },
 "nbformat": 4,
 "nbformat_minor": 2
}
