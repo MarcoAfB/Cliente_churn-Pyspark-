{
 "cells": [
  {
   "cell_type": "code",
   "execution_count": 36,
   "metadata": {},
   "outputs": [],
   "source": [
    "from pyspark import\tSparkConf, SparkContext\n",
    "from pyspark.sql import SparkSession\n",
    "import pandas as pd\n",
    "import numpy as np"
   ]
  },
  {
   "attachments": {},
   "cell_type": "markdown",
   "metadata": {},
   "source": [
    "## Adicionando os Dados"
   ]
  },
  {
   "cell_type": "code",
   "execution_count": 37,
   "metadata": {},
   "outputs": [],
   "source": [
    "# iniciando uma sessão \n",
    "ssql = SparkSession.builder.appName(\"Client\").getOrCreate()"
   ]
  },
  {
   "cell_type": "code",
   "execution_count": 38,
   "metadata": {},
   "outputs": [],
   "source": [
    "# Carregando o dataset utilizado\n",
    "data = ssql.read.csv('Data.csv', header=True)\n",
    "\n",
    "# Carregando o dataset utilizado\n",
    "ssql.read.csv('Data.csv', header=True).createOrReplaceTempView(\"Data\")"
   ]
  },
  {
   "cell_type": "code",
   "execution_count": 39,
   "metadata": {},
   "outputs": [
    {
     "name": "stdout",
     "output_type": "stream",
     "text": [
      "+---+--------------------+---------+---------+------+-------------+--------+---------+-----+--------------------+------+---------------+---------------+---------+--------------------+------+-------------+--------------------+--------------------+\n",
      "|_c0|              artist|     auth|firstName|gender|itemInSession|lastName|   length|level|            location|method|           page|   registration|sessionId|                song|status|           ts|           userAgent|              userId|\n",
      "+---+--------------------+---------+---------+------+-------------+--------+---------+-----+--------------------+------+---------------+---------------+---------+--------------------+------+-------------+--------------------+--------------------+\n",
      "|  0|      Martha Tilston|Logged In|    Colin|     M|           50| Freeman|277.89016| paid|     Bakersfield, CA|   PUT|       NextSong|1538173362000.0|       29|           Rockpools|   200|1538352117000|Mozilla/5.0 (Wind...|                  30|\n",
      "|  1|    Five Iron Frenzy|Logged In|    Micah|     M|           79|    Long|236.09424| free|Boston-Cambridge-...|   PUT|       NextSong|1538331630000.0|        8|              Canada|   200|1538352180000|\"\"\"Mozilla/5.0 (W...| like Gecko) Chro...|\n",
      "|  2|        Adam Lambert|Logged In|    Colin|     M|           51| Freeman| 282.8273| paid|     Bakersfield, CA|   PUT|       NextSong|1538173362000.0|       29|   Time For Miracles|   200|1538352394000|Mozilla/5.0 (Wind...|                  30|\n",
      "|  3|              Enigma|Logged In|    Micah|     M|           80|    Long|262.71302| free|Boston-Cambridge-...|   PUT|       NextSong|1538331630000.0|        8|Knocking On Forbi...|   200|1538352416000|\"\"\"Mozilla/5.0 (W...| like Gecko) Chro...|\n",
      "|  4|           Daft Punk|Logged In|    Colin|     M|           52| Freeman|223.60771| paid|     Bakersfield, CA|   PUT|       NextSong|1538173362000.0|       29|Harder Better Fas...|   200|1538352676000|Mozilla/5.0 (Wind...|                  30|\n",
      "|  5|The All-American ...|Logged In|    Micah|     M|           81|    Long|208.29995| free|Boston-Cambridge-...|   PUT|       NextSong|1538331630000.0|        8|      Don't Leave Me|   200|1538352678000|\"\"\"Mozilla/5.0 (W...| like Gecko) Chro...|\n",
      "|  6|The Velvet Underg...|Logged In|    Micah|     M|           82|    Long|260.46649| free|Boston-Cambridge-...|   PUT|       NextSong|1538331630000.0|        8|         Run Run Run|   200|1538352886000|\"\"\"Mozilla/5.0 (W...| like Gecko) Chro...|\n",
      "|  7|        Starflyer 59|Logged In|    Colin|     M|           53| Freeman|185.44281| paid|     Bakersfield, CA|   PUT|       NextSong|1538173362000.0|       29|Passengers (Old A...|   200|1538352899000|Mozilla/5.0 (Wind...|                  30|\n",
      "|  8|                null|Logged In|    Colin|     M|           54| Freeman|     null| paid|     Bakersfield, CA|   PUT|Add to Playlist|1538173362000.0|       29|                null|   200|1538352905000|Mozilla/5.0 (Wind...|                  30|\n",
      "|  9|            Frumpies|Logged In|    Colin|     M|           55| Freeman|134.47791| paid|     Bakersfield, CA|   PUT|       NextSong|1538173362000.0|       29|          Fuck Kitty|   200|1538353084000|Mozilla/5.0 (Wind...|                  30|\n",
      "| 10|        Britt Nicole|Logged In|    Micah|     M|           83|    Long| 229.8771| free|Boston-Cambridge-...|   PUT|       NextSong|1538331630000.0|        8|   Walk On The Water|   200|1538353146000|\"\"\"Mozilla/5.0 (W...| like Gecko) Chro...|\n",
      "| 11|                null|Logged In|    Micah|     M|           84|    Long|     null| free|Boston-Cambridge-...|   GET|    Roll Advert|1538331630000.0|        8|                null|   200|1538353150000|\"\"\"Mozilla/5.0 (W...| like Gecko) Chro...|\n",
      "| 12|Edward Sharpe & T...|Logged In|    Colin|     M|           56| Freeman|223.58159| paid|     Bakersfield, CA|   PUT|       NextSong|1538173362000.0|       29|                Jade|   200|1538353218000|Mozilla/5.0 (Wind...|                  30|\n",
      "| 13|               Tesla|Logged In|    Micah|     M|           85|    Long|201.06404| free|Boston-Cambridge-...|   PUT|       NextSong|1538331630000.0|        8|      Gettin' Better|   200|1538353375000|\"\"\"Mozilla/5.0 (W...| like Gecko) Chro...|\n",
      "| 14|                null|Logged In|    Micah|     M|           86|    Long|     null| free|Boston-Cambridge-...|   PUT|      Thumbs Up|1538331630000.0|        8|                null|   307|1538353376000|\"\"\"Mozilla/5.0 (W...| like Gecko) Chro...|\n",
      "| 15|         Stan Mosley|Logged In|    Colin|     M|           57| Freeman|246.69995| paid|     Bakersfield, CA|   PUT|       NextSong|1538173362000.0|       29|   So-Called Friends|   200|1538353441000|Mozilla/5.0 (Wind...|                  30|\n",
      "| 16|Florence + The Ma...|Logged In|    Micah|     M|           87|    Long|168.64608| free|Boston-Cambridge-...|   PUT|       NextSong|1538331630000.0|        8| You've Got The Love|   200|1538353576000|\"\"\"Mozilla/5.0 (W...| like Gecko) Chro...|\n",
      "| 17|   Tokyo Police Club|Logged In|  Ashlynn|     F|            0|Williams| 166.1122| free|     Tallahassee, FL|   PUT|       NextSong|1537365219000.0|      217|Citizens Of Tomorrow|   200|1538353668000|\"\"\"Mozilla/5.0 (M...| like Gecko) Chro...|\n",
      "| 18|             Orishas|Logged In|    Colin|     M|           58| Freeman|222.22322| paid|     Bakersfield, CA|   PUT|       NextSong|1538173362000.0|       29|           Represent|   200|1538353687000|Mozilla/5.0 (Wind...|                  30|\n",
      "| 19|             Ratatat|Logged In|    Micah|     M|           88|    Long|229.77261| free|Boston-Cambridge-...|   PUT|       NextSong|1538331630000.0|        8|              Swisha|   200|1538353744000|\"\"\"Mozilla/5.0 (W...| like Gecko) Chro...|\n",
      "+---+--------------------+---------+---------+------+-------------+--------+---------+-----+--------------------+------+---------------+---------------+---------+--------------------+------+-------------+--------------------+--------------------+\n",
      "only showing top 20 rows\n",
      "\n"
     ]
    }
   ],
   "source": [
    "data.show()"
   ]
  },
  {
   "cell_type": "code",
   "execution_count": 40,
   "metadata": {},
   "outputs": [
    {
     "name": "stdout",
     "output_type": "stream",
     "text": [
      "O data-set possui 286500 fileiras\n",
      "e 19 colunas\n"
     ]
    }
   ],
   "source": [
    "print(f'O data-set possui {data.count()} fileiras')\n",
    "print(f'e {len(data.columns)} colunas')"
   ]
  },
  {
   "cell_type": "code",
   "execution_count": 41,
   "metadata": {},
   "outputs": [
    {
     "name": "stdout",
     "output_type": "stream",
     "text": [
      "root\n",
      " |-- _c0: string (nullable = true)\n",
      " |-- artist: string (nullable = true)\n",
      " |-- auth: string (nullable = true)\n",
      " |-- firstName: string (nullable = true)\n",
      " |-- gender: string (nullable = true)\n",
      " |-- itemInSession: string (nullable = true)\n",
      " |-- lastName: string (nullable = true)\n",
      " |-- length: string (nullable = true)\n",
      " |-- level: string (nullable = true)\n",
      " |-- location: string (nullable = true)\n",
      " |-- method: string (nullable = true)\n",
      " |-- page: string (nullable = true)\n",
      " |-- registration: string (nullable = true)\n",
      " |-- sessionId: string (nullable = true)\n",
      " |-- song: string (nullable = true)\n",
      " |-- status: string (nullable = true)\n",
      " |-- ts: string (nullable = true)\n",
      " |-- userAgent: string (nullable = true)\n",
      " |-- userId: string (nullable = true)\n",
      "\n"
     ]
    }
   ],
   "source": [
    "data.printSchema()"
   ]
  },
  {
   "attachments": {},
   "cell_type": "markdown",
   "metadata": {},
   "source": [
    "## EDA"
   ]
  },
  {
   "attachments": {},
   "cell_type": "markdown",
   "metadata": {},
   "source": [
    "Temos as informações de quais foram as movimentações no site. Sendo a de nosso interesse \"Cancellation Confirmation\" que foram as contas encerradas pelos clientes"
   ]
  },
  {
   "cell_type": "code",
   "execution_count": 43,
   "metadata": {},
   "outputs": [
    {
     "name": "stdout",
     "output_type": "stream",
     "text": [
      "+-------------------------+------+\n",
      "|page                     |page  |\n",
      "+-------------------------+------+\n",
      "|NextSong                 |228108|\n",
      "|Home                     |14457 |\n",
      "|Thumbs Up                |12551 |\n",
      "|Add to Playlist          |6526  |\n",
      "|Add Friend               |4277  |\n",
      "|Roll Advert              |3933  |\n",
      "|Login                    |3241  |\n",
      "|Logout                   |3226  |\n",
      "|Thumbs Down              |2546  |\n",
      "|Downgrade                |2055  |\n",
      "|Help                     |1726  |\n",
      "|Settings                 |1514  |\n",
      "|About                    |924   |\n",
      "|Upgrade                  |499   |\n",
      "|Save Settings            |310   |\n",
      "|Error                    |258   |\n",
      "|Submit Upgrade           |159   |\n",
      "|Submit Downgrade         |63    |\n",
      "|Cancel                   |52    |\n",
      "|Cancellation Confirmation|52    |\n",
      "+-------------------------+------+\n",
      "only showing top 20 rows\n",
      "\n"
     ]
    }
   ],
   "source": [
    "ssql.sql(\"select page, count(page) page \"+\n",
    "         \"from data \"+\n",
    "         \"group by page \"+\n",
    "         \"order by count(page) desc\").show(truncate=False)"
   ]
  },
  {
   "attachments": {},
   "cell_type": "markdown",
   "metadata": {},
   "source": [
    "Podemos perceper que há grande quantia de nulls, e que há pelo menos 3 colunas com as mesmas quantias, provavelmente se uma determinada coluna estiver com null as outras também estarão"
   ]
  },
  {
   "cell_type": "code",
   "execution_count": null,
   "metadata": {},
   "outputs": [
    {
     "name": "stdout",
     "output_type": "stream",
     "text": [
      "Quantia de Nulls na coluna artist  58392\n",
      "Quantia de Nulls na coluna auth  0\n",
      "Quantia de Nulls na coluna firstName  8346\n",
      "Quantia de Nulls na coluna gender  8346\n",
      "Quantia de Nulls na coluna itemInSession  0\n",
      "Quantia de Nulls na coluna lastName  8346\n",
      "Quantia de Nulls na coluna length  58392\n",
      "Quantia de Nulls na coluna level  0\n",
      "Quantia de Nulls na coluna location  8346\n",
      "Quantia de Nulls na coluna method  0\n",
      "Quantia de Nulls na coluna page  0\n",
      "Quantia de Nulls na coluna registration  8346\n",
      "Quantia de Nulls na coluna sessionId  0\n",
      "Quantia de Nulls na coluna song  58392\n",
      "Quantia de Nulls na coluna status  0\n",
      "Quantia de Nulls na coluna ts  0\n",
      "Quantia de Nulls na coluna userAgent  8346\n",
      "Quantia de Nulls na coluna userId  8346\n"
     ]
    }
   ],
   "source": [
    "# Loop para contabilizar quantia de nulls em cada coluna\n",
    "for i in data.columns[1:]:\n",
    "    nulls = data.filter(f'{i} is NULL').count()\n",
    "    print(f'Quantia de Nulls na coluna {i} ', nulls)"
   ]
  },
  {
   "attachments": {},
   "cell_type": "markdown",
   "metadata": {},
   "source": [
    "Os valores que faltam podem seguir um certo padrão já que seguem uma sequência, esse problema será resolvido nas seguintes partes levando essa informação em conta, pois irei usar uma forma específica para lidar com os valores faltantes"
   ]
  },
  {
   "cell_type": "code",
   "execution_count": 44,
   "metadata": {},
   "outputs": [
    {
     "data": {
      "text/plain": [
       "58392"
      ]
     },
     "execution_count": 44,
     "metadata": {},
     "output_type": "execute_result"
    }
   ],
   "source": [
    "# Quando um das 3 colunas é null as outras duas também serão\n",
    "ssql.sql(\"select artist, length, song \"+\n",
    "         \"from data \"+\n",
    "         \"where artist is null and \"+\n",
    "         \"length is null and \"+\n",
    "         \"song is null\").count()"
   ]
  },
  {
   "cell_type": "code",
   "execution_count": 46,
   "metadata": {},
   "outputs": [
    {
     "data": {
      "text/plain": [
       "8346"
      ]
     },
     "execution_count": 46,
     "metadata": {},
     "output_type": "execute_result"
    }
   ],
   "source": [
    "# Quando um das 7 colunas é null as outras seis também serão\n",
    "ssql.sql(\"select firstName, gender, lastName, location, registration, userAgent, userID \"+\n",
    "         \"from data \"+\n",
    "         \"where gender is null and firstName is null and lastName is null and registration is null and \"+\n",
    "         \"userAgent is null and userID is null\").count()"
   ]
  },
  {
   "cell_type": "code",
   "execution_count": 47,
   "metadata": {},
   "outputs": [
    {
     "name": "stdout",
     "output_type": "stream",
     "text": [
      "+------+----------+\n",
      "|gender|num_userID|\n",
      "+------+----------+\n",
      "|     M|        46|\n",
      "|     F|        43|\n",
      "|  null|         0|\n",
      "+------+----------+\n",
      "\n"
     ]
    }
   ],
   "source": [
    "# Quantia de usuarios do aplicativo, separados por sexo\n",
    "ssql.sql(\"select gender,count(distinct userID) as num_userID \"+\n",
    "         \"from data \"+\n",
    "         \"group by gender \"+\n",
    "         \"order by count(distinct userID) desc\").show()"
   ]
  }
 ],
 "metadata": {
  "kernelspec": {
   "display_name": "env",
   "language": "python",
   "name": "python3"
  },
  "language_info": {
   "codemirror_mode": {
    "name": "ipython",
    "version": 3
   },
   "file_extension": ".py",
   "mimetype": "text/x-python",
   "name": "python",
   "nbconvert_exporter": "python",
   "pygments_lexer": "ipython3",
   "version": "3.11.0"
  },
  "orig_nbformat": 4
 },
 "nbformat": 4,
 "nbformat_minor": 2
}
