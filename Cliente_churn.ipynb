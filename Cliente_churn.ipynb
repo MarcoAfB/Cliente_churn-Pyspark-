{
 "cells": [
  {
   "cell_type": "code",
   "execution_count": 1,
   "metadata": {},
   "outputs": [],
   "source": [
    "from pyspark.sql.types import *\n",
    "from pyspark.sql import SparkSession\n",
    "import pandas as pd\n",
    "import numpy as np\n",
    "import matplotlib.pyplot as plt\n",
    "import pyspark.sql.functions as F\n",
    "import datetime\n",
    "from pyspark import\tSparkContext"
   ]
  },
  {
   "attachments": {},
   "cell_type": "markdown",
   "metadata": {},
   "source": [
    "## Adicionando os Dados"
   ]
  },
  {
   "cell_type": "code",
   "execution_count": 33,
   "metadata": {},
   "outputs": [],
   "source": [
    "# iniciando uma sessão \n",
    "ssql = SparkSession.builder.appName(\"Client\").getOrCreate()\n",
    "\n",
    "sc = SparkContext.getOrCreate()"
   ]
  },
  {
   "cell_type": "code",
   "execution_count": 34,
   "metadata": {},
   "outputs": [],
   "source": [
    "# Carregando o dataset utilizado\n",
    "data = ssql.read.csv('Data.csv', header=True)\n",
    "\n",
    "# Carregando o dataset utilizado\n",
    "ssql.read.csv('Data.csv', header=True).createOrReplaceTempView(\"Data\")"
   ]
  },
  {
   "cell_type": "code",
   "execution_count": 22,
   "metadata": {},
   "outputs": [
    {
     "name": "stdout",
     "output_type": "stream",
     "text": [
      "+---+--------------------+---------+---------+------+-------------+--------+---------+-----+--------------------+------+---------------+---------------+---------+--------------------+------+-------------+--------------------+--------------------+\n",
      "|_c0|              artist|     auth|firstName|gender|itemInSession|lastName|   length|level|            location|method|           page|   registration|sessionId|                song|status|           ts|           userAgent|              userId|\n",
      "+---+--------------------+---------+---------+------+-------------+--------+---------+-----+--------------------+------+---------------+---------------+---------+--------------------+------+-------------+--------------------+--------------------+\n",
      "|  0|      Martha Tilston|Logged In|    Colin|     M|           50| Freeman|277.89016| paid|     Bakersfield, CA|   PUT|       NextSong|1538173362000.0|       29|           Rockpools|   200|1538352117000|Mozilla/5.0 (Wind...|                  30|\n",
      "|  1|    Five Iron Frenzy|Logged In|    Micah|     M|           79|    Long|236.09424| free|Boston-Cambridge-...|   PUT|       NextSong|1538331630000.0|        8|              Canada|   200|1538352180000|\"\"\"Mozilla/5.0 (W...| like Gecko) Chro...|\n",
      "|  2|        Adam Lambert|Logged In|    Colin|     M|           51| Freeman| 282.8273| paid|     Bakersfield, CA|   PUT|       NextSong|1538173362000.0|       29|   Time For Miracles|   200|1538352394000|Mozilla/5.0 (Wind...|                  30|\n",
      "|  3|              Enigma|Logged In|    Micah|     M|           80|    Long|262.71302| free|Boston-Cambridge-...|   PUT|       NextSong|1538331630000.0|        8|Knocking On Forbi...|   200|1538352416000|\"\"\"Mozilla/5.0 (W...| like Gecko) Chro...|\n",
      "|  4|           Daft Punk|Logged In|    Colin|     M|           52| Freeman|223.60771| paid|     Bakersfield, CA|   PUT|       NextSong|1538173362000.0|       29|Harder Better Fas...|   200|1538352676000|Mozilla/5.0 (Wind...|                  30|\n",
      "|  5|The All-American ...|Logged In|    Micah|     M|           81|    Long|208.29995| free|Boston-Cambridge-...|   PUT|       NextSong|1538331630000.0|        8|      Don't Leave Me|   200|1538352678000|\"\"\"Mozilla/5.0 (W...| like Gecko) Chro...|\n",
      "|  6|The Velvet Underg...|Logged In|    Micah|     M|           82|    Long|260.46649| free|Boston-Cambridge-...|   PUT|       NextSong|1538331630000.0|        8|         Run Run Run|   200|1538352886000|\"\"\"Mozilla/5.0 (W...| like Gecko) Chro...|\n",
      "|  7|        Starflyer 59|Logged In|    Colin|     M|           53| Freeman|185.44281| paid|     Bakersfield, CA|   PUT|       NextSong|1538173362000.0|       29|Passengers (Old A...|   200|1538352899000|Mozilla/5.0 (Wind...|                  30|\n",
      "|  8|                null|Logged In|    Colin|     M|           54| Freeman|     null| paid|     Bakersfield, CA|   PUT|Add to Playlist|1538173362000.0|       29|                null|   200|1538352905000|Mozilla/5.0 (Wind...|                  30|\n",
      "|  9|            Frumpies|Logged In|    Colin|     M|           55| Freeman|134.47791| paid|     Bakersfield, CA|   PUT|       NextSong|1538173362000.0|       29|          Fuck Kitty|   200|1538353084000|Mozilla/5.0 (Wind...|                  30|\n",
      "| 10|        Britt Nicole|Logged In|    Micah|     M|           83|    Long| 229.8771| free|Boston-Cambridge-...|   PUT|       NextSong|1538331630000.0|        8|   Walk On The Water|   200|1538353146000|\"\"\"Mozilla/5.0 (W...| like Gecko) Chro...|\n",
      "| 11|                null|Logged In|    Micah|     M|           84|    Long|     null| free|Boston-Cambridge-...|   GET|    Roll Advert|1538331630000.0|        8|                null|   200|1538353150000|\"\"\"Mozilla/5.0 (W...| like Gecko) Chro...|\n",
      "| 12|Edward Sharpe & T...|Logged In|    Colin|     M|           56| Freeman|223.58159| paid|     Bakersfield, CA|   PUT|       NextSong|1538173362000.0|       29|                Jade|   200|1538353218000|Mozilla/5.0 (Wind...|                  30|\n",
      "| 13|               Tesla|Logged In|    Micah|     M|           85|    Long|201.06404| free|Boston-Cambridge-...|   PUT|       NextSong|1538331630000.0|        8|      Gettin' Better|   200|1538353375000|\"\"\"Mozilla/5.0 (W...| like Gecko) Chro...|\n",
      "| 14|                null|Logged In|    Micah|     M|           86|    Long|     null| free|Boston-Cambridge-...|   PUT|      Thumbs Up|1538331630000.0|        8|                null|   307|1538353376000|\"\"\"Mozilla/5.0 (W...| like Gecko) Chro...|\n",
      "| 15|         Stan Mosley|Logged In|    Colin|     M|           57| Freeman|246.69995| paid|     Bakersfield, CA|   PUT|       NextSong|1538173362000.0|       29|   So-Called Friends|   200|1538353441000|Mozilla/5.0 (Wind...|                  30|\n",
      "| 16|Florence + The Ma...|Logged In|    Micah|     M|           87|    Long|168.64608| free|Boston-Cambridge-...|   PUT|       NextSong|1538331630000.0|        8| You've Got The Love|   200|1538353576000|\"\"\"Mozilla/5.0 (W...| like Gecko) Chro...|\n",
      "| 17|   Tokyo Police Club|Logged In|  Ashlynn|     F|            0|Williams| 166.1122| free|     Tallahassee, FL|   PUT|       NextSong|1537365219000.0|      217|Citizens Of Tomorrow|   200|1538353668000|\"\"\"Mozilla/5.0 (M...| like Gecko) Chro...|\n",
      "| 18|             Orishas|Logged In|    Colin|     M|           58| Freeman|222.22322| paid|     Bakersfield, CA|   PUT|       NextSong|1538173362000.0|       29|           Represent|   200|1538353687000|Mozilla/5.0 (Wind...|                  30|\n",
      "| 19|             Ratatat|Logged In|    Micah|     M|           88|    Long|229.77261| free|Boston-Cambridge-...|   PUT|       NextSong|1538331630000.0|        8|              Swisha|   200|1538353744000|\"\"\"Mozilla/5.0 (W...| like Gecko) Chro...|\n",
      "+---+--------------------+---------+---------+------+-------------+--------+---------+-----+--------------------+------+---------------+---------------+---------+--------------------+------+-------------+--------------------+--------------------+\n",
      "only showing top 20 rows\n",
      "\n"
     ]
    }
   ],
   "source": [
    "data.show()"
   ]
  },
  {
   "cell_type": "code",
   "execution_count": 23,
   "metadata": {},
   "outputs": [
    {
     "name": "stdout",
     "output_type": "stream",
     "text": [
      "O data-set possui 286500 fileiras\n",
      "e 19 colunas\n"
     ]
    }
   ],
   "source": [
    "print(f'O data-set possui {data.count()} fileiras')\n",
    "print(f'e {len(data.columns)} colunas')"
   ]
  },
  {
   "cell_type": "code",
   "execution_count": 69,
   "metadata": {},
   "outputs": [
    {
     "name": "stdout",
     "output_type": "stream",
     "text": [
      "root\n",
      " |-- _c0: integer (nullable = true)\n",
      " |-- artist: string (nullable = true)\n",
      " |-- auth: string (nullable = true)\n",
      " |-- firstName: string (nullable = true)\n",
      " |-- gender: string (nullable = true)\n",
      " |-- itemInSession: string (nullable = true)\n",
      " |-- lastName: string (nullable = true)\n",
      " |-- length: string (nullable = true)\n",
      " |-- level: string (nullable = true)\n",
      " |-- location: string (nullable = true)\n",
      " |-- method: string (nullable = true)\n",
      " |-- page: string (nullable = true)\n",
      " |-- sessionId: string (nullable = true)\n",
      " |-- song: string (nullable = true)\n",
      " |-- status: string (nullable = true)\n",
      " |-- userAgent: string (nullable = true)\n",
      " |-- userId: string (nullable = true)\n",
      " |-- churn: integer (nullable = false)\n",
      " |-- paid: integer (nullable = false)\n",
      " |-- Feminino: string (nullable = false)\n",
      " |-- method_GET: integer (nullable = false)\n",
      " |-- ts: string (nullable = true)\n",
      " |-- registration: string (nullable = true)\n",
      "\n"
     ]
    }
   ],
   "source": [
    "data.printSchema()"
   ]
  },
  {
   "attachments": {},
   "cell_type": "markdown",
   "metadata": {},
   "source": [
    "## EDA"
   ]
  },
  {
   "attachments": {},
   "cell_type": "markdown",
   "metadata": {},
   "source": [
    "Temos as informações de quais foram as movimentações no site. Sendo a de nosso interesse \"Cancellation Confirmation\" que foram as contas encerradas pelos clientes"
   ]
  },
  {
   "cell_type": "code",
   "execution_count": 25,
   "metadata": {},
   "outputs": [
    {
     "name": "stdout",
     "output_type": "stream",
     "text": [
      "+-------------------------+------+\n",
      "|page                     |page  |\n",
      "+-------------------------+------+\n",
      "|NextSong                 |228108|\n",
      "|Home                     |14457 |\n",
      "|Thumbs Up                |12551 |\n",
      "|Add to Playlist          |6526  |\n",
      "|Add Friend               |4277  |\n",
      "|Roll Advert              |3933  |\n",
      "|Login                    |3241  |\n",
      "|Logout                   |3226  |\n",
      "|Thumbs Down              |2546  |\n",
      "|Downgrade                |2055  |\n",
      "|Help                     |1726  |\n",
      "|Settings                 |1514  |\n",
      "|About                    |924   |\n",
      "|Upgrade                  |499   |\n",
      "|Save Settings            |310   |\n",
      "|Error                    |258   |\n",
      "|Submit Upgrade           |159   |\n",
      "|Submit Downgrade         |63    |\n",
      "|Cancel                   |52    |\n",
      "|Cancellation Confirmation|52    |\n",
      "+-------------------------+------+\n",
      "only showing top 20 rows\n",
      "\n"
     ]
    }
   ],
   "source": [
    "ssql.sql(\"select page, count(page) page \"+\n",
    "         \"from data \"+\n",
    "         \"group by page \"+\n",
    "         \"order by count(page) desc\").show(truncate=False)"
   ]
  },
  {
   "attachments": {},
   "cell_type": "markdown",
   "metadata": {},
   "source": [
    "Podemos perceper que há grande quantia de nulls, e que há pelo menos 3 colunas com as mesmas quantias, provavelmente se uma determinada coluna estiver com null as outras também estarão"
   ]
  },
  {
   "cell_type": "code",
   "execution_count": 26,
   "metadata": {},
   "outputs": [
    {
     "name": "stdout",
     "output_type": "stream",
     "text": [
      "Quantia de Nulls na coluna artist  58392\n",
      "Quantia de Nulls na coluna auth  0\n",
      "Quantia de Nulls na coluna firstName  8346\n",
      "Quantia de Nulls na coluna gender  8346\n",
      "Quantia de Nulls na coluna itemInSession  0\n",
      "Quantia de Nulls na coluna lastName  8346\n",
      "Quantia de Nulls na coluna length  58392\n",
      "Quantia de Nulls na coluna level  0\n",
      "Quantia de Nulls na coluna location  8346\n",
      "Quantia de Nulls na coluna method  0\n",
      "Quantia de Nulls na coluna page  0\n",
      "Quantia de Nulls na coluna registration  8346\n",
      "Quantia de Nulls na coluna sessionId  0\n",
      "Quantia de Nulls na coluna song  58392\n",
      "Quantia de Nulls na coluna status  0\n",
      "Quantia de Nulls na coluna ts  0\n",
      "Quantia de Nulls na coluna userAgent  8346\n",
      "Quantia de Nulls na coluna userId  8346\n"
     ]
    }
   ],
   "source": [
    "# Loop para contabilizar quantia de nulls em cada coluna\n",
    "for i in data.columns[1:]:\n",
    "    nulls = data.filter(f'{i} is NULL').count()\n",
    "    print(f'Quantia de Nulls na coluna {i} ', nulls)"
   ]
  },
  {
   "attachments": {},
   "cell_type": "markdown",
   "metadata": {},
   "source": [
    "Os valores que faltam podem seguir um certo padrão já que seguem uma sequência, esse problema será resolvido nas seguintes partes levando essa informação em conta, pois irei usar uma forma específica para lidar com os valores faltantes"
   ]
  },
  {
   "cell_type": "code",
   "execution_count": 27,
   "metadata": {},
   "outputs": [
    {
     "data": {
      "text/plain": [
       "58392"
      ]
     },
     "execution_count": 27,
     "metadata": {},
     "output_type": "execute_result"
    }
   ],
   "source": [
    "# Quando um das 3 colunas é null as outras duas também serão\n",
    "ssql.sql(\"select artist, length, song \"+\n",
    "         \"from data \"+\n",
    "         \"where artist is null and \"+\n",
    "         \"length is null and \"+\n",
    "         \"song is null\").count()"
   ]
  },
  {
   "cell_type": "code",
   "execution_count": 28,
   "metadata": {},
   "outputs": [
    {
     "data": {
      "text/plain": [
       "8346"
      ]
     },
     "execution_count": 28,
     "metadata": {},
     "output_type": "execute_result"
    }
   ],
   "source": [
    "# Quando um das 7 colunas é null as outras seis também serão\n",
    "ssql.sql(\"select firstName, gender, lastName, location, registration, userAgent, userID \"+\n",
    "         \"from data \"+\n",
    "         \"where gender is null and firstName is null and lastName is null and registration is null and \"+\n",
    "         \"userAgent is null and userID is null\").count()"
   ]
  },
  {
   "cell_type": "code",
   "execution_count": 29,
   "metadata": {},
   "outputs": [
    {
     "data": {
      "text/plain": [
       "8346"
      ]
     },
     "execution_count": 29,
     "metadata": {},
     "output_type": "execute_result"
    }
   ],
   "source": [
    "# Ao selecionar todas a variáveis que possuem null\n",
    "ssql.sql(\"select artist, length, song, firstName, gender, lastName, location, registration, userAgent, userID \"+\n",
    "         \"from data \"+\n",
    "         \"where artist is null and \"+\n",
    "         \"length is null and \"+\n",
    "         \"song is null and \"+\n",
    "         \"gender is null and firstName is null and lastName is null and \"+\n",
    "         \"registration is null and userAgent is null and userID is null\").count()"
   ]
  },
  {
   "cell_type": "code",
   "execution_count": 30,
   "metadata": {},
   "outputs": [
    {
     "name": "stdout",
     "output_type": "stream",
     "text": [
      "+------+----------+\n",
      "|gender|num_userID|\n",
      "+------+----------+\n",
      "|     M|        46|\n",
      "|     F|        43|\n",
      "|  null|         0|\n",
      "+------+----------+\n",
      "\n"
     ]
    }
   ],
   "source": [
    "# Quantia de usuários do serviço, separados por sexo\n",
    "ssql.sql(\"select gender,count(distinct userID) as num_userID \"+\n",
    "         \"from data \"+\n",
    "         \"group by gender \"+\n",
    "         \"order by count(distinct userID) desc\").show()"
   ]
  },
  {
   "cell_type": "code",
   "execution_count": 31,
   "metadata": {},
   "outputs": [
    {
     "name": "stdout",
     "output_type": "stream",
     "text": [
      "+----------+------+\n",
      "|      auth| authD|\n",
      "+----------+------+\n",
      "| Logged In|278102|\n",
      "|Logged Out|  8249|\n",
      "|     Guest|    97|\n",
      "| Cancelled|    52|\n",
      "+----------+------+\n",
      "\n"
     ]
    }
   ],
   "source": [
    "# Diferentes auth\n",
    "ssql.sql(\"select auth, count(auth) as authD \"+\n",
    "         \"from data \"+\n",
    "         \"group by auth \"+\n",
    "         \"order by count(auth) desc\").show()"
   ]
  },
  {
   "cell_type": "code",
   "execution_count": 32,
   "metadata": {},
   "outputs": [
    {
     "name": "stdout",
     "output_type": "stream",
     "text": [
      "+-------------+--------------------+\n",
      "|itemInSession|count(itemInSession)|\n",
      "+-------------+--------------------+\n",
      "|            0|                3278|\n",
      "|            1|                3125|\n",
      "|            2|                3067|\n",
      "|            3|                3013|\n",
      "|            4|                2977|\n",
      "|            5|                2925|\n",
      "|            6|                2886|\n",
      "|            7|                2857|\n",
      "|            8|                2816|\n",
      "|            9|                2771|\n",
      "|           10|                2717|\n",
      "|           11|                2672|\n",
      "|           12|                2636|\n",
      "|           13|                2600|\n",
      "|           14|                2561|\n",
      "|           15|                2523|\n",
      "|           16|                2497|\n",
      "|           17|                2461|\n",
      "|           18|                2417|\n",
      "|           19|                2381|\n",
      "+-------------+--------------------+\n",
      "only showing top 20 rows\n",
      "\n"
     ]
    }
   ],
   "source": [
    "ssql.sql(\"select itemInSession, count(itemInSession) \"+\n",
    "         \"from data \"+\n",
    "         \"group by itemInSession \"+\n",
    "         \"order by count(itemInSession) desc\").show()"
   ]
  },
  {
   "cell_type": "code",
   "execution_count": 33,
   "metadata": {},
   "outputs": [],
   "source": [
    "# Transformando uma variável de str para double\n",
    "data = data.withColumn(\"length\", data.length.cast('double'))\n",
    "\n",
    "# Transformando uma variável de str para double\n",
    "data = data.withColumn(\"_c0\", data._c0.cast('int'))"
   ]
  },
  {
   "cell_type": "code",
   "execution_count": 34,
   "metadata": {},
   "outputs": [],
   "source": [
    "# Criando um data frame no formato do pandas\n",
    "data_pd = data.toPandas()"
   ]
  },
  {
   "cell_type": "code",
   "execution_count": 35,
   "metadata": {},
   "outputs": [
    {
     "data": {
      "text/plain": [
       "<Axes: ylabel='Frequency'>"
      ]
     },
     "execution_count": 35,
     "metadata": {},
     "output_type": "execute_result"
    },
    {
     "data": {
      "image/png": "[encoded data removed]",
      "text/plain": [
       "<Figure size 640x480 with 1 Axes>"
      ]
     },
     "metadata": {},
     "output_type": "display_data"
    }
   ],
   "source": [
    "# hist da duração das musicas por segundo\n",
    "data_pd['length'].plot.hist(bins=50)"
   ]
  },
  {
   "cell_type": "code",
   "execution_count": 36,
   "metadata": {},
   "outputs": [
    {
     "data": {
      "text/plain": [
       "count    228108.000000\n",
       "mean        249.117182\n",
       "std          99.235179\n",
       "min           0.783220\n",
       "25%         199.888530\n",
       "50%         234.500770\n",
       "75%         277.158730\n",
       "max        3024.665670\n",
       "Name: length, dtype: float64"
      ]
     },
     "execution_count": 36,
     "metadata": {},
     "output_type": "execute_result"
    }
   ],
   "source": [
    "data_pd['length'].describe()"
   ]
  },
  {
   "attachments": {},
   "cell_type": "markdown",
   "metadata": {},
   "source": [
    "A forma que a localização foi salva não permite, sem que haja um tratamento, a distribuição dos usuários por região"
   ]
  },
  {
   "cell_type": "code",
   "execution_count": 37,
   "metadata": {},
   "outputs": [
    {
     "name": "stdout",
     "output_type": "stream",
     "text": [
      "+-------------------------------------------+--------+\n",
      "|location                                   |location|\n",
      "+-------------------------------------------+--------+\n",
      "|Los Angeles-Long Beach-Anaheim, CA         |30131   |\n",
      "|New York-Newark-Jersey City, NY-NJ-PA      |23684   |\n",
      "|Boston-Cambridge-Newton, MA-NH             |13873   |\n",
      "|Houston-The Woodlands-Sugar Land, TX       |9499    |\n",
      "|Charlotte-Concord-Gastonia, NC-SC          |7780    |\n",
      "|Dallas-Fort Worth-Arlington, TX            |7605    |\n",
      "|Louisville/Jefferson County, KY-IN         |6880    |\n",
      "|Philadelphia-Camden-Wilmington, PA-NJ-DE-MD|5890    |\n",
      "|Chicago-Naperville-Elgin, IL-IN-WI         |5114    |\n",
      "|St. Louis, MO-IL                           |4858    |\n",
      "|Phoenix-Mesa-Scottsdale, AZ                |4846    |\n",
      "|Vineland-Bridgeton, NJ                     |4825    |\n",
      "|Wilson, NC                                 |4659    |\n",
      "|Denver-Aurora-Lakewood, CO                 |4453    |\n",
      "|Ionia, MI                                  |4428    |\n",
      "|San Antonio-New Braunfels, TX              |4373    |\n",
      "|Danville, VA                               |4257    |\n",
      "|Atlanta-Sandy Springs-Roswell, GA          |4236    |\n",
      "|New Haven-Milford, CT                      |4007    |\n",
      "|Jackson, MS                                |3839    |\n",
      "+-------------------------------------------+--------+\n",
      "only showing top 20 rows\n",
      "\n"
     ]
    }
   ],
   "source": [
    "# Localização dos usuários do serviço\n",
    "ssql.sql(\"select location,count(location) as location \"+\n",
    "         \"from data \"+\n",
    "         \"group by location \"+\n",
    "         \"order by count(location) desc\").show(truncate=False)"
   ]
  },
  {
   "attachments": {},
   "cell_type": "markdown",
   "metadata": {},
   "source": [
    "## Data Preprocessing"
   ]
  },
  {
   "attachments": {},
   "cell_type": "markdown",
   "metadata": {},
   "source": [
    "Com a exploração feita temos uma pequena noção do que deve ser ajeitado para termos os dados em um melhor formato. Para então, depois que tivermos esses dados melhores tratados poderemos explorar alguns detalhes finais, e voltar a processar os dados caso for necessário."
   ]
  },
  {
   "attachments": {},
   "cell_type": "markdown",
   "metadata": {},
   "source": [
    "Iremos começar adicionando mais uma variável ao data set representando se determinado usuário deixou de usar o serviço (churn)"
   ]
  },
  {
   "cell_type": "code",
   "execution_count": 35,
   "metadata": {},
   "outputs": [],
   "source": [
    "# Adicionando coluna int para churn\n",
    "data = data.withColumn('churn', F.when((data.page == 'Cancellation Confirmation'), F.lit(1))\\\n",
    "                     .otherwise(F.lit(0)))\n",
    "# Nova coluna int para pago ou não pago\n",
    "data = data.withColumn('paid', F.when((data.level == 'paid'), F.lit(1))\\\n",
    "                     .otherwise(F.lit(0)))\n",
    "\n",
    "# Nova coluna int para sexo feminino ou não(masculino)\n",
    "data = data.withColumn('Feminino', F.when((data.gender == 'F'), F.lit(1))\\\n",
    "                       .when((data.gender == 'M'), F.lit(0)).otherwise('null'))\n",
    "\n",
    "# O se o a chamda HTTP foi get ou não\n",
    "data = data.withColumn('method_GET', F.when((data.method == 'GET'), F.lit(1))\\\n",
    "                     .otherwise(F.lit(0)))"
   ]
  },
  {
   "attachments": {},
   "cell_type": "markdown",
   "metadata": {},
   "source": [
    "Iremos fazer One-hot-encode em variáveis str com mais de 2 classes. Para usar o One_hot_encode iremos criar uma função, pois as que encontrei disponível em pyspark não atende as necessidades."
   ]
  },
  {
   "cell_type": "code",
   "execution_count": 39,
   "metadata": {},
   "outputs": [],
   "source": [
    "# Função para One_hot_encode\n",
    "def One_hot_encode(data_set, coluna):\n",
    "    for i in data_set.select(coluna).distinct().collect():\n",
    "        data_set = data_set.withColumn(i[coluna]+' _One_hot', F.when((data_set[coluna] == i[coluna]), F.lit(1))\\\n",
    "                     .otherwise(F.lit(0)))\n",
    "    return data_set\n",
    "\n",
    "data = One_hot_encode(data, 'auth')"
   ]
  },
  {
   "cell_type": "code",
   "execution_count": 40,
   "metadata": {},
   "outputs": [],
   "source": [
    "# Encluindo colunas que foram representadas de outra forma\n",
    "data = data.drop('gender').drop('level').drop('method').drop('auth').drop('Cancelled One_hot')\n",
    "# CancelledOne_hot = churn"
   ]
  },
  {
   "cell_type": "code",
   "execution_count": 41,
   "metadata": {},
   "outputs": [
    {
     "name": "stdout",
     "output_type": "stream",
     "text": [
      "+---+--------------------+---------+-------------+--------+---------+--------------------+---------------+---------------+---------+--------------------+------+-------------+--------------------+--------------------+-----+----+--------+----------+-------------------+------------------+------------------+--------------+\n",
      "|_c0|              artist|firstName|itemInSession|lastName|   length|            location|           page|   registration|sessionId|                song|status|           ts|           userAgent|              userId|churn|paid|Feminino|method_GET|Logged Out _One_hot|Cancelled _One_hot|Logged In _One_hot|Guest _One_hot|\n",
      "+---+--------------------+---------+-------------+--------+---------+--------------------+---------------+---------------+---------+--------------------+------+-------------+--------------------+--------------------+-----+----+--------+----------+-------------------+------------------+------------------+--------------+\n",
      "|  0|      Martha Tilston|    Colin|           50| Freeman|277.89016|     Bakersfield, CA|       NextSong|1538173362000.0|       29|           Rockpools|   200|1538352117000|Mozilla/5.0 (Wind...|                  30|    0|   1|       0|         0|                  0|                 0|                 1|             0|\n",
      "|  1|    Five Iron Frenzy|    Micah|           79|    Long|236.09424|Boston-Cambridge-...|       NextSong|1538331630000.0|        8|              Canada|   200|1538352180000|\"\"\"Mozilla/5.0 (W...| like Gecko) Chro...|    0|   0|       0|         0|                  0|                 0|                 1|             0|\n",
      "|  2|        Adam Lambert|    Colin|           51| Freeman| 282.8273|     Bakersfield, CA|       NextSong|1538173362000.0|       29|   Time For Miracles|   200|1538352394000|Mozilla/5.0 (Wind...|                  30|    0|   1|       0|         0|                  0|                 0|                 1|             0|\n",
      "|  3|              Enigma|    Micah|           80|    Long|262.71302|Boston-Cambridge-...|       NextSong|1538331630000.0|        8|Knocking On Forbi...|   200|1538352416000|\"\"\"Mozilla/5.0 (W...| like Gecko) Chro...|    0|   0|       0|         0|                  0|                 0|                 1|             0|\n",
      "|  4|           Daft Punk|    Colin|           52| Freeman|223.60771|     Bakersfield, CA|       NextSong|1538173362000.0|       29|Harder Better Fas...|   200|1538352676000|Mozilla/5.0 (Wind...|                  30|    0|   1|       0|         0|                  0|                 0|                 1|             0|\n",
      "|  5|The All-American ...|    Micah|           81|    Long|208.29995|Boston-Cambridge-...|       NextSong|1538331630000.0|        8|      Don't Leave Me|   200|1538352678000|\"\"\"Mozilla/5.0 (W...| like Gecko) Chro...|    0|   0|       0|         0|                  0|                 0|                 1|             0|\n",
      "|  6|The Velvet Underg...|    Micah|           82|    Long|260.46649|Boston-Cambridge-...|       NextSong|1538331630000.0|        8|         Run Run Run|   200|1538352886000|\"\"\"Mozilla/5.0 (W...| like Gecko) Chro...|    0|   0|       0|         0|                  0|                 0|                 1|             0|\n",
      "|  7|        Starflyer 59|    Colin|           53| Freeman|185.44281|     Bakersfield, CA|       NextSong|1538173362000.0|       29|Passengers (Old A...|   200|1538352899000|Mozilla/5.0 (Wind...|                  30|    0|   1|       0|         0|                  0|                 0|                 1|             0|\n",
      "|  8|                null|    Colin|           54| Freeman|     null|     Bakersfield, CA|Add to Playlist|1538173362000.0|       29|                null|   200|1538352905000|Mozilla/5.0 (Wind...|                  30|    0|   1|       0|         0|                  0|                 0|                 1|             0|\n",
      "|  9|            Frumpies|    Colin|           55| Freeman|134.47791|     Bakersfield, CA|       NextSong|1538173362000.0|       29|          Fuck Kitty|   200|1538353084000|Mozilla/5.0 (Wind...|                  30|    0|   1|       0|         0|                  0|                 0|                 1|             0|\n",
      "| 10|        Britt Nicole|    Micah|           83|    Long| 229.8771|Boston-Cambridge-...|       NextSong|1538331630000.0|        8|   Walk On The Water|   200|1538353146000|\"\"\"Mozilla/5.0 (W...| like Gecko) Chro...|    0|   0|       0|         0|                  0|                 0|                 1|             0|\n",
      "| 11|                null|    Micah|           84|    Long|     null|Boston-Cambridge-...|    Roll Advert|1538331630000.0|        8|                null|   200|1538353150000|\"\"\"Mozilla/5.0 (W...| like Gecko) Chro...|    0|   0|       0|         1|                  0|                 0|                 1|             0|\n",
      "| 12|Edward Sharpe & T...|    Colin|           56| Freeman|223.58159|     Bakersfield, CA|       NextSong|1538173362000.0|       29|                Jade|   200|1538353218000|Mozilla/5.0 (Wind...|                  30|    0|   1|       0|         0|                  0|                 0|                 1|             0|\n",
      "| 13|               Tesla|    Micah|           85|    Long|201.06404|Boston-Cambridge-...|       NextSong|1538331630000.0|        8|      Gettin' Better|   200|1538353375000|\"\"\"Mozilla/5.0 (W...| like Gecko) Chro...|    0|   0|       0|         0|                  0|                 0|                 1|             0|\n",
      "| 14|                null|    Micah|           86|    Long|     null|Boston-Cambridge-...|      Thumbs Up|1538331630000.0|        8|                null|   307|1538353376000|\"\"\"Mozilla/5.0 (W...| like Gecko) Chro...|    0|   0|       0|         0|                  0|                 0|                 1|             0|\n",
      "| 15|         Stan Mosley|    Colin|           57| Freeman|246.69995|     Bakersfield, CA|       NextSong|1538173362000.0|       29|   So-Called Friends|   200|1538353441000|Mozilla/5.0 (Wind...|                  30|    0|   1|       0|         0|                  0|                 0|                 1|             0|\n",
      "| 16|Florence + The Ma...|    Micah|           87|    Long|168.64608|Boston-Cambridge-...|       NextSong|1538331630000.0|        8| You've Got The Love|   200|1538353576000|\"\"\"Mozilla/5.0 (W...| like Gecko) Chro...|    0|   0|       0|         0|                  0|                 0|                 1|             0|\n",
      "| 17|   Tokyo Police Club|  Ashlynn|            0|Williams| 166.1122|     Tallahassee, FL|       NextSong|1537365219000.0|      217|Citizens Of Tomorrow|   200|1538353668000|\"\"\"Mozilla/5.0 (M...| like Gecko) Chro...|    0|   0|       1|         0|                  0|                 0|                 1|             0|\n",
      "| 18|             Orishas|    Colin|           58| Freeman|222.22322|     Bakersfield, CA|       NextSong|1538173362000.0|       29|           Represent|   200|1538353687000|Mozilla/5.0 (Wind...|                  30|    0|   1|       0|         0|                  0|                 0|                 1|             0|\n",
      "| 19|             Ratatat|    Micah|           88|    Long|229.77261|Boston-Cambridge-...|       NextSong|1538331630000.0|        8|              Swisha|   200|1538353744000|\"\"\"Mozilla/5.0 (W...| like Gecko) Chro...|    0|   0|       0|         0|                  0|                 0|                 1|             0|\n",
      "+---+--------------------+---------+-------------+--------+---------+--------------------+---------------+---------------+---------+--------------------+------+-------------+--------------------+--------------------+-----+----+--------+----------+-------------------+------------------+------------------+--------------+\n",
      "only showing top 20 rows\n",
      "\n"
     ]
    }
   ],
   "source": [
    "data.show()"
   ]
  },
  {
   "attachments": {},
   "cell_type": "markdown",
   "metadata": {},
   "source": [
    "Registration e ts são variáveis do tipo date, porem não estão configuradas do jeito que lemos, então farei um processo para processa-los. Porem o caminho mais fácil está dando problemas, ao pesquisá-lo diz ser questão de versão em compatibilidade, podendo ser do java, python,  spark ou hadoop, testei em outras versões algum deles porem sem sucesso, então o caminho será um pouco mais longo"
   ]
  },
  {
   "cell_type": "code",
   "execution_count": 44,
   "metadata": {},
   "outputs": [
    {
     "data": {
      "text/plain": [
       "['0,2018-09-30 21:01:57',\n",
       " '1,2018-09-30 21:03:00',\n",
       " '2,2018-09-30 21:06:34',\n",
       " '3,2018-09-30 21:06:56',\n",
       " '4,2018-09-30 21:11:16']"
      ]
     },
     "execution_count": 44,
     "metadata": {},
     "output_type": "execute_result"
    }
   ],
   "source": [
    "# Loop por toda coluna em ts passando os dados para %Y-%m-%d %H:%M:%S\n",
    "count = 0\n",
    "date1 = []\n",
    "for i in data.select('ts').collect():\n",
    "    date = datetime.datetime.fromtimestamp(int(i.ts) / 1000.0)\\\n",
    "        .strftime(\"%Y-%m-%d %H:%M:%S\")\n",
    "    date1.append(str(count)+','+date)\n",
    "    count+=1\n",
    "date1[:5]"
   ]
  },
  {
   "cell_type": "code",
   "execution_count": 45,
   "metadata": {},
   "outputs": [
    {
     "data": {
      "text/plain": [
       "['0,2018-09-28 19:22:42',\n",
       " '1,2018-09-30 15:20:30',\n",
       " '2,2018-09-28 19:22:42',\n",
       " '3,2018-09-30 15:20:30',\n",
       " '4,2018-09-28 19:22:42']"
      ]
     },
     "execution_count": 45,
     "metadata": {},
     "output_type": "execute_result"
    }
   ],
   "source": [
    "# Loop por toda coluna em restration passando os dados para %Y-%m-%d %H:%M:%S\n",
    "count = 0\n",
    "date2 = []\n",
    "for i in data.select('registration').collect():\n",
    "    # registration possui alguns Nan values que causam erro. E por condição é muito custoso\n",
    "    try:\n",
    "        date = datetime.datetime.fromtimestamp(float(i.registration) / 1000.0)\\\n",
    "            .strftime(\"%Y-%m-%d %H:%M:%S\")\n",
    "    except:\n",
    "        date = 'None'\n",
    "    date2.append(str(count)+','+date)\n",
    "    count+=1\n",
    "date2[:5]"
   ]
  },
  {
   "attachments": {},
   "cell_type": "markdown",
   "metadata": {},
   "source": [
    "O jeito mais fácil para passar esses dados para o dataframe foi transformando cada lista (date1, date2) em um próprio dataframe para então depois usar um join em cada no dataframe principal (data).\n",
    "Tive problemas em juntar os dois dataframe (date1, date2) para então fazer um join com data. (Seria menos custos)"
   ]
  },
  {
   "cell_type": "code",
   "execution_count": 46,
   "metadata": {},
   "outputs": [],
   "source": [
    "# Excluindo as colunas com os dados antigos\n",
    "data = data.drop('ts').drop('registration')\n",
    "\n",
    "# Dataframe da lista com date1\n",
    "date1 = sc.parallelize(date1)\n",
    "date1 = date1.map(lambda x: x.split(','))\n",
    "date1 = date1.mapValues(lambda x: x)\n",
    "date1 = ssql.createDataFrame(date1)\n",
    "date1 = date1.withColumnRenamed('_2', 'ts')\n",
    "data = data.join(date1, data._c0 == date1._1, 'inner')\n",
    "\n",
    "# Dataframe da lista com date2\n",
    "date2 = sc.parallelize(date2)\n",
    "date2 = date2.map(lambda x: x.split(','))\n",
    "date2 = date2.mapValues(lambda x: x)\n",
    "date2 = ssql.createDataFrame(date2)\n",
    "date2 = date2.withColumnRenamed('_2', 'registration')\n",
    "data = data.join(date2, data._c0 == date2._1, 'inner')\n",
    "\n",
    "# Excluindo o index usado para juntar os 3 dataframe\n",
    "data = data.drop('_1')"
   ]
  },
  {
   "cell_type": "code",
   "execution_count": 47,
   "metadata": {},
   "outputs": [
    {
     "name": "stdout",
     "output_type": "stream",
     "text": [
      "+---+--------------------+---------+---------+------+-------------+--------+---------+-----+--------------------+------+---------------+---------+--------------------+------+--------------------+--------------------+-----+----+--------+----------+-------------------+-------------------+\n",
      "|_c0|              artist|     auth|firstName|gender|itemInSession|lastName|   length|level|            location|method|           page|sessionId|                song|status|           userAgent|              userId|churn|paid|Feminino|method_GET|                 ts|       registration|\n",
      "+---+--------------------+---------+---------+------+-------------+--------+---------+-----+--------------------+------+---------------+---------+--------------------+------+--------------------+--------------------+-----+----+--------+----------+-------------------+-------------------+\n",
      "|  0|      Martha Tilston|Logged In|    Colin|     M|           50| Freeman|277.89016| paid|     Bakersfield, CA|   PUT|       NextSong|       29|           Rockpools|   200|Mozilla/5.0 (Wind...|                  30|    0|   1|       0|         0|2018-09-30 21:01:57|2018-09-28 19:22:42|\n",
      "|  1|    Five Iron Frenzy|Logged In|    Micah|     M|           79|    Long|236.09424| free|Boston-Cambridge-...|   PUT|       NextSong|        8|              Canada|   200|\"\"\"Mozilla/5.0 (W...| like Gecko) Chro...|    0|   0|       0|         0|2018-09-30 21:03:00|2018-09-30 15:20:30|\n",
      "|  2|        Adam Lambert|Logged In|    Colin|     M|           51| Freeman| 282.8273| paid|     Bakersfield, CA|   PUT|       NextSong|       29|   Time For Miracles|   200|Mozilla/5.0 (Wind...|                  30|    0|   1|       0|         0|2018-09-30 21:06:34|2018-09-28 19:22:42|\n",
      "|  3|              Enigma|Logged In|    Micah|     M|           80|    Long|262.71302| free|Boston-Cambridge-...|   PUT|       NextSong|        8|Knocking On Forbi...|   200|\"\"\"Mozilla/5.0 (W...| like Gecko) Chro...|    0|   0|       0|         0|2018-09-30 21:06:56|2018-09-30 15:20:30|\n",
      "|  4|           Daft Punk|Logged In|    Colin|     M|           52| Freeman|223.60771| paid|     Bakersfield, CA|   PUT|       NextSong|       29|Harder Better Fas...|   200|Mozilla/5.0 (Wind...|                  30|    0|   1|       0|         0|2018-09-30 21:11:16|2018-09-28 19:22:42|\n",
      "|  5|The All-American ...|Logged In|    Micah|     M|           81|    Long|208.29995| free|Boston-Cambridge-...|   PUT|       NextSong|        8|      Don't Leave Me|   200|\"\"\"Mozilla/5.0 (W...| like Gecko) Chro...|    0|   0|       0|         0|2018-09-30 21:11:18|2018-09-30 15:20:30|\n",
      "|  6|The Velvet Underg...|Logged In|    Micah|     M|           82|    Long|260.46649| free|Boston-Cambridge-...|   PUT|       NextSong|        8|         Run Run Run|   200|\"\"\"Mozilla/5.0 (W...| like Gecko) Chro...|    0|   0|       0|         0|2018-09-30 21:14:46|2018-09-30 15:20:30|\n",
      "|  7|        Starflyer 59|Logged In|    Colin|     M|           53| Freeman|185.44281| paid|     Bakersfield, CA|   PUT|       NextSong|       29|Passengers (Old A...|   200|Mozilla/5.0 (Wind...|                  30|    0|   1|       0|         0|2018-09-30 21:14:59|2018-09-28 19:22:42|\n",
      "|  8|                null|Logged In|    Colin|     M|           54| Freeman|     null| paid|     Bakersfield, CA|   PUT|Add to Playlist|       29|                null|   200|Mozilla/5.0 (Wind...|                  30|    0|   1|       0|         0|2018-09-30 21:15:05|2018-09-28 19:22:42|\n",
      "|  9|            Frumpies|Logged In|    Colin|     M|           55| Freeman|134.47791| paid|     Bakersfield, CA|   PUT|       NextSong|       29|          Fuck Kitty|   200|Mozilla/5.0 (Wind...|                  30|    0|   1|       0|         0|2018-09-30 21:18:04|2018-09-28 19:22:42|\n",
      "| 10|        Britt Nicole|Logged In|    Micah|     M|           83|    Long| 229.8771| free|Boston-Cambridge-...|   PUT|       NextSong|        8|   Walk On The Water|   200|\"\"\"Mozilla/5.0 (W...| like Gecko) Chro...|    0|   0|       0|         0|2018-09-30 21:19:06|2018-09-30 15:20:30|\n",
      "| 11|                null|Logged In|    Micah|     M|           84|    Long|     null| free|Boston-Cambridge-...|   GET|    Roll Advert|        8|                null|   200|\"\"\"Mozilla/5.0 (W...| like Gecko) Chro...|    0|   0|       0|         1|2018-09-30 21:19:10|2018-09-30 15:20:30|\n",
      "| 12|Edward Sharpe & T...|Logged In|    Colin|     M|           56| Freeman|223.58159| paid|     Bakersfield, CA|   PUT|       NextSong|       29|                Jade|   200|Mozilla/5.0 (Wind...|                  30|    0|   1|       0|         0|2018-09-30 21:20:18|2018-09-28 19:22:42|\n",
      "| 13|               Tesla|Logged In|    Micah|     M|           85|    Long|201.06404| free|Boston-Cambridge-...|   PUT|       NextSong|        8|      Gettin' Better|   200|\"\"\"Mozilla/5.0 (W...| like Gecko) Chro...|    0|   0|       0|         0|2018-09-30 21:22:55|2018-09-30 15:20:30|\n",
      "| 14|                null|Logged In|    Micah|     M|           86|    Long|     null| free|Boston-Cambridge-...|   PUT|      Thumbs Up|        8|                null|   307|\"\"\"Mozilla/5.0 (W...| like Gecko) Chro...|    0|   0|       0|         0|2018-09-30 21:22:56|2018-09-30 15:20:30|\n",
      "| 15|         Stan Mosley|Logged In|    Colin|     M|           57| Freeman|246.69995| paid|     Bakersfield, CA|   PUT|       NextSong|       29|   So-Called Friends|   200|Mozilla/5.0 (Wind...|                  30|    0|   1|       0|         0|2018-09-30 21:24:01|2018-09-28 19:22:42|\n",
      "| 16|Florence + The Ma...|Logged In|    Micah|     M|           87|    Long|168.64608| free|Boston-Cambridge-...|   PUT|       NextSong|        8| You've Got The Love|   200|\"\"\"Mozilla/5.0 (W...| like Gecko) Chro...|    0|   0|       0|         0|2018-09-30 21:26:16|2018-09-30 15:20:30|\n",
      "| 17|   Tokyo Police Club|Logged In|  Ashlynn|     F|            0|Williams| 166.1122| free|     Tallahassee, FL|   PUT|       NextSong|      217|Citizens Of Tomorrow|   200|\"\"\"Mozilla/5.0 (M...| like Gecko) Chro...|    0|   0|       1|         0|2018-09-30 21:27:48|2018-09-19 10:53:39|\n",
      "| 18|             Orishas|Logged In|    Colin|     M|           58| Freeman|222.22322| paid|     Bakersfield, CA|   PUT|       NextSong|       29|           Represent|   200|Mozilla/5.0 (Wind...|                  30|    0|   1|       0|         0|2018-09-30 21:28:07|2018-09-28 19:22:42|\n",
      "| 19|             Ratatat|Logged In|    Micah|     M|           88|    Long|229.77261| free|Boston-Cambridge-...|   PUT|       NextSong|        8|              Swisha|   200|\"\"\"Mozilla/5.0 (W...| like Gecko) Chro...|    0|   0|       0|         0|2018-09-30 21:29:04|2018-09-30 15:20:30|\n",
      "+---+--------------------+---------+---------+------+-------------+--------+---------+-----+--------------------+------+---------------+---------+--------------------+------+--------------------+--------------------+-----+----+--------+----------+-------------------+-------------------+\n",
      "only showing top 20 rows\n",
      "\n"
     ]
    }
   ],
   "source": [
    "# Passando _c0 para int, e colocando em ordem\n",
    "data = data.withColumn(\"_c0\", data._c0.cast('int'))\n",
    "data = data.orderBy('_c0')\n",
    "data.show()"
   ]
  },
  {
   "attachments": {},
   "cell_type": "markdown",
   "metadata": {},
   "source": [
    "Devemos agora tratar os nulls. Eles realmente tem um padrão, porem como poderemos observar os padrões são esperados. Por exemplo, o tamanho da música irá ser null com certeza se não houver músicas tocando."
   ]
  },
  {
   "cell_type": "code",
   "execution_count": 67,
   "metadata": {},
   "outputs": [
    {
     "name": "stdout",
     "output_type": "stream",
     "text": [
      "+--------+\n",
      "|page    |\n",
      "+--------+\n",
      "|NextSong|\n",
      "+--------+\n",
      "\n"
     ]
    }
   ],
   "source": [
    "# Irá retornar o tipo da interação do usuário quando o tamanho da música é null\n",
    "ssql.sql(\"select page \"+\n",
    "         \"from data \"+\n",
    "         \"where length is not null \"+\n",
    "         \"group by page \"+\n",
    "         \"order by count(page) desc\").show(truncate=False)"
   ]
  },
  {
   "cell_type": "code",
   "execution_count": 71,
   "metadata": {},
   "outputs": [
    {
     "name": "stdout",
     "output_type": "stream",
     "text": [
      "+-------------------+\n",
      "|               page|\n",
      "+-------------------+\n",
      "|               Home|\n",
      "|              Login|\n",
      "|              About|\n",
      "|               Help|\n",
      "|           Register|\n",
      "|              Error|\n",
      "|Submit Registration|\n",
      "+-------------------+\n",
      "\n"
     ]
    }
   ],
   "source": [
    "# Irá retornar o tipo da interação do usuário quando o sexo (e todos os outros) são null\n",
    "# (artist, length, song, firstName, gender, lastName, location, registration, userAgent, userID)\n",
    "ssql.sql(\"select page \"+\n",
    "         \"from data \"+\n",
    "         \"where gender is null \"+      \n",
    "         \"group by page \"+\n",
    "         \"order by count(page) desc\").show()"
   ]
  },
  {
   "cell_type": "code",
   "execution_count": 69,
   "metadata": {},
   "outputs": [
    {
     "name": "stdout",
     "output_type": "stream",
     "text": [
      "+--------------------+\n",
      "|                page|\n",
      "+--------------------+\n",
      "|            NextSong|\n",
      "|           Thumbs Up|\n",
      "|                Home|\n",
      "|     Add to Playlist|\n",
      "|          Add Friend|\n",
      "|         Roll Advert|\n",
      "|              Logout|\n",
      "|         Thumbs Down|\n",
      "|           Downgrade|\n",
      "|            Settings|\n",
      "|                Help|\n",
      "|             Upgrade|\n",
      "|               About|\n",
      "|       Save Settings|\n",
      "|               Error|\n",
      "|      Submit Upgrade|\n",
      "|    Submit Downgrade|\n",
      "|              Cancel|\n",
      "|Cancellation Conf...|\n",
      "+--------------------+\n",
      "\n"
     ]
    }
   ],
   "source": [
    "# Irá retornar o tipo da interação do usuário quando o sexo (e todos os outros) não são null\n",
    "# (artist, length, song, firstName, gender, lastName, location, registration, userAgent, userID)\n",
    "ssql.sql(\"select page \"+\n",
    "         \"from data \"+\n",
    "         \"where gender is not null \"+      \n",
    "         \"group by page \"+\n",
    "         \"order by count(page) desc\").show()"
   ]
  },
  {
   "cell_type": "code",
   "execution_count": 27,
   "metadata": {},
   "outputs": [
    {
     "name": "stdout",
     "output_type": "stream",
     "text": [
      "+--------------------+\n",
      "|                page|\n",
      "+--------------------+\n",
      "|            NextSong|\n",
      "|           Thumbs Up|\n",
      "|                Home|\n",
      "|     Add to Playlist|\n",
      "|          Add Friend|\n",
      "|         Roll Advert|\n",
      "|              Logout|\n",
      "|         Thumbs Down|\n",
      "|           Downgrade|\n",
      "|            Settings|\n",
      "|                Help|\n",
      "|             Upgrade|\n",
      "|               About|\n",
      "|       Save Settings|\n",
      "|               Error|\n",
      "|      Submit Upgrade|\n",
      "|    Submit Downgrade|\n",
      "|              Cancel|\n",
      "|Cancellation Conf...|\n",
      "+--------------------+\n",
      "\n"
     ]
    }
   ],
   "source": [
    "ssql.sql(\"select page \"+\n",
    "         \"from data \"+\n",
    "         \"where userID is not null \"+      \n",
    "         \"group by page \"+\n",
    "         \"order by count(page) desc\").show()"
   ]
  },
  {
   "attachments": {},
   "cell_type": "markdown",
   "metadata": {},
   "source": [
    "Então não haverá necessidade de tratar esses null values já que são normais."
   ]
  },
  {
   "cell_type": "code",
   "execution_count": 89,
   "metadata": {},
   "outputs": [
    {
     "name": "stdout",
     "output_type": "stream",
     "text": [
      "+---+--------------------+---------+---------+------+-------------+--------+---------+-----+--------------------+------+---------------+---------+--------------------+------+--------------------+--------------------+-----+----+--------+----------+-------------------+-------------------+\n",
      "|_c0|              artist|     auth|firstName|gender|itemInSession|lastName|   length|level|            location|method|           page|sessionId|                song|status|           userAgent|              userId|churn|paid|Feminino|method_GET|                 ts|       registration|\n",
      "+---+--------------------+---------+---------+------+-------------+--------+---------+-----+--------------------+------+---------------+---------+--------------------+------+--------------------+--------------------+-----+----+--------+----------+-------------------+-------------------+\n",
      "|  0|      Martha Tilston|Logged In|    Colin|     M|           50| Freeman|277.89016| paid|     Bakersfield, CA|   PUT|       NextSong|       29|           Rockpools|   200|Mozilla/5.0 (Wind...|                  30|    0|   1|       0|         0|2018-09-30 21:01:57|2018-09-28 19:22:42|\n",
      "|  1|    Five Iron Frenzy|Logged In|    Micah|     M|           79|    Long|236.09424| free|Boston-Cambridge-...|   PUT|       NextSong|        8|              Canada|   200|\"\"\"Mozilla/5.0 (W...| like Gecko) Chro...|    0|   0|       0|         0|2018-09-30 21:03:00|2018-09-30 15:20:30|\n",
      "|  2|        Adam Lambert|Logged In|    Colin|     M|           51| Freeman| 282.8273| paid|     Bakersfield, CA|   PUT|       NextSong|       29|   Time For Miracles|   200|Mozilla/5.0 (Wind...|                  30|    0|   1|       0|         0|2018-09-30 21:06:34|2018-09-28 19:22:42|\n",
      "|  3|              Enigma|Logged In|    Micah|     M|           80|    Long|262.71302| free|Boston-Cambridge-...|   PUT|       NextSong|        8|Knocking On Forbi...|   200|\"\"\"Mozilla/5.0 (W...| like Gecko) Chro...|    0|   0|       0|         0|2018-09-30 21:06:56|2018-09-30 15:20:30|\n",
      "|  4|           Daft Punk|Logged In|    Colin|     M|           52| Freeman|223.60771| paid|     Bakersfield, CA|   PUT|       NextSong|       29|Harder Better Fas...|   200|Mozilla/5.0 (Wind...|                  30|    0|   1|       0|         0|2018-09-30 21:11:16|2018-09-28 19:22:42|\n",
      "|  5|The All-American ...|Logged In|    Micah|     M|           81|    Long|208.29995| free|Boston-Cambridge-...|   PUT|       NextSong|        8|      Don't Leave Me|   200|\"\"\"Mozilla/5.0 (W...| like Gecko) Chro...|    0|   0|       0|         0|2018-09-30 21:11:18|2018-09-30 15:20:30|\n",
      "|  6|The Velvet Underg...|Logged In|    Micah|     M|           82|    Long|260.46649| free|Boston-Cambridge-...|   PUT|       NextSong|        8|         Run Run Run|   200|\"\"\"Mozilla/5.0 (W...| like Gecko) Chro...|    0|   0|       0|         0|2018-09-30 21:14:46|2018-09-30 15:20:30|\n",
      "|  7|        Starflyer 59|Logged In|    Colin|     M|           53| Freeman|185.44281| paid|     Bakersfield, CA|   PUT|       NextSong|       29|Passengers (Old A...|   200|Mozilla/5.0 (Wind...|                  30|    0|   1|       0|         0|2018-09-30 21:14:59|2018-09-28 19:22:42|\n",
      "|  8|                null|Logged In|    Colin|     M|           54| Freeman|     null| paid|     Bakersfield, CA|   PUT|Add to Playlist|       29|                null|   200|Mozilla/5.0 (Wind...|                  30|    0|   1|       0|         0|2018-09-30 21:15:05|2018-09-28 19:22:42|\n",
      "|  9|            Frumpies|Logged In|    Colin|     M|           55| Freeman|134.47791| paid|     Bakersfield, CA|   PUT|       NextSong|       29|          Fuck Kitty|   200|Mozilla/5.0 (Wind...|                  30|    0|   1|       0|         0|2018-09-30 21:18:04|2018-09-28 19:22:42|\n",
      "| 10|        Britt Nicole|Logged In|    Micah|     M|           83|    Long| 229.8771| free|Boston-Cambridge-...|   PUT|       NextSong|        8|   Walk On The Water|   200|\"\"\"Mozilla/5.0 (W...| like Gecko) Chro...|    0|   0|       0|         0|2018-09-30 21:19:06|2018-09-30 15:20:30|\n",
      "| 11|                null|Logged In|    Micah|     M|           84|    Long|     null| free|Boston-Cambridge-...|   GET|    Roll Advert|        8|                null|   200|\"\"\"Mozilla/5.0 (W...| like Gecko) Chro...|    0|   0|       0|         1|2018-09-30 21:19:10|2018-09-30 15:20:30|\n",
      "| 12|Edward Sharpe & T...|Logged In|    Colin|     M|           56| Freeman|223.58159| paid|     Bakersfield, CA|   PUT|       NextSong|       29|                Jade|   200|Mozilla/5.0 (Wind...|                  30|    0|   1|       0|         0|2018-09-30 21:20:18|2018-09-28 19:22:42|\n",
      "| 13|               Tesla|Logged In|    Micah|     M|           85|    Long|201.06404| free|Boston-Cambridge-...|   PUT|       NextSong|        8|      Gettin' Better|   200|\"\"\"Mozilla/5.0 (W...| like Gecko) Chro...|    0|   0|       0|         0|2018-09-30 21:22:55|2018-09-30 15:20:30|\n",
      "| 14|                null|Logged In|    Micah|     M|           86|    Long|     null| free|Boston-Cambridge-...|   PUT|      Thumbs Up|        8|                null|   307|\"\"\"Mozilla/5.0 (W...| like Gecko) Chro...|    0|   0|       0|         0|2018-09-30 21:22:56|2018-09-30 15:20:30|\n",
      "| 15|         Stan Mosley|Logged In|    Colin|     M|           57| Freeman|246.69995| paid|     Bakersfield, CA|   PUT|       NextSong|       29|   So-Called Friends|   200|Mozilla/5.0 (Wind...|                  30|    0|   1|       0|         0|2018-09-30 21:24:01|2018-09-28 19:22:42|\n",
      "| 16|Florence + The Ma...|Logged In|    Micah|     M|           87|    Long|168.64608| free|Boston-Cambridge-...|   PUT|       NextSong|        8| You've Got The Love|   200|\"\"\"Mozilla/5.0 (W...| like Gecko) Chro...|    0|   0|       0|         0|2018-09-30 21:26:16|2018-09-30 15:20:30|\n",
      "| 17|   Tokyo Police Club|Logged In|  Ashlynn|     F|            0|Williams| 166.1122| free|     Tallahassee, FL|   PUT|       NextSong|      217|Citizens Of Tomorrow|   200|\"\"\"Mozilla/5.0 (M...| like Gecko) Chro...|    0|   0|       1|         0|2018-09-30 21:27:48|2018-09-19 10:53:39|\n",
      "| 18|             Orishas|Logged In|    Colin|     M|           58| Freeman|222.22322| paid|     Bakersfield, CA|   PUT|       NextSong|       29|           Represent|   200|Mozilla/5.0 (Wind...|                  30|    0|   1|       0|         0|2018-09-30 21:28:07|2018-09-28 19:22:42|\n",
      "| 19|             Ratatat|Logged In|    Micah|     M|           88|    Long|229.77261| free|Boston-Cambridge-...|   PUT|       NextSong|        8|              Swisha|   200|\"\"\"Mozilla/5.0 (W...| like Gecko) Chro...|    0|   0|       0|         0|2018-09-30 21:29:04|2018-09-30 15:20:30|\n",
      "+---+--------------------+---------+---------+------+-------------+--------+---------+-----+--------------------+------+---------------+---------+--------------------+------+--------------------+--------------------+-----+----+--------+----------+-------------------+-------------------+\n",
      "only showing top 20 rows\n",
      "\n"
     ]
    }
   ],
   "source": [
    "data.show()"
   ]
  },
  {
   "cell_type": "code",
   "execution_count": 22,
   "metadata": {},
   "outputs": [
    {
     "name": "stdout",
     "output_type": "stream",
     "text": [
      "+-----+--------------------+---------+---------+------+-------------+--------+----------+-----+---------------+------+----------------+---------+--------------------+------+--------------------+------+-------------------+-------------------+\n",
      "|  _c0|              artist|     auth|firstName|gender|itemInSession|lastName|    length|level|       location|method|            page|sessionId|                song|status|           userAgent|userId|                 ts|       registration|\n",
      "+-----+--------------------+---------+---------+------+-------------+--------+----------+-----+---------------+------+----------------+---------+--------------------+------+--------------------+------+-------------------+-------------------+\n",
      "|    0|      Martha Tilston|Logged In|    Colin|     M|           50| Freeman| 277.89016| paid|Bakersfield, CA|   PUT|        NextSong|       29|           Rockpools|   200|Mozilla/5.0 (Wind...|    30|2018-09-30 21:01:57|2018-09-28 19:22:42|\n",
      "|    2|        Adam Lambert|Logged In|    Colin|     M|           51| Freeman|  282.8273| paid|Bakersfield, CA|   PUT|        NextSong|       29|   Time For Miracles|   200|Mozilla/5.0 (Wind...|    30|2018-09-30 21:06:34|2018-09-28 19:22:42|\n",
      "|    4|           Daft Punk|Logged In|    Colin|     M|           52| Freeman| 223.60771| paid|Bakersfield, CA|   PUT|        NextSong|       29|Harder Better Fas...|   200|Mozilla/5.0 (Wind...|    30|2018-09-30 21:11:16|2018-09-28 19:22:42|\n",
      "|    7|        Starflyer 59|Logged In|    Colin|     M|           53| Freeman| 185.44281| paid|Bakersfield, CA|   PUT|        NextSong|       29|Passengers (Old A...|   200|Mozilla/5.0 (Wind...|    30|2018-09-30 21:14:59|2018-09-28 19:22:42|\n",
      "|    8|                null|Logged In|    Colin|     M|           54| Freeman|      null| paid|Bakersfield, CA|   PUT| Add to Playlist|       29|                null|   200|Mozilla/5.0 (Wind...|    30|2018-09-30 21:15:05|2018-09-28 19:22:42|\n",
      "|    9|            Frumpies|Logged In|    Colin|     M|           55| Freeman| 134.47791| paid|Bakersfield, CA|   PUT|        NextSong|       29|          Fuck Kitty|   200|Mozilla/5.0 (Wind...|    30|2018-09-30 21:18:04|2018-09-28 19:22:42|\n",
      "|   12|Edward Sharpe & T...|Logged In|    Colin|     M|           56| Freeman| 223.58159| paid|Bakersfield, CA|   PUT|        NextSong|       29|                Jade|   200|Mozilla/5.0 (Wind...|    30|2018-09-30 21:20:18|2018-09-28 19:22:42|\n",
      "|   15|         Stan Mosley|Logged In|    Colin|     M|           57| Freeman| 246.69995| paid|Bakersfield, CA|   PUT|        NextSong|       29|   So-Called Friends|   200|Mozilla/5.0 (Wind...|    30|2018-09-30 21:24:01|2018-09-28 19:22:42|\n",
      "|   18|             Orishas|Logged In|    Colin|     M|           58| Freeman| 222.22322| paid|Bakersfield, CA|   PUT|        NextSong|       29|           Represent|   200|Mozilla/5.0 (Wind...|    30|2018-09-30 21:28:07|2018-09-28 19:22:42|\n",
      "|   21|            Downhere|Logged In|    Colin|     M|           59| Freeman| 223.92118| paid|Bakersfield, CA|   PUT|        NextSong|       29|           Here I Am|   200|Mozilla/5.0 (Wind...|    30|2018-09-30 21:31:49|2018-09-28 19:22:42|\n",
      "|   25|             Skillet|Logged In|    Colin|     M|           60| Freeman| 233.32526| paid|Bakersfield, CA|   PUT|        NextSong|       29|Rebirthing (Album...|   200|Mozilla/5.0 (Wind...|    30|2018-09-30 21:35:32|2018-09-28 19:22:42|\n",
      "|   29|Florence + The Ma...|Logged In|    Colin|     M|           61| Freeman| 219.66322| paid|Bakersfield, CA|   PUT|        NextSong|       29|Dog Days Are Over...|   200|Mozilla/5.0 (Wind...|    30|2018-09-30 21:39:25|2018-09-28 19:22:42|\n",
      "|   32|          Nick Drake|Logged In|    Colin|     M|           62| Freeman| 222.92853| paid|Bakersfield, CA|   PUT|        NextSong|       29|Tomorrow Is A Lon...|   200|Mozilla/5.0 (Wind...|    30|2018-09-30 21:43:04|2018-09-28 19:22:42|\n",
      "|   36|Lambert_ Hendrick...|Logged In|    Colin|     M|           63| Freeman| 139.04934| paid|Bakersfield, CA|   PUT|        NextSong|       29|    Halloween Spooks|   200|Mozilla/5.0 (Wind...|    30|2018-09-30 21:46:46|2018-09-28 19:22:42|\n",
      "|   38|          Kanye West|Logged In|    Colin|     M|           64| Freeman| 311.84934| paid|Bakersfield, CA|   PUT|        NextSong|       29|            Stronger|   200|Mozilla/5.0 (Wind...|    30|2018-09-30 21:49:05|2018-09-28 19:22:42|\n",
      "|   45|  Redman / Ready Roc|Logged In|    Colin|     M|           65| Freeman| 217.91302| paid|Bakersfield, CA|   PUT|        NextSong|       29|   Dis Iz Brick City|   200|Mozilla/5.0 (Wind...|    30|2018-09-30 21:54:16|2018-09-28 19:22:42|\n",
      "|   49|The All-American ...|Logged In|    Colin|     M|           66| Freeman| 238.86322| paid|Bakersfield, CA|   PUT|        NextSong|       29|          Move Along|   200|Mozilla/5.0 (Wind...|    30|2018-09-30 21:57:53|2018-09-28 19:22:42|\n",
      "|   55|       Kings Of Leon|Logged In|    Colin|     M|           67| Freeman|  204.2771| paid|Bakersfield, CA|   PUT|        NextSong|       29|           Manhattan|   200|Mozilla/5.0 (Wind...|    30|2018-09-30 22:01:51|2018-09-28 19:22:42|\n",
      "|   63|            BjÃÂ¶rk|Logged In|    Colin|     M|           68| Freeman| 348.57751| paid|Bakersfield, CA|   PUT|        NextSong|       29|                Undo|   200|Mozilla/5.0 (Wind...|    30|2018-09-30 22:05:15|2018-09-28 19:22:42|\n",
      "|   68|         The Prodigy|Logged In|    Colin|     M|           69| Freeman| 260.07465| paid|Bakersfield, CA|   PUT|        NextSong|       29|     The Big Gundown|   200|Mozilla/5.0 (Wind...|    30|2018-09-30 22:11:03|2018-09-28 19:22:42|\n",
      "|   70|    Evan Rachel Wood|Logged In|    Colin|     M|           70| Freeman| 184.92036| paid|Bakersfield, CA|   PUT|        NextSong|       29|          Black Bird|   200|Mozilla/5.0 (Wind...|    30|2018-09-30 22:15:23|2018-09-28 19:22:42|\n",
      "|   71|                null|Logged In|    Colin|     M|           71| Freeman|      null| paid|Bakersfield, CA|   PUT|     Thumbs Down|       29|                null|   307|Mozilla/5.0 (Wind...|    30|2018-09-30 22:15:24|2018-09-28 19:22:42|\n",
      "|   79|   Ultra Vivid Scene|Logged In|    Colin|     M|           72| Freeman| 196.93669| paid|Bakersfield, CA|   PUT|        NextSong|       29|              Nausea|   200|Mozilla/5.0 (Wind...|    30|2018-09-30 22:18:27|2018-09-28 19:22:42|\n",
      "|   84|           Nevermore|Logged In|    Colin|     M|           73| Freeman| 320.57424| paid|Bakersfield, CA|   PUT|        NextSong|       29|           Matricide|   200|Mozilla/5.0 (Wind...|    30|2018-09-30 22:21:43|2018-09-28 19:22:42|\n",
      "|   92|       Amy Winehouse|Logged In|    Colin|     M|           74| Freeman| 229.85098| paid|Bakersfield, CA|   PUT|        NextSong|       29|             Valerie|   200|Mozilla/5.0 (Wind...|    30|2018-09-30 22:27:03|2018-09-28 19:22:42|\n",
      "|   96|  Traveling Wilburys|Logged In|    Colin|     M|           75| Freeman| 196.51873| paid|Bakersfield, CA|   PUT|        NextSong|       29|           Margarita|   200|Mozilla/5.0 (Wind...|    30|2018-09-30 22:30:52|2018-09-28 19:22:42|\n",
      "|  100|     Jacky Terrasson|Logged In|    Colin|     M|           76| Freeman|  342.7522| paid|Bakersfield, CA|   PUT|        NextSong|       29|   Le Jardin d'Hiver|   200|Mozilla/5.0 (Wind...|    30|2018-09-30 22:34:08|2018-09-28 19:22:42|\n",
      "|  101|                null|Logged In|    Colin|     M|           77| Freeman|      null| paid|Bakersfield, CA|   PUT|       Thumbs Up|       29|                null|   307|Mozilla/5.0 (Wind...|    30|2018-09-30 22:34:09|2018-09-28 19:22:42|\n",
      "|  106|         Faith Evans|Logged In|    Colin|     M|           78| Freeman| 324.28363| paid|Bakersfield, CA|   PUT|        NextSong|       29|Soon As I Get Hom...|   200|Mozilla/5.0 (Wind...|    30|2018-09-30 22:39:50|2018-09-28 19:22:42|\n",
      "|  107|                null|Logged In|    Colin|     M|           79| Freeman|      null| paid|Bakersfield, CA|   PUT|       Thumbs Up|       29|                null|   307|Mozilla/5.0 (Wind...|    30|2018-09-30 22:39:51|2018-09-28 19:22:42|\n",
      "|  115|            Righeira|Logged In|    Colin|     M|           80| Freeman| 218.53995| paid|Bakersfield, CA|   PUT|        NextSong|       29|    Vamos a la Playa|   200|Mozilla/5.0 (Wind...|    30|2018-09-30 22:45:14|2018-09-28 19:22:42|\n",
      "|  117|            Miranda!|Logged In|    Colin|     M|           81| Freeman| 229.82485| paid|Bakersfield, CA|   PUT|        NextSong|       29|            Perfecta|   200|Mozilla/5.0 (Wind...|    30|2018-09-30 22:48:52|2018-09-28 19:22:42|\n",
      "|  121|             Trivium|Logged In|    Colin|     M|           82| Freeman| 293.66812| paid|Bakersfield, CA|   PUT|        NextSong|       29|             Requiem|   200|Mozilla/5.0 (Wind...|    30|2018-09-30 22:52:41|2018-09-28 19:22:42|\n",
      "|  126|      Foolish Things|Logged In|    Colin|     M|           83| Freeman| 266.86649| paid|Bakersfield, CA|   PUT|        NextSong|       29|     Who Can Compare|   200|Mozilla/5.0 (Wind...|    30|2018-09-30 22:57:34|2018-09-28 19:22:42|\n",
      "|  132|      The Black Keys|Logged In|    Colin|     M|           84| Freeman| 1400.2673| paid|Bakersfield, CA|   PUT|        NextSong|       29|240 Years Before ...|   200|Mozilla/5.0 (Wind...|    30|2018-09-30 23:02:00|2018-09-28 19:22:42|\n",
      "|  161|            Belanova|Logged In|    Colin|     M|           85| Freeman| 185.88689| paid|Bakersfield, CA|   PUT|        NextSong|       29|         Rosa Pastel|   200|Mozilla/5.0 (Wind...|    30|2018-09-30 23:25:20|2018-09-28 19:22:42|\n",
      "|  163|                null|Logged In|    Colin|     M|           86| Freeman|      null| paid|Bakersfield, CA|   GET|     Roll Advert|       29|                null|   200|Mozilla/5.0 (Wind...|    30|2018-09-30 23:25:37|2018-09-28 19:22:42|\n",
      "|  166|              Cherie|Logged In|    Colin|     M|           87| Freeman| 202.13506| paid|Bakersfield, CA|   PUT|        NextSong|       29|I'm Ready (Album ...|   200|Mozilla/5.0 (Wind...|    30|2018-09-30 23:28:25|2018-09-28 19:22:42|\n",
      "|  172|           Starfield|Logged In|    Colin|     M|           88| Freeman|  265.7171| paid|Bakersfield, CA|   PUT|        NextSong|       29|    No Other Saviour|   200|Mozilla/5.0 (Wind...|    30|2018-09-30 23:31:47|2018-09-28 19:22:42|\n",
      "|  179| JosÃÂ© GonzÃÂ¡lez|Logged In|    Colin|     M|           89| Freeman| 168.98567| paid|Bakersfield, CA|   PUT|        NextSong|       29|               Hints|   200|Mozilla/5.0 (Wind...|    30|2018-09-30 23:36:12|2018-09-28 19:22:42|\n",
      "|  185|            Coldplay|Logged In|    Colin|     M|           90| Freeman| 268.38159| paid|Bakersfield, CA|   PUT|        NextSong|       29|              Yellow|   200|Mozilla/5.0 (Wind...|    30|2018-09-30 23:39:00|2018-09-28 19:22:42|\n",
      "|  188|                null|Logged In|    Colin|     M|           91| Freeman|      null| paid|Bakersfield, CA|   PUT| Add to Playlist|       29|                null|   200|Mozilla/5.0 (Wind...|    30|2018-09-30 23:39:35|2018-09-28 19:22:42|\n",
      "|16157|         The Wombats|Logged In|    Colin|     M|            0| Freeman| 164.70159| paid|Bakersfield, CA|   PUT|        NextSong|      264|Kill The Director...|   200|Mozilla/5.0 (Wind...|    30|2018-10-06 04:23:50|2018-09-28 19:22:42|\n",
      "|16158|                null|Logged In|    Colin|     M|            1| Freeman|      null| paid|Bakersfield, CA|   PUT|      Add Friend|      264|                null|   307|Mozilla/5.0 (Wind...|    30|2018-10-06 04:23:51|2018-09-28 19:22:42|\n",
      "|20390|                null|Logged In|    Colin|     M|            0| Freeman|      null| paid|Bakersfield, CA|   GET|            Home|      532|                null|   200|Mozilla/5.0 (Wind...|    30|2018-10-07 18:37:06|2018-09-28 19:22:42|\n",
      "|20391|          Unter Null|Logged In|    Colin|     M|            1| Freeman| 351.81669| paid|Bakersfield, CA|   PUT|        NextSong|      532|         Third Party|   200|Mozilla/5.0 (Wind...|    30|2018-10-07 18:37:20|2018-09-28 19:22:42|\n",
      "|20399|                MGMT|Logged In|    Colin|     M|            2| Freeman|   246.282| paid|Bakersfield, CA|   PUT|        NextSong|      532|        It's Working|   200|Mozilla/5.0 (Wind...|    30|2018-10-07 18:43:11|2018-09-28 19:22:42|\n",
      "|20407|        June Christy|Logged In|    Colin|     M|            3| Freeman| 197.92934| paid|Bakersfield, CA|   PUT|        NextSong|      532|I'll Remember Apr...|   200|Mozilla/5.0 (Wind...|    30|2018-10-07 18:47:17|2018-09-28 19:22:42|\n",
      "|20413|        James Horner|Logged In|    Colin|     M|            4| Freeman| 191.81669| paid|Bakersfield, CA|   PUT|        NextSong|      532|  Atmosphere Station|   200|Mozilla/5.0 (Wind...|    30|2018-10-07 18:50:34|2018-09-28 19:22:42|\n",
      "|20421|           Radiohead|Logged In|    Colin|     M|            5| Freeman|  323.5522| paid|Bakersfield, CA|   PUT|        NextSong|      532|        There_ There|   200|Mozilla/5.0 (Wind...|    30|2018-10-07 18:53:45|2018-09-28 19:22:42|\n",
      "|20435|            Slipknot|Logged In|    Colin|     M|            6| Freeman| 345.70404| paid|Bakersfield, CA|   PUT|        NextSong|      532|'Til We Die (Albu...|   200|Mozilla/5.0 (Wind...|    30|2018-10-07 18:59:08|2018-09-28 19:22:42|\n",
      "|20445|        Billy Talent|Logged In|    Colin|     M|            7| Freeman| 179.09506| paid|Bakersfield, CA|   PUT|        NextSong|      532|Lies (Album Version)|   200|Mozilla/5.0 (Wind...|    30|2018-10-07 19:04:53|2018-09-28 19:22:42|\n",
      "|20452|         The Killers|Logged In|    Colin|     M|            8| Freeman| 230.39955| paid|Bakersfield, CA|   PUT|        NextSong|      532|The Ballad of Mic...|   200|Mozilla/5.0 (Wind...|    30|2018-10-07 19:07:52|2018-09-28 19:22:42|\n",
      "|20462|         Future Rock|Logged In|    Colin|     M|            9| Freeman| 239.90812| paid|Bakersfield, CA|   PUT|        NextSong|      532|               Gears|   200|Mozilla/5.0 (Wind...|    30|2018-10-07 19:11:42|2018-09-28 19:22:42|\n",
      "|20469|          India.Arie|Logged In|    Colin|     M|           10| Freeman| 271.35955| paid|Bakersfield, CA|   PUT|        NextSong|      532|          These Eyes|   200|Mozilla/5.0 (Wind...|    30|2018-10-07 19:15:41|2018-09-28 19:22:42|\n",
      "|20471|                null|Logged In|    Colin|     M|           11| Freeman|      null| paid|Bakersfield, CA|   GET|            Help|      532|                null|   200|Mozilla/5.0 (Wind...|    30|2018-10-07 19:15:49|2018-09-28 19:22:42|\n",
      "|20474|                null|Logged In|    Colin|     M|           12| Freeman|      null| paid|Bakersfield, CA|   GET|            Home|      532|                null|   200|Mozilla/5.0 (Wind...|    30|2018-10-07 19:16:33|2018-09-28 19:22:42|\n",
      "|20482|          Kanye West|Logged In|    Colin|     M|           13| Freeman| 311.92771| paid|Bakersfield, CA|   PUT|        NextSong|      532|            Stronger|   200|Mozilla/5.0 (Wind...|    30|2018-10-07 19:20:12|2018-09-28 19:22:42|\n",
      "|20493|              Weezer|Logged In|    Colin|     M|           14| Freeman| 204.40771| paid|Bakersfield, CA|   PUT|        NextSong|      532| This Is Such A Pity|   200|Mozilla/5.0 (Wind...|    30|2018-10-07 19:25:23|2018-09-28 19:22:42|\n",
      "|20502|       Sheena Easton|Logged In|    Colin|     M|           15| Freeman| 239.62077| paid|Bakersfield, CA|   PUT|        NextSong|      532|Strut (1993 Digit...|   200|Mozilla/5.0 (Wind...|    30|2018-10-07 19:28:47|2018-09-28 19:22:42|\n",
      "|20515|     The Temper Trap|Logged In|    Colin|     M|           16| Freeman| 192.67873| paid|Bakersfield, CA|   PUT|        NextSong|      532|               Fader|   200|Mozilla/5.0 (Wind...|    30|2018-10-07 19:32:46|2018-09-28 19:22:42|\n",
      "|20521|             Shakira|Logged In|    Colin|     M|           17| Freeman| 218.33098| paid|Bakersfield, CA|   PUT|        NextSong|      532|  Se Quiere_ Se Mata|   200|Mozilla/5.0 (Wind...|    30|2018-10-07 19:35:58|2018-09-28 19:22:42|\n",
      "|20528|    Charlotte Church|Logged In|    Colin|     M|           18| Freeman| 169.92608| paid|Bakersfield, CA|   PUT|        NextSong|      532|           Somewhere|   200|Mozilla/5.0 (Wind...|    30|2018-10-07 19:39:36|2018-09-28 19:22:42|\n",
      "|20533|    Five Iron Frenzy|Logged In|    Colin|     M|           19| Freeman| 236.09424| paid|Bakersfield, CA|   PUT|        NextSong|      532|              Canada|   200|Mozilla/5.0 (Wind...|    30|2018-10-07 19:42:25|2018-09-28 19:22:42|\n",
      "|20542|The Brand New Hea...|Logged In|    Colin|     M|           20| Freeman|  240.8224| paid|Bakersfield, CA|   PUT|        NextSong|      532|    Dream On Dreamer|   200|Mozilla/5.0 (Wind...|    30|2018-10-07 19:46:21|2018-09-28 19:22:42|\n",
      "|20548|              Mariza|Logged In|    Colin|     M|           21| Freeman| 216.39791| paid|Bakersfield, CA|   PUT|        NextSong|      532|HÃÂ¡ Uma MÃÂºsi...|   200|Mozilla/5.0 (Wind...|    30|2018-10-07 19:50:21|2018-09-28 19:22:42|\n",
      "|20555|Jermaine Dupri fe...|Logged In|    Colin|     M|           22| Freeman| 254.30159| paid|Bakersfield, CA|   PUT|        NextSong|      532| Money Ain't A Thang|   200|Mozilla/5.0 (Wind...|    30|2018-10-07 19:53:57|2018-09-28 19:22:42|\n",
      "|20562|      The Black Keys|Logged In|    Colin|     M|           23| Freeman| 191.76444| paid|Bakersfield, CA|   PUT|        NextSong|      532|     Howlin\u0019 For You|   200|Mozilla/5.0 (Wind...|    30|2018-10-07 19:58:11|2018-09-28 19:22:42|\n",
      "|20565|  Charttraxx Karaoke|Logged In|    Colin|     M|           24| Freeman| 225.17506| paid|Bakersfield, CA|   PUT|        NextSong|      532|           Fireflies|   200|Mozilla/5.0 (Wind...|    30|2018-10-07 20:01:22|2018-09-28 19:22:42|\n",
      "|20573|              Metric|Logged In|    Colin|     M|           25| Freeman| 252.99546| paid|Bakersfield, CA|   PUT|        NextSong|      532|        Stadium Love|   200|Mozilla/5.0 (Wind...|    30|2018-10-07 20:05:07|2018-09-28 19:22:42|\n",
      "|20575|                null|Logged In|    Colin|     M|           26| Freeman|      null| paid|Bakersfield, CA|   GET|       Downgrade|      532|                null|   200|Mozilla/5.0 (Wind...|    30|2018-10-07 20:05:26|2018-09-28 19:22:42|\n",
      "|20582|the bird and the bee|Logged In|    Colin|     M|           27| Freeman|   165.642| paid|Bakersfield, CA|   PUT|        NextSong|      532|       Again & Again|   200|Mozilla/5.0 (Wind...|    30|2018-10-07 20:09:19|2018-09-28 19:22:42|\n",
      "|20586|         Iron Maiden|Logged In|    Colin|     M|           28| Freeman| 252.08118| paid|Bakersfield, CA|   PUT|        NextSong|      532|The Trooper (1998...|   200|Mozilla/5.0 (Wind...|    30|2018-10-07 20:12:04|2018-09-28 19:22:42|\n",
      "|20596|          Kool Keith|Logged In|    Colin|     M|           29| Freeman| 138.44853| paid|Bakersfield, CA|   PUT|        NextSong|      532| Get Off My Elevator|   200|Mozilla/5.0 (Wind...|    30|2018-10-07 20:16:16|2018-09-28 19:22:42|\n",
      "|20601|       Elliott Smith|Logged In|    Colin|     M|           30| Freeman| 181.41995| paid|Bakersfield, CA|   PUT|        NextSong|      532|        Speed Trials|   200|Mozilla/5.0 (Wind...|    30|2018-10-07 20:18:34|2018-09-28 19:22:42|\n",
      "|20614|            Tub Ring|Logged In|    Colin|     M|           31| Freeman| 233.69098| paid|Bakersfield, CA|   PUT|        NextSong|      532|             Invalid|   200|Mozilla/5.0 (Wind...|    30|2018-10-07 20:21:35|2018-09-28 19:22:42|\n",
      "|20618|           Holy Fuck|Logged In|    Colin|     M|           32| Freeman| 174.73261| paid|Bakersfield, CA|   PUT|        NextSong|      532|           Frenchy\u0019s|   200|Mozilla/5.0 (Wind...|    30|2018-10-07 20:25:28|2018-09-28 19:22:42|\n",
      "|20624|Florence + The Ma...|Logged In|    Colin|     M|           33| Freeman| 249.20771| paid|Bakersfield, CA|   PUT|        NextSong|      532|   Between Two Lungs|   200|Mozilla/5.0 (Wind...|    30|2018-10-07 20:28:22|2018-09-28 19:22:42|\n",
      "|20632|      Violet Indiana|Logged In|    Colin|     M|           34| Freeman| 226.87302| paid|Bakersfield, CA|   PUT|        NextSong|      532|              Hiding|   200|Mozilla/5.0 (Wind...|    30|2018-10-07 20:32:31|2018-09-28 19:22:42|\n",
      "|20641|  Gilbert O'Sullivan|Logged In|    Colin|     M|           35| Freeman| 218.69669| paid|Bakersfield, CA|   PUT|        NextSong|      532|Alone Again (Natu...|   200|Mozilla/5.0 (Wind...|    30|2018-10-07 20:36:17|2018-09-28 19:22:42|\n",
      "|20649|            The Fray|Logged In|    Colin|     M|           36| Freeman| 240.56118| paid|Bakersfield, CA|   PUT|        NextSong|      532|        You Found Me|   200|Mozilla/5.0 (Wind...|    30|2018-10-07 20:39:55|2018-09-28 19:22:42|\n",
      "|20656|        Taylor Swift|Logged In|    Colin|     M|           37| Freeman| 201.06404| paid|Bakersfield, CA|   PUT|        NextSong|      532|            Our Song|   200|Mozilla/5.0 (Wind...|    30|2018-10-07 20:43:55|2018-09-28 19:22:42|\n",
      "|20666|         Suzi Quatro|Logged In|    Colin|     M|           38| Freeman| 194.45506| paid|Bakersfield, CA|   PUT|        NextSong|      532|           Rock Hard|   200|Mozilla/5.0 (Wind...|    30|2018-10-07 20:47:16|2018-09-28 19:22:42|\n",
      "|20670|      Jennifer Lopez|Logged In|    Colin|     M|           39| Freeman| 245.96853| paid|Bakersfield, CA|   PUT|        NextSong|      532| Waiting For Tonight|   200|Mozilla/5.0 (Wind...|    30|2018-10-07 20:50:30|2018-09-28 19:22:42|\n",
      "|20677|            Interpol|Logged In|    Colin|     M|           40| Freeman|  341.7073| paid|Bakersfield, CA|   PUT|        NextSong|      532|Pioneer to The Falls|   200|Mozilla/5.0 (Wind...|    30|2018-10-07 20:54:35|2018-09-28 19:22:42|\n",
      "|20688|       Dwight Yoakam|Logged In|    Colin|     M|           41| Freeman|  239.3073| paid|Bakersfield, CA|   PUT|        NextSong|      532|      You're The One|   200|Mozilla/5.0 (Wind...|    30|2018-10-07 21:00:16|2018-09-28 19:22:42|\n",
      "|20695|           Super Cat|Logged In|    Colin|     M|           42| Freeman| 173.13914| paid|Bakersfield, CA|   PUT|        NextSong|      532|     Trash And Ready|   200|Mozilla/5.0 (Wind...|    30|2018-10-07 21:04:15|2018-09-28 19:22:42|\n",
      "|20700|Soul II Soul Feat...|Logged In|    Colin|     M|           43| Freeman|  361.7171| paid|Bakersfield, CA|   PUT|        NextSong|      532|      Keep On Movin'|   200|Mozilla/5.0 (Wind...|    30|2018-10-07 21:07:08|2018-09-28 19:22:42|\n",
      "|20706|              Cazuza|Logged In|    Colin|     M|           44| Freeman| 174.10567| paid|Bakersfield, CA|   PUT|        NextSong|      532|    Quase Um Segundo|   200|Mozilla/5.0 (Wind...|    30|2018-10-07 21:13:09|2018-09-28 19:22:42|\n",
      "|20710|Los Abuelos De La...|Logged In|    Colin|     M|           45| Freeman| 197.90322| paid|Bakersfield, CA|   PUT|        NextSong|      532|Costumbres Argent...|   200|Mozilla/5.0 (Wind...|    30|2018-10-07 21:16:03|2018-09-28 19:22:42|\n",
      "|20712|Cliff Richard & T...|Logged In|    Colin|     M|           46| Freeman| 130.45506| paid|Bakersfield, CA|   PUT|        NextSong|      532|Nine Times Out Of...|   200|Mozilla/5.0 (Wind...|    30|2018-10-07 21:19:20|2018-09-28 19:22:42|\n",
      "|20716|             Incubus|Logged In|    Colin|     M|           47| Freeman| 297.63873| paid|Bakersfield, CA|   PUT|        NextSong|      532|           Bass Solo|   200|Mozilla/5.0 (Wind...|    30|2018-10-07 21:21:30|2018-09-28 19:22:42|\n",
      "|20724|Metallica / Maria...|Logged In|    Colin|     M|           48| Freeman| 279.11791| paid|Bakersfield, CA|   PUT|        NextSong|      532|  The Memory Remains|   200|Mozilla/5.0 (Wind...|    30|2018-10-07 21:26:27|2018-09-28 19:22:42|\n",
      "|20731| Simian Mobile Disco|Logged In|    Colin|     M|           49| Freeman| 257.35791| paid|Bakersfield, CA|   PUT|        NextSong|      532|               Clock|   200|Mozilla/5.0 (Wind...|    30|2018-10-07 21:31:06|2018-09-28 19:22:42|\n",
      "|20739|         Dan Sartain|Logged In|    Colin|     M|           50| Freeman| 104.95955| paid|Bakersfield, CA|   PUT|        NextSong|      532|I Don\u0019t Wanna Go ...|   200|Mozilla/5.0 (Wind...|    30|2018-10-07 21:35:23|2018-09-28 19:22:42|\n",
      "|20740|  The Rolling Stones|Logged In|    Colin|     M|           51| Freeman| 253.49179| paid|Bakersfield, CA|   PUT|        NextSong|      532|       She's So Cold|   200|Mozilla/5.0 (Wind...|    30|2018-10-07 21:37:07|2018-09-28 19:22:42|\n",
      "|20750|         Fleet Foxes|Logged In|    Colin|     M|           52| Freeman| 253.04771| paid|Bakersfield, CA|   PUT|        NextSong|      532|  Drops In The River|   200|Mozilla/5.0 (Wind...|    30|2018-10-07 21:41:20|2018-09-28 19:22:42|\n",
      "|20757|          Aphex Twin|Logged In|    Colin|     M|           53| Freeman| 430.18404| paid|Bakersfield, CA|   PUT|        NextSong|      532|          Didgeridoo|   200|Mozilla/5.0 (Wind...|    30|2018-10-07 21:45:33|2018-09-28 19:22:42|\n",
      "|20767|             Mos Def|Logged In|    Colin|     M|           54| Freeman| 250.01751| paid|Bakersfield, CA|   PUT|        NextSong|      532|   Sex_ Love & Money|   200|Mozilla/5.0 (Wind...|    30|2018-10-07 21:52:43|2018-09-28 19:22:42|\n",
      "|20773|             ManÃÂ¡|Logged In|    Colin|     M|           55| Freeman| 252.86485| paid|Bakersfield, CA|   PUT|        NextSong|      532|      Rayando el sol|   200|Mozilla/5.0 (Wind...|    30|2018-10-07 21:56:53|2018-09-28 19:22:42|\n",
      "|20780|          Yellowcard|Logged In|    Colin|     M|           56| Freeman| 208.92689| paid|Bakersfield, CA|   PUT|        NextSong|      532|   Lights And Sounds|   200|Mozilla/5.0 (Wind...|    30|2018-10-07 22:01:05|2018-09-28 19:22:42|\n",
      "|20787|               Usher|Logged In|    Colin|     M|           57| Freeman| 319.89506| paid|Bakersfield, CA|   PUT|        NextSong|      532|You Make Me Wanna...|   200|Mozilla/5.0 (Wind...|    30|2018-10-07 22:04:33|2018-09-28 19:22:42|\n",
      "|20797|           Van Halen|Logged In|    Colin|     M|           58| Freeman| 338.96444| paid|Bakersfield, CA|   PUT|        NextSong|      532|When It's Love (R...|   200|Mozilla/5.0 (Wind...|    30|2018-10-07 22:09:52|2018-09-28 19:22:42|\n",
      "|20805|           Neko Case|Logged In|    Colin|     M|           59| Freeman| 156.47302| paid|Bakersfield, CA|   PUT|        NextSong|      532|            Red Tide|   200|Mozilla/5.0 (Wind...|    30|2018-10-07 22:15:30|2018-09-28 19:22:42|\n",
      "|20812|           The Trews|Logged In|    Colin|     M|           60| Freeman| 239.96036| paid|Bakersfield, CA|   PUT|        NextSong|      532|    Man Of Two Minds|   200|Mozilla/5.0 (Wind...|    30|2018-10-07 22:18:06|2018-09-28 19:22:42|\n",
      "|20817|                Muse|Logged In|    Colin|     M|           61| Freeman| 292.28363| paid|Bakersfield, CA|   PUT|        NextSong|      532|    Ruled By Secrecy|   200|Mozilla/5.0 (Wind...|    30|2018-10-07 22:22:05|2018-09-28 19:22:42|\n",
      "|20823|     John Frusciante|Logged In|    Colin|     M|           62| Freeman|  90.09587| paid|Bakersfield, CA|   PUT|        NextSong|      532|         Untitled #5|   200|Mozilla/5.0 (Wind...|    30|2018-10-07 22:26:57|2018-09-28 19:22:42|\n",
      "|20829|            Paramore|Logged In|    Colin|     M|           63| Freeman| 198.53016| paid|Bakersfield, CA|   PUT|        NextSong|      532|Misery Business (...|   200|Mozilla/5.0 (Wind...|    30|2018-10-07 22:28:27|2018-09-28 19:22:42|\n",
      "|20836|  Tenth Avenue North|Logged In|    Colin|     M|           64| Freeman|   239.882| paid|Bakersfield, CA|   PUT|        NextSong|      532|       Hold My Heart|   200|Mozilla/5.0 (Wind...|    30|2018-10-07 22:31:45|2018-09-28 19:22:42|\n",
      "|20846|              O.A.R.|Logged In|    Colin|     M|           65| Freeman|  296.4371| paid|Bakersfield, CA|   PUT|        NextSong|      532|Risen (Rolling St...|   200|Mozilla/5.0 (Wind...|    30|2018-10-07 22:35:44|2018-09-28 19:22:42|\n",
      "|20859|           Rammstein|Logged In|    Colin|     M|           66| Freeman| 272.40444| paid|Bakersfield, CA|   PUT|        NextSong|      532|               Sonne|   200|Mozilla/5.0 (Wind...|    30|2018-10-07 22:40:40|2018-09-28 19:22:42|\n",
      "|20860|                null|Logged In|    Colin|     M|           67| Freeman|      null| paid|Bakersfield, CA|   PUT|       Thumbs Up|      532|                null|   307|Mozilla/5.0 (Wind...|    30|2018-10-07 22:40:41|2018-09-28 19:22:42|\n",
      "|20867|          Audioslave|Logged In|    Colin|     M|           68| Freeman| 288.46975| paid|Bakersfield, CA|   PUT|        NextSong|      532|        Out Of Exile|   200|Mozilla/5.0 (Wind...|    30|2018-10-07 22:45:12|2018-09-28 19:22:42|\n",
      "|20868|                null|Logged In|    Colin|     M|           69| Freeman|      null| paid|Bakersfield, CA|   PUT|       Thumbs Up|      532|                null|   307|Mozilla/5.0 (Wind...|    30|2018-10-07 22:45:13|2018-09-28 19:22:42|\n",
      "|20874|      Arctic Monkeys|Logged In|    Colin|     M|           70| Freeman| 191.26812| paid|Bakersfield, CA|   PUT|        NextSong|      532|   Old Yellow Bricks|   200|Mozilla/5.0 (Wind...|    30|2018-10-07 22:50:00|2018-09-28 19:22:42|\n",
      "|20878|   Dub Incorporation|Logged In|    Colin|     M|           71| Freeman| 310.83057| paid|Bakersfield, CA|   PUT|        NextSong|      532|          GalÃÂ©rer|   200|Mozilla/5.0 (Wind...|    30|2018-10-07 22:53:11|2018-09-28 19:22:42|\n",
      "|20885|       Robert Palmer|Logged In|    Colin|     M|           72| Freeman| 227.97016| paid|Bakersfield, CA|   PUT|        NextSong|      532|Casting A Spell (...|   200|Mozilla/5.0 (Wind...|    30|2018-10-07 22:58:21|2018-09-28 19:22:42|\n",
      "|20888|           Alborosie|Logged In|    Colin|     M|           73| Freeman| 261.85098| paid|Bakersfield, CA|   PUT|        NextSong|      532|   Operation Uppsala|   200|Mozilla/5.0 (Wind...|    30|2018-10-07 23:02:08|2018-09-28 19:22:42|\n",
      "|20895|          Spineshank|Logged In|    Colin|     M|           74| Freeman| 201.56036| paid|Bakersfield, CA|   PUT|        NextSong|      532|Detached (Album V...|   200|Mozilla/5.0 (Wind...|    30|2018-10-07 23:06:29|2018-09-28 19:22:42|\n",
      "|20899|Martha And The Mu...|Logged In|    Colin|     M|           75| Freeman| 218.48771| paid|Bakersfield, CA|   PUT|        NextSong|      532|Echo Beach (2002 ...|   200|Mozilla/5.0 (Wind...|    30|2018-10-07 23:09:50|2018-09-28 19:22:42|\n",
      "|20910|          Maelo Ruiz|Logged In|    Colin|     M|           76| Freeman| 292.77995| paid|Bakersfield, CA|   PUT|        NextSong|      532|       Te Va A Doler|   200|Mozilla/5.0 (Wind...|    30|2018-10-07 23:13:28|2018-09-28 19:22:42|\n",
      "|20915| Christopher O'Riley|Logged In|    Colin|     M|           77| Freeman| 337.91955| paid|Bakersfield, CA|   PUT|        NextSong|      532|    paranoid android|   200|Mozilla/5.0 (Wind...|    30|2018-10-07 23:18:20|2018-09-28 19:22:42|\n",
      "|20919|                null|Logged In|    Colin|     M|           78| Freeman|      null| paid|Bakersfield, CA|   GET|            Home|      532|                null|   200|Mozilla/5.0 (Wind...|    30|2018-10-07 23:19:14|2018-09-28 19:22:42|\n",
      "|20923|   Children Of Bodom|Logged In|    Colin|     M|           79| Freeman|  304.5873| paid|Bakersfield, CA|   PUT|        NextSong|      532|  Banned from Heaven|   200|Mozilla/5.0 (Wind...|    30|2018-10-07 23:23:57|2018-09-28 19:22:42|\n",
      "|20928|        Delta Spirit|Logged In|    Colin|     M|           80| Freeman| 217.05098| paid|Bakersfield, CA|   PUT|        NextSong|      532|            Trashcan|   200|Mozilla/5.0 (Wind...|    30|2018-10-07 23:29:01|2018-09-28 19:22:42|\n",
      "|20932|         Lupe Fiasco|Logged In|    Colin|     M|           81| Freeman| 250.38322| paid|Bakersfield, CA|   PUT|        NextSong|      532|Go Go Gadget Flow...|   200|Mozilla/5.0 (Wind...|    30|2018-10-07 23:32:38|2018-09-28 19:22:42|\n",
      "|20936|  Spirit of the West|Logged In|    Colin|     M|           82| Freeman| 276.16608| paid|Bakersfield, CA|   PUT|        NextSong|      532|     Home For A Rest|   200|Mozilla/5.0 (Wind...|    30|2018-10-07 23:36:48|2018-09-28 19:22:42|\n",
      "|20940|       Avril Lavigne|Logged In|    Colin|     M|           83| Freeman| 240.48281| paid|Bakersfield, CA|   PUT|        NextSong|      532|    When You're Gone|   200|Mozilla/5.0 (Wind...|    30|2018-10-07 23:41:24|2018-09-28 19:22:42|\n",
      "|20944|             tobyMac|Logged In|    Colin|     M|           84| Freeman| 200.61995| paid|Bakersfield, CA|   PUT|        NextSong|      532|The Slam (Welcome...|   200|Mozilla/5.0 (Wind...|    30|2018-10-07 23:45:24|2018-09-28 19:22:42|\n",
      "|20950|        Celtic Woman|Logged In|    Colin|     M|           85| Freeman| 281.59955| paid|Bakersfield, CA|   PUT|        NextSong|      532|     You Raise Me Up|   200|Mozilla/5.0 (Wind...|    30|2018-10-07 23:48:44|2018-09-28 19:22:42|\n",
      "|20951|                null|Logged In|    Colin|     M|           86| Freeman|      null| paid|Bakersfield, CA|   PUT| Add to Playlist|      532|                null|   200|Mozilla/5.0 (Wind...|    30|2018-10-07 23:49:21|2018-09-28 19:22:42|\n",
      "|20955|          The Smiths|Logged In|    Colin|     M|           87| Freeman|  242.9122| paid|Bakersfield, CA|   PUT|        NextSong|      532|There Is A Light ...|   200|Mozilla/5.0 (Wind...|    30|2018-10-07 23:53:25|2018-09-28 19:22:42|\n",
      "|20959|        Weeping Tile|Logged In|    Colin|     M|           88| Freeman| 279.01342| paid|Bakersfield, CA|   PUT|        NextSong|      532|        The High Way|   200|Mozilla/5.0 (Wind...|    30|2018-10-07 23:57:27|2018-09-28 19:22:42|\n",
      "|20960|                null|Logged In|    Colin|     M|           89| Freeman|      null| paid|Bakersfield, CA|   PUT|       Thumbs Up|      532|                null|   307|Mozilla/5.0 (Wind...|    30|2018-10-07 23:57:28|2018-09-28 19:22:42|\n",
      "|20961|                null|Logged In|    Colin|     M|           90| Freeman|      null| paid|Bakersfield, CA|   PUT| Add to Playlist|      532|                null|   200|Mozilla/5.0 (Wind...|    30|2018-10-07 23:57:33|2018-09-28 19:22:42|\n",
      "|20967|   Asking Alexandria|Logged In|    Colin|     M|           91| Freeman| 241.47546| paid|Bakersfield, CA|   PUT|        NextSong|      532|The Final Episode...|   200|Mozilla/5.0 (Wind...|    30|2018-10-08 00:02:06|2018-09-28 19:22:42|\n",
      "|20972|The Presidents of...|Logged In|    Colin|     M|           92| Freeman| 196.98893| paid|Bakersfield, CA|   PUT|        NextSong|      532|               Candy|   200|Mozilla/5.0 (Wind...|    30|2018-10-08 00:06:07|2018-09-28 19:22:42|\n",
      "|20973|                null|Logged In|    Colin|     M|           93| Freeman|      null| paid|Bakersfield, CA|   PUT|       Thumbs Up|      532|                null|   307|Mozilla/5.0 (Wind...|    30|2018-10-08 00:06:08|2018-09-28 19:22:42|\n",
      "|20974|                null|Logged In|    Colin|     M|           94| Freeman|      null| paid|Bakersfield, CA|   PUT| Add to Playlist|      532|                null|   200|Mozilla/5.0 (Wind...|    30|2018-10-08 00:06:16|2018-09-28 19:22:42|\n",
      "|20978|            Bon Iver|Logged In|    Colin|     M|           95| Freeman| 402.25914| paid|Bakersfield, CA|   PUT|        NextSong|      532|           re:stacks|   200|Mozilla/5.0 (Wind...|    30|2018-10-08 00:09:23|2018-09-28 19:22:42|\n",
      "|20979|                null|Logged In|    Colin|     M|           96| Freeman|      null| paid|Bakersfield, CA|   PUT| Add to Playlist|      532|                null|   200|Mozilla/5.0 (Wind...|    30|2018-10-08 00:09:41|2018-09-28 19:22:42|\n",
      "|20986|   Infected Mushroom|Logged In|    Colin|     M|           97| Freeman| 339.98322| paid|Bakersfield, CA|   PUT|        NextSong|      532|Converting Vegeta...|   200|Mozilla/5.0 (Wind...|    30|2018-10-08 00:16:05|2018-09-28 19:22:42|\n",
      "|20990|     Crystal Castles|Logged In|    Colin|     M|           98| Freeman| 265.56036| paid|Bakersfield, CA|   PUT|        NextSong|      532|              Airwar|   200|Mozilla/5.0 (Wind...|    30|2018-10-08 00:21:44|2018-09-28 19:22:42|\n",
      "|20998|Damien Rice and L...|Logged In|    Colin|     M|           99| Freeman| 228.62322| paid|Bakersfield, CA|   PUT|        NextSong|      532|Unplayed Piano (C...|   200|Mozilla/5.0 (Wind...|    30|2018-10-08 00:26:09|2018-09-28 19:22:42|\n",
      "|21000|        Richard Marx|Logged In|    Colin|     M|          100| Freeman| 282.17424| paid|Bakersfield, CA|   PUT|        NextSong|      532|  Don't Mean Nothing|   200|Mozilla/5.0 (Wind...|    30|2018-10-08 00:29:57|2018-09-28 19:22:42|\n",
      "|21005|             Santana|Logged In|    Colin|     M|          101| Freeman| 288.91383| paid|Bakersfield, CA|   PUT|        NextSong|      532|              Let Me|   200|Mozilla/5.0 (Wind...|    30|2018-10-08 00:34:39|2018-09-28 19:22:42|\n",
      "|21013|             ManÃÂ¡|Logged In|    Colin|     M|          102| Freeman| 282.69669| paid|Bakersfield, CA|   PUT|        NextSong|      532|ÃÂ¿Por quÃÂ© te...|   200|Mozilla/5.0 (Wind...|    30|2018-10-08 00:39:27|2018-09-28 19:22:42|\n",
      "|21020|            Coldplay|Logged In|    Colin|     M|          103| Freeman| 228.77995| paid|Bakersfield, CA|   PUT|        NextSong|      532|         In My Place|   200|Mozilla/5.0 (Wind...|    30|2018-10-08 00:44:09|2018-09-28 19:22:42|\n",
      "|21026|    Audio Adrenaline|Logged In|    Colin|     M|          104| Freeman| 370.96444| paid|Bakersfield, CA|   PUT|        NextSong|      532|           Beautiful|   200|Mozilla/5.0 (Wind...|    30|2018-10-08 00:47:57|2018-09-28 19:22:42|\n",
      "|21027|                null|Logged In|    Colin|     M|          105| Freeman|      null| paid|Bakersfield, CA|   PUT|       Thumbs Up|      532|                null|   307|Mozilla/5.0 (Wind...|    30|2018-10-08 00:47:58|2018-09-28 19:22:42|\n",
      "|21036|         KT Tunstall|Logged In|    Colin|     M|          106| Freeman|  207.0722| paid|Bakersfield, CA|   PUT|        NextSong|      532| Miniature Disasters|   200|Mozilla/5.0 (Wind...|    30|2018-10-08 00:54:07|2018-09-28 19:22:42|\n",
      "|21051|Martin O'Donnell ...|Logged In|    Colin|     M|          107| Freeman| 101.61587| paid|Bakersfield, CA|   PUT|        NextSong|      532|    Brothers In Arms|   200|Mozilla/5.0 (Wind...|    30|2018-10-08 00:57:34|2018-09-28 19:22:42|\n",
      "|21059|                null|Logged In|    Colin|     M|          108| Freeman|      null| paid|Bakersfield, CA|   GET|            Home|      532|                null|   200|Mozilla/5.0 (Wind...|    30|2018-10-08 00:59:51|2018-09-28 19:22:42|\n",
      "|21060|               Phish|Logged In|    Colin|     M|          109| Freeman| 331.62404| paid|Bakersfield, CA|   PUT|        NextSong|      532|      Billy Breathes|   200|Mozilla/5.0 (Wind...|    30|2018-10-08 01:00:04|2018-09-28 19:22:42|\n",
      "|21073|       Kings Of Leon|Logged In|    Colin|     M|          110| Freeman| 201.79546| paid|Bakersfield, CA|   PUT|        NextSong|      532|             Revelry|   200|Mozilla/5.0 (Wind...|    30|2018-10-08 01:05:35|2018-09-28 19:22:42|\n",
      "|21076|             tobyMac|Logged In|    Colin|     M|          111| Freeman| 232.80281| paid|Bakersfield, CA|   PUT|        NextSong|      532|            Ignition|   200|Mozilla/5.0 (Wind...|    30|2018-10-08 01:08:56|2018-09-28 19:22:42|\n",
      "|21077|                null|Logged In|    Colin|     M|          112| Freeman|      null| paid|Bakersfield, CA|   PUT|      Add Friend|      532|                null|   307|Mozilla/5.0 (Wind...|    30|2018-10-08 01:08:57|2018-09-28 19:22:42|\n",
      "|21087|        Paul Cardall|Logged In|    Colin|     M|          113| Freeman| 187.34975| paid|Bakersfield, CA|   PUT|        NextSong|      532|        Sweet Escape|   200|Mozilla/5.0 (Wind...|    30|2018-10-08 01:12:48|2018-09-28 19:22:42|\n",
      "|21093|               Max B|Logged In|    Colin|     M|          114| Freeman| 211.27791| paid|Bakersfield, CA|   PUT|        NextSong|      532|     Disturbia Money|   200|Mozilla/5.0 (Wind...|    30|2018-10-08 01:15:55|2018-09-28 19:22:42|\n",
      "|21103|           Radiohead|Logged In|    Colin|     M|          115| Freeman| 237.21751| paid|Bakersfield, CA|   PUT|        NextSong|      532|             15 Step|   200|Mozilla/5.0 (Wind...|    30|2018-10-08 01:19:26|2018-09-28 19:22:42|\n",
      "|21117|        The Trashmen|Logged In|    Colin|     M|          116| Freeman|   146.442| paid|Bakersfield, CA|   PUT|        NextSong|      532|        Surfin' Bird|   200|Mozilla/5.0 (Wind...|    30|2018-10-08 01:23:23|2018-09-28 19:22:42|\n",
      "|21118|                null|Logged In|    Colin|     M|          117| Freeman|      null| paid|Bakersfield, CA|   PUT|       Thumbs Up|      532|                null|   307|Mozilla/5.0 (Wind...|    30|2018-10-08 01:23:24|2018-09-28 19:22:42|\n",
      "|21120|       The Gathering|Logged In|    Colin|     M|          118| Freeman| 363.15383| paid|Bakersfield, CA|   PUT|        NextSong|      532|    Strange Machines|   200|Mozilla/5.0 (Wind...|    30|2018-10-08 01:25:49|2018-09-28 19:22:42|\n",
      "|21130|       Marco Parente|Logged In|    Colin|     M|          119| Freeman| 123.61098| paid|Bakersfield, CA|   PUT|        NextSong|      532|               DÃÂ¬|   200|Mozilla/5.0 (Wind...|    30|2018-10-08 01:31:52|2018-09-28 19:22:42|\n",
      "|21132|             Bayside|Logged In|    Colin|     M|          120| Freeman| 294.37342| paid|Bakersfield, CA|   PUT|        NextSong|      532| Devotion And Desire|   200|Mozilla/5.0 (Wind...|    30|2018-10-08 01:33:55|2018-09-28 19:22:42|\n",
      "|21141|        Russ Ballard|Logged In|    Colin|     M|          121| Freeman| 336.92689| paid|Bakersfield, CA|   PUT|        NextSong|      532|The Fire Still Burns|   200|Mozilla/5.0 (Wind...|    30|2018-10-08 01:38:49|2018-09-28 19:22:42|\n",
      "|21151|            Art Brut|Logged In|    Colin|     M|          122| Freeman| 143.12444| paid|Bakersfield, CA|   PUT|        NextSong|      532|   My Little Brother|   200|Mozilla/5.0 (Wind...|    30|2018-10-08 01:44:25|2018-09-28 19:22:42|\n",
      "|21155|      65daysofstatic|Logged In|    Colin|     M|          123| Freeman| 387.23873| paid|Bakersfield, CA|   PUT|        NextSong|      532|These Things You ...|   200|Mozilla/5.0 (Wind...|    30|2018-10-08 01:46:48|2018-09-28 19:22:42|\n",
      "|21168|Keith Sweat Featu...|Logged In|    Colin|     M|          124| Freeman| 263.96689| paid|Bakersfield, CA|   PUT|        NextSong|      532|Nobody (Featuring...|   200|Mozilla/5.0 (Wind...|    30|2018-10-08 01:53:15|2018-09-28 19:22:42|\n",
      "|21178|      Counting Crows|Logged In|    Colin|     M|          125| Freeman| 272.79628| paid|Bakersfield, CA|   PUT|        NextSong|      532|           Mr. Jones|   200|Mozilla/5.0 (Wind...|    30|2018-10-08 01:57:38|2018-09-28 19:22:42|\n",
      "|21188|   A Day To Remember|Logged In|    Colin|     M|          126| Freeman| 269.00853| paid|Bakersfield, CA|   PUT|        NextSong|      532| You Had Me At Hello|   200|Mozilla/5.0 (Wind...|    30|2018-10-08 02:02:10|2018-09-28 19:22:42|\n",
      "|21196|             Phoenix|Logged In|    Colin|     M|          127| Freeman| 195.91791| paid|Bakersfield, CA|   PUT|        NextSong|      532|               Rally|   200|Mozilla/5.0 (Wind...|    30|2018-10-08 02:06:39|2018-09-28 19:22:42|\n",
      "|21201|           Blink-182|Logged In|    Colin|     M|          128| Freeman| 246.12526| paid|Bakersfield, CA|   PUT|        NextSong|      532|         Adam's Song|   200|Mozilla/5.0 (Wind...|    30|2018-10-08 02:09:54|2018-09-28 19:22:42|\n",
      "|21210|         Robben Ford|Logged In|    Colin|     M|          129| Freeman| 252.73424| paid|Bakersfield, CA|   PUT|        NextSong|      532|            Too Much|   200|Mozilla/5.0 (Wind...|    30|2018-10-08 02:14:00|2018-09-28 19:22:42|\n",
      "|21222|The Lonely Island...|Logged In|    Colin|     M|          130| Freeman| 156.23791| paid|Bakersfield, CA|   PUT|        NextSong|      532|       I'm On A Boat|   200|Mozilla/5.0 (Wind...|    30|2018-10-08 02:18:12|2018-09-28 19:22:42|\n",
      "|21230|          Afterhours|Logged In|    Colin|     M|          131| Freeman| 179.53914| paid|Bakersfield, CA|   PUT|        NextSong|      532|Questo Pazzo Pazz...|   200|Mozilla/5.0 (Wind...|    30|2018-10-08 02:20:48|2018-09-28 19:22:42|\n",
      "|21236|Two Door Cinema Club|Logged In|    Colin|     M|          132| Freeman| 190.56281| paid|Bakersfield, CA|   PUT|        NextSong|      532|You Are Not Stubborn|   200|Mozilla/5.0 (Wind...|    30|2018-10-08 02:23:47|2018-09-28 19:22:42|\n",
      "|21250|             50 Cent|Logged In|    Colin|     M|          133| Freeman| 249.52118| paid|Bakersfield, CA|   PUT|        NextSong|      532|            P.I.M.P.|   200|Mozilla/5.0 (Wind...|    30|2018-10-08 02:26:57|2018-09-28 19:22:42|\n",
      "|21260|                Bond|Logged In|    Colin|     M|          134| Freeman| 190.77179| paid|Bakersfield, CA|   PUT|        NextSong|      532|           Explosive|   200|Mozilla/5.0 (Wind...|    30|2018-10-08 02:31:06|2018-09-28 19:22:42|\n",
      "|21272|            Don Omar|Logged In|    Colin|     M|          135| Freeman| 196.28363| paid|Bakersfield, CA|   PUT|        NextSong|      532|              Conteo|   200|Mozilla/5.0 (Wind...|    30|2018-10-08 02:34:16|2018-09-28 19:22:42|\n",
      "|21280|     Sarah McLachlan|Logged In|    Colin|     M|          136| Freeman| 266.55302| paid|Bakersfield, CA|   PUT|        NextSong|      532|                Blue|   200|Mozilla/5.0 (Wind...|    30|2018-10-08 02:37:32|2018-09-28 19:22:42|\n",
      "|21281|                null|Logged In|    Colin|     M|          137| Freeman|      null| paid|Bakersfield, CA|   PUT|       Thumbs Up|      532|                null|   307|Mozilla/5.0 (Wind...|    30|2018-10-08 02:37:33|2018-09-28 19:22:42|\n",
      "|21288|        Powderfinger|Logged In|    Colin|     M|          138| Freeman| 298.94485| paid|Bakersfield, CA|   PUT|        NextSong|      532|          These Days|   200|Mozilla/5.0 (Wind...|    30|2018-10-08 02:41:58|2018-09-28 19:22:42|\n",
      "|21289|                null|Logged In|    Colin|     M|          139| Freeman|      null| paid|Bakersfield, CA|   GET|            Home|      532|                null|   200|Mozilla/5.0 (Wind...|    30|2018-10-08 02:42:16|2018-09-28 19:22:42|\n",
      "|21301|           Devotchka|Logged In|    Colin|     M|          140| Freeman|  252.1073| paid|Bakersfield, CA|   PUT|        NextSong|      532|Twenty-Six Tempta...|   200|Mozilla/5.0 (Wind...|    30|2018-10-08 02:46:56|2018-09-28 19:22:42|\n",
      "|21315|Edward Sharpe & T...|Logged In|    Colin|     M|          141| Freeman| 229.58975| paid|Bakersfield, CA|   PUT|        NextSong|      532|             Janglin|   200|Mozilla/5.0 (Wind...|    30|2018-10-08 02:51:08|2018-09-28 19:22:42|\n",
      "|21325|  Panic At The Disco|Logged In|    Colin|     M|          142| Freeman| 197.74649| paid|Bakersfield, CA|   PUT|        NextSong|      532|I Write Sins Not ...|   200|Mozilla/5.0 (Wind...|    30|2018-10-08 02:54:57|2018-09-28 19:22:42|\n",
      "|21333|           Jake Hess|Logged In|    Colin|     M|          143| Freeman|   206.602| paid|Bakersfield, CA|   PUT|        NextSong|      532|            Wore Out|   200|Mozilla/5.0 (Wind...|    30|2018-10-08 02:58:14|2018-09-28 19:22:42|\n",
      "|21347|BRICE_ JEAN-MARIE...|Logged In|    Colin|     M|          144| Freeman|2015.79057| paid|Bakersfield, CA|   PUT|        NextSong|      532| JOG-O-MOTION PART 1|   200|Mozilla/5.0 (Wind...|    30|2018-10-08 03:01:40|2018-09-28 19:22:42|\n",
      "|21348|                null|Logged In|    Colin|     M|          145| Freeman|      null| paid|Bakersfield, CA|   PUT|       Thumbs Up|      532|                null|   307|Mozilla/5.0 (Wind...|    30|2018-10-08 03:01:41|2018-09-28 19:22:42|\n",
      "|21443|           Metallica|Logged In|    Colin|     M|          146| Freeman| 386.66404| paid|Bakersfield, CA|   PUT|        NextSong|      532|          No Remorse|   200|Mozilla/5.0 (Wind...|    30|2018-10-08 03:35:15|2018-09-28 19:22:42|\n",
      "|21457|           Zach Gill|Logged In|    Colin|     M|          147| Freeman| 186.74893| paid|Bakersfield, CA|   PUT|        NextSong|      532|               Small|   200|Mozilla/5.0 (Wind...|    30|2018-10-08 03:41:41|2018-09-28 19:22:42|\n",
      "|21464|            BjÃÂ¶rk|Logged In|    Colin|     M|          148| Freeman| 185.46893| paid|Bakersfield, CA|   PUT|        NextSong|      532|            Cover Me|   200|Mozilla/5.0 (Wind...|    30|2018-10-08 03:44:47|2018-09-28 19:22:42|\n",
      "|21467|Jordin Sparks fea...|Logged In|    Colin|     M|          149| Freeman| 264.38485| paid|Bakersfield, CA|   PUT|        NextSong|      532|No Air duet with ...|   200|Mozilla/5.0 (Wind...|    30|2018-10-08 03:47:52|2018-09-28 19:22:42|\n",
      "|21474|     Ulrich Schnauss|Logged In|    Colin|     M|          150| Freeman| 437.15873| paid|Bakersfield, CA|   PUT|        NextSong|      532| Between Us And Them|   200|Mozilla/5.0 (Wind...|    30|2018-10-08 03:52:16|2018-09-28 19:22:42|\n",
      "|21488|              La Ley|Logged In|    Colin|     M|          151| Freeman| 228.41424| paid|Bakersfield, CA|   PUT|        NextSong|      532|          ParaÃÂ­so|   200|Mozilla/5.0 (Wind...|    30|2018-10-08 03:59:33|2018-09-28 19:22:42|\n",
      "|21500|           Blink-182|Logged In|    Colin|     M|          152| Freeman| 166.60853| paid|Bakersfield, CA|   PUT|        NextSong|      532|            Untitled|   200|Mozilla/5.0 (Wind...|    30|2018-10-08 04:03:21|2018-09-28 19:22:42|\n",
      "|21506|              Gossip|Logged In|    Colin|     M|          153| Freeman| 168.30649| paid|Bakersfield, CA|   PUT|        NextSong|      532|      Fire With Fire|   200|Mozilla/5.0 (Wind...|    30|2018-10-08 04:06:07|2018-09-28 19:22:42|\n",
      "|21512|      Colbie Caillat|Logged In|    Colin|     M|          154| Freeman|   236.042| paid|Bakersfield, CA|   PUT|        NextSong|      532|             Rainbow|   200|Mozilla/5.0 (Wind...|    30|2018-10-08 04:08:55|2018-09-28 19:22:42|\n",
      "|21522|The Homemade Jamz...|Logged In|    Colin|     M|          155| Freeman| 356.72771| paid|Bakersfield, CA|   PUT|        NextSong|      532|      Dusk Till Dawn|   200|Mozilla/5.0 (Wind...|    30|2018-10-08 04:12:51|2018-09-28 19:22:42|\n",
      "|21532|       Ernie Ranglin|Logged In|    Colin|     M|          156| Freeman| 206.88934| paid|Bakersfield, CA|   PUT|        NextSong|      532|Three Pope (feat....|   200|Mozilla/5.0 (Wind...|    30|2018-10-08 04:18:47|2018-09-28 19:22:42|\n",
      "|21537|      Puddle Of Mudd|Logged In|    Colin|     M|          157| Freeman| 218.95791| paid|Bakersfield, CA|   PUT|        NextSong|      532|        She Hates Me|   200|Mozilla/5.0 (Wind...|    30|2018-10-08 04:22:13|2018-09-28 19:22:42|\n",
      "|21544|        Phil Collins|Logged In|    Colin|     M|          158| Freeman| 258.48118| paid|Bakersfield, CA|   PUT|        NextSong|      532|You'll Be In My H...|   200|Mozilla/5.0 (Wind...|    30|2018-10-08 04:25:51|2018-09-28 19:22:42|\n",
      "|21554|The Good_ The Bad...|Logged In|    Colin|     M|          159| Freeman| 226.87302| paid|Bakersfield, CA|   PUT|        NextSong|      532|    The Bunting Song|   200|Mozilla/5.0 (Wind...|    30|2018-10-08 04:30:09|2018-09-28 19:22:42|\n",
      "|21561|       Reel Big Fish|Logged In|    Colin|     M|          160| Freeman| 210.65098| paid|Bakersfield, CA|   PUT|        NextSong|      532|                Beer|   200|Mozilla/5.0 (Wind...|    30|2018-10-08 04:33:55|2018-09-28 19:22:42|\n",
      "|21564|                  U2|Logged In|    Colin|     M|          161| Freeman|   296.202| paid|Bakersfield, CA|   PUT|        NextSong|      532| With Or Without You|   200|Mozilla/5.0 (Wind...|    30|2018-10-08 04:37:25|2018-09-28 19:22:42|\n",
      "|21573|       Missy Higgins|Logged In|    Colin|     M|          162| Freeman|  90.67057| paid|Bakersfield, CA|   PUT|        NextSong|      532|Going North [Comm...|   200|Mozilla/5.0 (Wind...|    30|2018-10-08 04:42:21|2018-09-28 19:22:42|\n",
      "|21575|        Three Drives|Logged In|    Colin|     M|          163| Freeman|  411.6371| paid|Bakersfield, CA|   PUT|        NextSong|      532|         Greece 2000|   200|Mozilla/5.0 (Wind...|    30|2018-10-08 04:43:51|2018-09-28 19:22:42|\n",
      "|21585|          Irene Cara|Logged In|    Colin|     M|          164| Freeman| 244.53179| paid|Bakersfield, CA|   PUT|        NextSong|      532|      What A Feeling|   200|Mozilla/5.0 (Wind...|    30|2018-10-08 04:50:42|2018-09-28 19:22:42|\n",
      "|21586|                null|Logged In|    Colin|     M|          165| Freeman|      null| paid|Bakersfield, CA|   PUT|       Thumbs Up|      532|                null|   307|Mozilla/5.0 (Wind...|    30|2018-10-08 04:50:43|2018-09-28 19:22:42|\n",
      "|21592|    Dropkick Murphys|Logged In|    Colin|     M|          166| Freeman| 134.89587| paid|Bakersfield, CA|   PUT|        NextSong|      532|The Legend of Fin...|   200|Mozilla/5.0 (Wind...|    30|2018-10-08 04:54:46|2018-09-28 19:22:42|\n",
      "|21596|        Taylor Swift|Logged In|    Colin|     M|          167| Freeman| 233.89995| paid|Bakersfield, CA|   PUT|        NextSong|      532|          Love Story|   200|Mozilla/5.0 (Wind...|    30|2018-10-08 04:57:00|2018-09-28 19:22:42|\n",
      "|21597|                null|Logged In|    Colin|     M|          168| Freeman|      null| paid|Bakersfield, CA|   PUT|      Add Friend|      532|                null|   307|Mozilla/5.0 (Wind...|    30|2018-10-08 04:57:01|2018-09-28 19:22:42|\n",
      "|21598|                null|Logged In|    Colin|     M|          169| Freeman|      null| paid|Bakersfield, CA|   PUT|      Add Friend|      532|                null|   307|Mozilla/5.0 (Wind...|    30|2018-10-08 04:57:02|2018-09-28 19:22:42|\n",
      "|21608|  Lendakaris Muertos|Logged In|    Colin|     M|          170| Freeman| 112.87465| paid|Bakersfield, CA|   PUT|        NextSong|      532|      Gafas de pasta|   200|Mozilla/5.0 (Wind...|    30|2018-10-08 05:00:53|2018-09-28 19:22:42|\n",
      "|21609|                null|Logged In|    Colin|     M|          171| Freeman|      null| paid|Bakersfield, CA|   PUT| Add to Playlist|      532|                null|   200|Mozilla/5.0 (Wind...|    30|2018-10-08 05:01:06|2018-09-28 19:22:42|\n",
      "|21611|      Donny Hathaway|Logged In|    Colin|     M|          172| Freeman| 274.20689| paid|Bakersfield, CA|   PUT|        NextSong|      532|You've Got A Frie...|   200|Mozilla/5.0 (Wind...|    30|2018-10-08 05:02:45|2018-09-28 19:22:42|\n",
      "|21620|  Kanye West / Jay-Z|Logged In|    Colin|     M|          173| Freeman| 233.45587| paid|Bakersfield, CA|   PUT|        NextSong|      532|Diamonds From Sie...|   200|Mozilla/5.0 (Wind...|    30|2018-10-08 05:07:19|2018-09-28 19:22:42|\n",
      "|21627|           Jazzanova|Logged In|    Colin|     M|          174| Freeman| 250.69669| paid|Bakersfield, CA|   PUT|        NextSong|      532|              No Use|   200|Mozilla/5.0 (Wind...|    30|2018-10-08 05:11:12|2018-09-28 19:22:42|\n",
      "|21628|                null|Logged In|    Colin|     M|          175| Freeman|      null| paid|Bakersfield, CA|   GET|        Settings|      532|                null|   200|Mozilla/5.0 (Wind...|    30|2018-10-08 05:11:32|2018-09-28 19:22:42|\n",
      "|21638|         Evanescence|Logged In|    Colin|     M|          176| Freeman| 236.12036| paid|Bakersfield, CA|   PUT|        NextSong|      532|    Bring Me To Life|   200|Mozilla/5.0 (Wind...|    30|2018-10-08 05:15:22|2018-09-28 19:22:42|\n",
      "|21645|Notes From Underg...|Logged In|    Colin|     M|          177| Freeman| 196.12689| paid|Bakersfield, CA|   PUT|        NextSong|      532|         Be Like You|   200|Mozilla/5.0 (Wind...|    30|2018-10-08 05:19:18|2018-09-28 19:22:42|\n",
      "|21652|            Flipsyde|Logged In|    Colin|     M|          178| Freeman| 313.75628| paid|Bakersfield, CA|   PUT|        NextSong|      532|        U.S. History|   200|Mozilla/5.0 (Wind...|    30|2018-10-08 05:22:34|2018-09-28 19:22:42|\n",
      "|21668|      Mala Rodriguez|Logged In|    Colin|     M|          179| Freeman| 203.67628| paid|Bakersfield, CA|   PUT|        NextSong|      532|         La Cocinera|   200|Mozilla/5.0 (Wind...|    30|2018-10-08 05:27:47|2018-09-28 19:22:42|\n",
      "|21669|                null|Logged In|    Colin|     M|          180| Freeman|      null| paid|Bakersfield, CA|   PUT|       Thumbs Up|      532|                null|   307|Mozilla/5.0 (Wind...|    30|2018-10-08 05:27:48|2018-09-28 19:22:42|\n",
      "|21674|          Rea_ Chris|Logged In|    Colin|     M|          181| Freeman| 310.04689| paid|Bakersfield, CA|   PUT|        NextSong|      532|     All Summer Long|   200|Mozilla/5.0 (Wind...|    30|2018-10-08 05:31:10|2018-09-28 19:22:42|\n",
      "|21683|               Jay-Z|Logged In|    Colin|     M|          182| Freeman| 212.27057| paid|Bakersfield, CA|   PUT|        NextSong|      532|             D'Evils|   200|Mozilla/5.0 (Wind...|    30|2018-10-08 05:36:20|2018-09-28 19:22:42|\n",
      "|21690|Red Hot Chili Pep...|Logged In|    Colin|     M|          183| Freeman| 241.84118| paid|Bakersfield, CA|   PUT|        NextSong|      532|Hard To Concentra...|   200|Mozilla/5.0 (Wind...|    30|2018-10-08 05:39:52|2018-09-28 19:22:42|\n",
      "|21695|            Megadeth|Logged In|    Colin|     M|          184| Freeman| 243.06893| paid|Bakersfield, CA|   PUT|        NextSong|      532|Bad Omen (24-Bit ...|   200|Mozilla/5.0 (Wind...|    30|2018-10-08 05:43:53|2018-09-28 19:22:42|\n",
      "|21699|      Fedde Le Grand|Logged In|    Colin|     M|          185| Freeman| 396.35546| paid|Bakersfield, CA|   PUT|        NextSong|      532|Put Your Hands Up...|   200|Mozilla/5.0 (Wind...|    30|2018-10-08 05:47:56|2018-09-28 19:22:42|\n",
      "|21709|             Battles|Logged In|    Colin|     M|          186| Freeman| 318.22322| paid|Bakersfield, CA|   PUT|        NextSong|      532|          Bad Trails|   200|Mozilla/5.0 (Wind...|    30|2018-10-08 05:54:32|2018-09-28 19:22:42|\n",
      "|21718|           Rivermaya|Logged In|    Colin|     M|          187| Freeman| 270.94159| paid|Bakersfield, CA|   PUT|        NextSong|      532|       Bring Me Down|   200|Mozilla/5.0 (Wind...|    30|2018-10-08 05:59:50|2018-09-28 19:22:42|\n",
      "|21726|         New Edition|Logged In|    Colin|     M|          188| Freeman| 166.29506| paid|Bakersfield, CA|   PUT|        NextSong|      532|Last Time (Album ...|   200|Mozilla/5.0 (Wind...|    30|2018-10-08 06:04:20|2018-09-28 19:22:42|\n",
      "|21731|Mark Ronson featu...|Logged In|    Colin|     M|          189| Freeman| 216.11057| paid|Bakersfield, CA|   PUT|        NextSong|      532| Apply Some Pressure|   200|Mozilla/5.0 (Wind...|    30|2018-10-08 06:07:06|2018-09-28 19:22:42|\n",
      "|21740|      Colbie Caillat|Logged In|    Colin|     M|          190| Freeman| 268.72118| paid|Bakersfield, CA|   PUT|        NextSong|      532|         Tailor Made|   200|Mozilla/5.0 (Wind...|    30|2018-10-08 06:10:42|2018-09-28 19:22:42|\n",
      "|21746|         Al Di Meola|Logged In|    Colin|     M|          191| Freeman| 238.88934| paid|Bakersfield, CA|   PUT|        NextSong|      532|          I Can Tell|   200|Mozilla/5.0 (Wind...|    30|2018-10-08 06:15:10|2018-09-28 19:22:42|\n",
      "|21753|National Philharm...|Logged In|    Colin|     M|          192| Freeman| 260.98893| paid|Bakersfield, CA|   PUT|        NextSong|      532|Angels We Have He...|   200|Mozilla/5.0 (Wind...|    30|2018-10-08 06:19:08|2018-09-28 19:22:42|\n",
      "|21754|                null|Logged In|    Colin|     M|          193| Freeman|      null| paid|Bakersfield, CA|   PUT| Add to Playlist|      532|                null|   200|Mozilla/5.0 (Wind...|    30|2018-10-08 06:19:15|2018-09-28 19:22:42|\n",
      "|21762|       Lonnie Gordon|Logged In|    Colin|     M|          194| Freeman| 181.21098| paid|Bakersfield, CA|   PUT|        NextSong|      532|Catch You Baby (S...|   200|Mozilla/5.0 (Wind...|    30|2018-10-08 06:23:28|2018-09-28 19:22:42|\n",
      "|21770|        Every Avenue|Logged In|    Colin|     M|          195| Freeman|  175.0722| paid|Bakersfield, CA|   PUT|        NextSong|      532|     Picture Perfect|   200|Mozilla/5.0 (Wind...|    30|2018-10-08 06:26:29|2018-09-28 19:22:42|\n",
      "|21771|                null|Logged In|    Colin|     M|          196| Freeman|      null| paid|Bakersfield, CA|   GET|           Error|      532|                null|   404|Mozilla/5.0 (Wind...|    30|2018-10-08 06:26:51|2018-09-28 19:22:42|\n",
      "|21778|        Demon Hunter|Logged In|    Colin|     M|          197| Freeman| 395.57179| paid|Bakersfield, CA|   PUT|        NextSong|      532|          Ours Alone|   200|Mozilla/5.0 (Wind...|    30|2018-10-08 06:29:24|2018-09-28 19:22:42|\n",
      "|21790|           Metallica|Logged In|    Colin|     M|          198| Freeman| 515.21261| paid|Bakersfield, CA|   PUT|        NextSong|      532|   Master Of Puppets|   200|Mozilla/5.0 (Wind...|    30|2018-10-08 06:35:59|2018-09-28 19:22:42|\n",
      "|21805|     NiccolÃÂ² Fabi|Logged In|    Colin|     M|          199| Freeman| 313.93914| paid|Bakersfield, CA|   PUT|        NextSong|      532|           Costruire|   200|Mozilla/5.0 (Wind...|    30|2018-10-08 06:44:34|2018-09-28 19:22:42|\n",
      "|21815|            Royksopp|Logged In|    Colin|     M|          200| Freeman| 321.51465| paid|Bakersfield, CA|   PUT|        NextSong|      532|              Sparks|   200|Mozilla/5.0 (Wind...|    30|2018-10-08 06:49:47|2018-09-28 19:22:42|\n",
      "|21823|Penguin CafÃÂ© O...|Logged In|    Colin|     M|          201| Freeman| 656.97914| paid|Bakersfield, CA|   PUT|        NextSong|      532|            Wildlife|   200|Mozilla/5.0 (Wind...|    30|2018-10-08 06:55:08|2018-09-28 19:22:42|\n",
      "|21841|         Evanescence|Logged In|    Colin|     M|          202| Freeman| 220.15955| paid|Bakersfield, CA|   PUT|        NextSong|      532|               Hello|   200|Mozilla/5.0 (Wind...|    30|2018-10-08 07:06:04|2018-09-28 19:22:42|\n",
      "|21849|Motion City Sound...|Logged In|    Colin|     M|          203| Freeman| 231.44444| paid|Bakersfield, CA|   PUT|        NextSong|      532|Even If Kills Me ...|   200|Mozilla/5.0 (Wind...|    30|2018-10-08 07:09:44|2018-09-28 19:22:42|\n",
      "|21855|       Bran Van 3000|Logged In|    Colin|     M|          204| Freeman| 235.98975| paid|Bakersfield, CA|   PUT|        NextSong|      532|    Drinking In L.A.|   200|Mozilla/5.0 (Wind...|    30|2018-10-08 07:13:35|2018-09-28 19:22:42|\n",
      "|21864|                Onar|Logged In|    Colin|     M|          205| Freeman|  306.6771| paid|Bakersfield, CA|   PUT|        NextSong|      532|   Xehasmeni Melodia|   200|Mozilla/5.0 (Wind...|    30|2018-10-08 07:17:30|2018-09-28 19:22:42|\n",
      "|21874|        Kate Voegele|Logged In|    Colin|     M|          206| Freeman| 218.01751| paid|Bakersfield, CA|   PUT|        NextSong|      532|You Can't Break A...|   200|Mozilla/5.0 (Wind...|    30|2018-10-08 07:22:36|2018-09-28 19:22:42|\n",
      "|21875|                null|Logged In|    Colin|     M|          207| Freeman|      null| paid|Bakersfield, CA|   GET|       Downgrade|      532|                null|   200|Mozilla/5.0 (Wind...|    30|2018-10-08 07:23:21|2018-09-28 19:22:42|\n",
      "|21886|         All Out War|Logged In|    Colin|     M|          208| Freeman| 188.31628| paid|Bakersfield, CA|   PUT|        NextSong|      532|Truth In The Age ...|   200|Mozilla/5.0 (Wind...|    30|2018-10-08 07:26:14|2018-09-28 19:22:42|\n",
      "|21896|La Mancha De Rolando|Logged In|    Colin|     M|          209| Freeman| 270.88934| paid|Bakersfield, CA|   PUT|        NextSong|      532|         Donde Vamos|   200|Mozilla/5.0 (Wind...|    30|2018-10-08 07:29:22|2018-09-28 19:22:42|\n",
      "|21905|                Styx|Logged In|    Colin|     M|          210| Freeman| 184.71138| paid|Bakersfield, CA|   PUT|        NextSong|      532|            Lady '95|   200|Mozilla/5.0 (Wind...|    30|2018-10-08 07:33:52|2018-09-28 19:22:42|\n",
      "|21910|The Berg Sans Nipple|Logged In|    Colin|     M|          211| Freeman| 431.77751| paid|Bakersfield, CA|   PUT|        NextSong|      532|Horseshoes and Ha...|   200|Mozilla/5.0 (Wind...|    30|2018-10-08 07:36:56|2018-09-28 19:22:42|\n",
      "|21919|            Natiruts|Logged In|    Colin|     M|          212| Freeman| 210.88608| paid|Bakersfield, CA|   PUT|        NextSong|      532|Jamaica Roots II(...|   200|Mozilla/5.0 (Wind...|    30|2018-10-08 07:44:07|2018-09-28 19:22:42|\n",
      "|21920|                null|Logged In|    Colin|     M|          213| Freeman|      null| paid|Bakersfield, CA|   GET|       Downgrade|      532|                null|   200|Mozilla/5.0 (Wind...|    30|2018-10-08 07:44:13|2018-09-28 19:22:42|\n",
      "|21921|                null|Logged In|    Colin|     M|          214| Freeman|      null| paid|Bakersfield, CA|   PUT|Submit Downgrade|      532|                null|   307|Mozilla/5.0 (Wind...|    30|2018-10-08 07:44:14|2018-09-28 19:22:42|\n",
      "|21922|                null|Logged In|    Colin|     M|          215| Freeman|      null| free|Bakersfield, CA|   GET|            Home|      532|                null|   200|Mozilla/5.0 (Wind...|    30|2018-10-08 07:45:09|2018-09-28 19:22:42|\n",
      "|21926|     Crystal Castles|Logged In|    Colin|     M|          216| Freeman| 258.45506| free|Bakersfield, CA|   PUT|        NextSong|      532|Crimewave (Crysta...|   200|Mozilla/5.0 (Wind...|    30|2018-10-08 07:47:37|2018-09-28 19:22:42|\n",
      "|21936|Red Hot Chili Pep...|Logged In|    Colin|     M|          217| Freeman| 339.53914| free|Bakersfield, CA|   PUT|        NextSong|      532| Hey (Album Version)|   200|Mozilla/5.0 (Wind...|    30|2018-10-08 07:51:55|2018-09-28 19:22:42|\n",
      "|21942|        Claire Lynch|Logged In|    Colin|     M|          218| Freeman|  197.3024| free|Bakersfield, CA|   PUT|        NextSong|      532|I Believe In Forever|   200|Mozilla/5.0 (Wind...|    30|2018-10-08 07:57:34|2018-09-28 19:22:42|\n",
      "|21943|                null|Logged In|    Colin|     M|          219| Freeman|      null| free|Bakersfield, CA|   PUT| Add to Playlist|      532|                null|   200|Mozilla/5.0 (Wind...|    30|2018-10-08 07:57:41|2018-09-28 19:22:42|\n",
      "|21952|             Rihanna|Logged In|    Colin|     M|          220| Freeman| 267.49342| free|Bakersfield, CA|   PUT|        NextSong|      532|Don't Stop The Music|   200|Mozilla/5.0 (Wind...|    30|2018-10-08 08:00:51|2018-09-28 19:22:42|\n",
      "|21958|           The Clash|Logged In|    Colin|     M|          221| Freeman| 144.40444| free|Bakersfield, CA|   PUT|        NextSong|      532|    City Of The Dead|   200|Mozilla/5.0 (Wind...|    30|2018-10-08 08:05:18|2018-09-28 19:22:42|\n",
      "|21961|      The Black Keys|Logged In|    Colin|     M|          222| Freeman| 204.72118| free|Bakersfield, CA|   PUT|        NextSong|      532|  Too Afraid To Love|   200|Mozilla/5.0 (Wind...|    30|2018-10-08 08:07:42|2018-09-28 19:22:42|\n",
      "|21962|                null|Logged In|    Colin|     M|          223| Freeman|      null| free|Bakersfield, CA|   GET|            Home|      532|                null|   200|Mozilla/5.0 (Wind...|    30|2018-10-08 08:07:50|2018-09-28 19:22:42|\n",
      "|21968|        Modeselektor|Logged In|    Colin|     M|          224| Freeman| 290.40281| free|Bakersfield, CA|   PUT|        NextSong|      532|               Hasir|   200|Mozilla/5.0 (Wind...|    30|2018-10-08 08:11:06|2018-09-28 19:22:42|\n",
      "|21978|Cheech And Chong ...|Logged In|    Colin|     M|          225| Freeman| 299.41506| free|Bakersfield, CA|   PUT|        NextSong|      532|Bloat On (featuri...|   200|Mozilla/5.0 (Wind...|    30|2018-10-08 08:15:56|2018-09-28 19:22:42|\n",
      "|21992|    Die Mooskirchner|Logged In|    Colin|     M|          226| Freeman| 169.29914| free|Bakersfield, CA|   PUT|        NextSong|      532|   Frisch und g'sund|   200|Mozilla/5.0 (Wind...|    30|2018-10-08 08:20:55|2018-09-28 19:22:42|\n",
      "|22001|        Daler Mehndi|Logged In|    Colin|     M|          227| Freeman| 278.04689| free|Bakersfield, CA|   PUT|        NextSong|      532|           Boom Boom|   200|Mozilla/5.0 (Wind...|    30|2018-10-08 08:23:44|2018-09-28 19:22:42|\n",
      "|22002|                null|Logged In|    Colin|     M|          228| Freeman|      null| free|Bakersfield, CA|   PUT|       Thumbs Up|      532|                null|   307|Mozilla/5.0 (Wind...|    30|2018-10-08 08:23:45|2018-09-28 19:22:42|\n",
      "|22011|            BjÃÂ¶rk|Logged In|    Colin|     M|          229| Freeman| 348.57751| free|Bakersfield, CA|   PUT|        NextSong|      532|                Undo|   200|Mozilla/5.0 (Wind...|    30|2018-10-08 08:28:22|2018-09-28 19:22:42|\n",
      "|22012|                null|Logged In|    Colin|     M|          230| Freeman|      null| free|Bakersfield, CA|   PUT| Add to Playlist|      532|                null|   200|Mozilla/5.0 (Wind...|    30|2018-10-08 08:28:34|2018-09-28 19:22:42|\n",
      "|22026|          Bloc Party|Logged In|    Colin|     M|          231| Freeman| 210.12853| free|Bakersfield, CA|   PUT|        NextSong|      532| Hunting For Witches|   200|Mozilla/5.0 (Wind...|    30|2018-10-08 08:34:10|2018-09-28 19:22:42|\n",
      "|22033|            Bon Iver|Logged In|    Colin|     M|          232| Freeman| 329.24689| free|Bakersfield, CA|   PUT|        NextSong|      532|          Blindsided|   200|Mozilla/5.0 (Wind...|    30|2018-10-08 08:37:40|2018-09-28 19:22:42|\n",
      "|22040|        Rise Against|Logged In|    Colin|     M|          233| Freeman| 221.46567| free|Bakersfield, CA|   PUT|        NextSong|      532|             Survive|   200|Mozilla/5.0 (Wind...|    30|2018-10-08 08:43:09|2018-09-28 19:22:42|\n",
      "|22047|       Avril Lavigne|Logged In|    Colin|     M|          234| Freeman|   215.562| free|Bakersfield, CA|   PUT|        NextSong|      532|               Alice|   200|Mozilla/5.0 (Wind...|    30|2018-10-08 08:46:50|2018-09-28 19:22:42|\n",
      "|22054|Florence + The Ma...|Logged In|    Colin|     M|          235| Freeman| 219.66322| free|Bakersfield, CA|   PUT|        NextSong|      532|Dog Days Are Over...|   200|Mozilla/5.0 (Wind...|    30|2018-10-08 08:50:25|2018-09-28 19:22:42|\n",
      "|22059|     Minnie Riperton|Logged In|    Colin|     M|          236| Freeman| 223.13751| free|Bakersfield, CA|   PUT|        NextSong|      532|          Lovin' You|   200|Mozilla/5.0 (Wind...|    30|2018-10-08 08:54:04|2018-09-28 19:22:42|\n",
      "|22067|         Evanescence|Logged In|    Colin|     M|          237| Freeman| 220.02893| free|Bakersfield, CA|   PUT|        NextSong|      532|Everybody's Fool ...|   200|Mozilla/5.0 (Wind...|    30|2018-10-08 08:57:47|2018-09-28 19:22:42|\n",
      "|22073|                Saez|Logged In|    Colin|     M|          238| Freeman| 234.94485| free|Bakersfield, CA|   PUT|        NextSong|      532|        Jeune Et Con|   200|Mozilla/5.0 (Wind...|    30|2018-10-08 09:01:27|2018-09-28 19:22:42|\n",
      "|22081|               Plies|Logged In|    Colin|     M|          239| Freeman| 278.22975| free|Bakersfield, CA|   PUT|        NextSong|      532|Somebody (Loves Y...|   200|Mozilla/5.0 (Wind...|    30|2018-10-08 09:05:21|2018-09-28 19:22:42|\n",
      "|22087|          Lily Allen|Logged In|    Colin|     M|          240| Freeman| 196.80608| free|Bakersfield, CA|   PUT|        NextSong|      532|             Not Big|   200|Mozilla/5.0 (Wind...|    30|2018-10-08 09:09:59|2018-09-28 19:22:42|\n",
      "|22096|            Meneguar|Logged In|    Colin|     M|          241| Freeman| 123.68934| free|Bakersfield, CA|   PUT|        NextSong|      532|           Paint You|   200|Mozilla/5.0 (Wind...|    30|2018-10-08 09:13:15|2018-09-28 19:22:42|\n",
      "|22100|         The Oh Sees|Logged In|    Colin|     M|          242| Freeman| 134.42567| free|Bakersfield, CA|   PUT|        NextSong|      532|        Block Of Ice|   200|Mozilla/5.0 (Wind...|    30|2018-10-08 09:15:18|2018-09-28 19:22:42|\n",
      "|22103|                null|Logged In|    Colin|     M|          243| Freeman|      null| free|Bakersfield, CA|   GET|         Upgrade|      532|                null|   200|Mozilla/5.0 (Wind...|    30|2018-10-08 09:15:58|2018-09-28 19:22:42|\n",
      "|22106|         Fleet Foxes|Logged In|    Colin|     M|          244| Freeman|  191.4771| free|Bakersfield, CA|   PUT|        NextSong|      532|        Sun It Rises|   200|Mozilla/5.0 (Wind...|    30|2018-10-08 09:17:32|2018-09-28 19:22:42|\n",
      "|22107|                null|Logged In|    Colin|     M|          245| Freeman|      null| free|Bakersfield, CA|   GET|         Upgrade|      532|                null|   200|Mozilla/5.0 (Wind...|    30|2018-10-08 09:17:57|2018-09-28 19:22:42|\n",
      "|22115|       Finger Eleven|Logged In|    Colin|     M|          246| Freeman|  208.1171| free|Bakersfield, CA|   PUT|        NextSong|      532|           Paralyzer|   200|Mozilla/5.0 (Wind...|    30|2018-10-08 09:20:43|2018-09-28 19:22:42|\n",
      "|22124|         Linkin Park|Logged In|    Colin|     M|          247| Freeman| 494.99383| free|Bakersfield, CA|   PUT|        NextSong|      532|Bleed It Out [Liv...|   200|Mozilla/5.0 (Wind...|    30|2018-10-08 09:24:11|2018-09-28 19:22:42|\n",
      "|22127|                null|Logged In|    Colin|     M|          248| Freeman|      null| free|Bakersfield, CA|   PUT| Add to Playlist|      532|                null|   200|Mozilla/5.0 (Wind...|    30|2018-10-08 09:25:13|2018-09-28 19:22:42|\n",
      "|22140|  Christina Aguilera|Logged In|    Colin|     M|          249| Freeman| 190.24934| free|Bakersfield, CA|   PUT|        NextSong|      532|Ven Conmigo (Sola...|   200|Mozilla/5.0 (Wind...|    30|2018-10-08 09:32:25|2018-09-28 19:22:42|\n",
      "|22146|         The Bravery|Logged In|    Colin|     M|          250| Freeman| 168.14975| free|Bakersfield, CA|   PUT|        NextSong|      532|             Give In|   200|Mozilla/5.0 (Wind...|    30|2018-10-08 09:35:35|2018-09-28 19:22:42|\n",
      "|22154|             Fonseca|Logged In|    Colin|     M|          251| Freeman| 259.83955| free|Bakersfield, CA|   PUT|        NextSong|      532|         Arrepentida|   200|Mozilla/5.0 (Wind...|    30|2018-10-08 09:38:23|2018-09-28 19:22:42|\n",
      "|22164|          PAULA COLE|Logged In|    Colin|     M|          252| Freeman| 319.18975| free|Bakersfield, CA|   PUT|        NextSong|      532|I Don't Want To W...|   200|Mozilla/5.0 (Wind...|    30|2018-10-08 09:42:42|2018-09-28 19:22:42|\n",
      "|22171|Alison Krauss / U...|Logged In|    Colin|     M|          253| Freeman| 129.67138| free|Bakersfield, CA|   PUT|        NextSong|      532|Down To The River...|   200|Mozilla/5.0 (Wind...|    30|2018-10-08 09:48:01|2018-09-28 19:22:42|\n",
      "|22177|        Ian Van Dahl|Logged In|    Colin|     M|          254| Freeman| 223.89506| free|Bakersfield, CA|   PUT|        NextSong|      532|  Castles In The Sky|   200|Mozilla/5.0 (Wind...|    30|2018-10-08 09:50:10|2018-09-28 19:22:42|\n",
      "|22178|                null|Logged In|    Colin|     M|          255| Freeman|      null| free|Bakersfield, CA|   PUT|       Thumbs Up|      532|                null|   307|Mozilla/5.0 (Wind...|    30|2018-10-08 09:50:11|2018-09-28 19:22:42|\n",
      "|22185|  Mississippi Sheiks|Logged In|    Colin|     M|          256| Freeman| 186.43546| free|Bakersfield, CA|   PUT|        NextSong|      532|Sitting On Top Of...|   200|Mozilla/5.0 (Wind...|    30|2018-10-08 09:53:53|2018-09-28 19:22:42|\n",
      "|22196|     Octopus Project|Logged In|    Colin|     M|          257| Freeman| 422.16444| free|Bakersfield, CA|   PUT|        NextSong|      532|   The Way Things Go|   200|Mozilla/5.0 (Wind...|    30|2018-10-08 09:56:59|2018-09-28 19:22:42|\n",
      "|22213|          Peter Tosh|Logged In|    Colin|     M|          258| Freeman| 267.49342| free|Bakersfield, CA|   PUT|        NextSong|      532|Recruiting Soldie...|   200|Mozilla/5.0 (Wind...|    30|2018-10-08 10:04:01|2018-09-28 19:22:42|\n",
      "|22214|                null|Logged In|    Colin|     M|          259| Freeman|      null| free|Bakersfield, CA|   PUT|       Thumbs Up|      532|                null|   307|Mozilla/5.0 (Wind...|    30|2018-10-08 10:04:02|2018-09-28 19:22:42|\n",
      "|22225|          Clara Hill|Logged In|    Colin|     M|          260| Freeman| 266.44853| free|Bakersfield, CA|   PUT|        NextSong|      532|Clara meets Slope...|   200|Mozilla/5.0 (Wind...|    30|2018-10-08 10:08:28|2018-09-28 19:22:42|\n",
      "|22241|           In Flames|Logged In|    Colin|     M|          261| Freeman| 106.05669| free|Bakersfield, CA|   PUT|        NextSong|      532|            Timeless|   200|Mozilla/5.0 (Wind...|    30|2018-10-08 10:12:54|2018-09-28 19:22:42|\n",
      "|22244|           Lone Star|Logged In|    Colin|     M|          262| Freeman| 402.99057| free|Bakersfield, CA|   PUT|        NextSong|      532|        Punta D'Alba|   200|Mozilla/5.0 (Wind...|    30|2018-10-08 10:14:40|2018-09-28 19:22:42|\n",
      "|22246|                null|Logged In|    Colin|     M|          263| Freeman|      null| free|Bakersfield, CA|   GET|     Roll Advert|      532|                null|   200|Mozilla/5.0 (Wind...|    30|2018-10-08 10:15:02|2018-09-28 19:22:42|\n",
      "|22262|            Deadmau5|Logged In|    Colin|     M|          264| Freeman| 374.20363| free|Bakersfield, CA|   PUT|        NextSong|      532|Ghosts 'n' Stuff ...|   200|Mozilla/5.0 (Wind...|    30|2018-10-08 10:21:22|2018-09-28 19:22:42|\n",
      "|22279|Dexy's Midnight R...|Logged In|    Colin|     M|          265| Freeman| 251.55873| free|Bakersfield, CA|   PUT|        NextSong|      532|I Couldn't Help I...|   200|Mozilla/5.0 (Wind...|    30|2018-10-08 10:27:36|2018-09-28 19:22:42|\n",
      "|22295|        Machine Head|Logged In|    Colin|     M|          266| Freeman| 251.01016| free|Bakersfield, CA|   PUT|        NextSong|      532|The Blood_ The Sw...|   200|Mozilla/5.0 (Wind...|    30|2018-10-08 10:31:47|2018-09-28 19:22:42|\n",
      "|22296|                null|Logged In|    Colin|     M|          267| Freeman|      null| free|Bakersfield, CA|   PUT| Add to Playlist|      532|                null|   200|Mozilla/5.0 (Wind...|    30|2018-10-08 10:32:05|2018-09-28 19:22:42|\n",
      "|22306|              Plan B|Logged In|    Colin|     M|          268| Freeman| 208.69179| free|Bakersfield, CA|   PUT|        NextSong|      532|            She Said|   200|Mozilla/5.0 (Wind...|    30|2018-10-08 10:35:58|2018-09-28 19:22:42|\n",
      "|22309|                null|Logged In|    Colin|     M|          269| Freeman|      null| free|Bakersfield, CA|   GET|            Home|      532|                null|   200|Mozilla/5.0 (Wind...|    30|2018-10-08 10:36:28|2018-09-28 19:22:42|\n",
      "|22321|            BjÃÂ¶rk|Logged In|    Colin|     M|          270| Freeman| 348.57751| free|Bakersfield, CA|   PUT|        NextSong|      532|                Undo|   200|Mozilla/5.0 (Wind...|    30|2018-10-08 10:39:26|2018-09-28 19:22:42|\n",
      "|22336|Various Artists -...|Logged In|    Colin|     M|          271| Freeman| 264.25424| free|Bakersfield, CA|   PUT|        NextSong|      532|         Bust A Move|   200|Mozilla/5.0 (Wind...|    30|2018-10-08 10:45:14|2018-09-28 19:22:42|\n",
      "|22337|                null|Logged In|    Colin|     M|          272| Freeman|      null| free|Bakersfield, CA|   PUT|       Thumbs Up|      532|                null|   307|Mozilla/5.0 (Wind...|    30|2018-10-08 10:45:15|2018-09-28 19:22:42|\n",
      "|22349|       Lonnie Gordon|Logged In|    Colin|     M|          273| Freeman| 181.21098| free|Bakersfield, CA|   PUT|        NextSong|      532|Catch You Baby (S...|   200|Mozilla/5.0 (Wind...|    30|2018-10-08 10:49:38|2018-09-28 19:22:42|\n",
      "|22358|The Velvet Underg...|Logged In|    Colin|     M|          274| Freeman| 165.95546| free|Bakersfield, CA|   PUT|        NextSong|      532|White Light/White...|   200|Mozilla/5.0 (Wind...|    30|2018-10-08 10:52:39|2018-09-28 19:22:42|\n",
      "|22367|              The xx|Logged In|    Colin|     M|          275| Freeman| 313.39057| free|Bakersfield, CA|   PUT|        NextSong|      532|            Infinity|   200|Mozilla/5.0 (Wind...|    30|2018-10-08 10:55:24|2018-09-28 19:22:42|\n",
      "|22383|      George Dalaras|Logged In|    Colin|     M|          276| Freeman| 201.58649| free|Bakersfield, CA|   PUT|        NextSong|      532|Bros Sto Rimagmen...|   200|Mozilla/5.0 (Wind...|    30|2018-10-08 11:00:37|2018-09-28 19:22:42|\n",
      "|22384|                null|Logged In|    Colin|     M|          277| Freeman|      null| free|Bakersfield, CA|   PUT|      Add Friend|      532|                null|   307|Mozilla/5.0 (Wind...|    30|2018-10-08 11:00:38|2018-09-28 19:22:42|\n",
      "|22385|                null|Logged In|    Colin|     M|          278| Freeman|      null| free|Bakersfield, CA|   PUT|      Add Friend|      532|                null|   307|Mozilla/5.0 (Wind...|    30|2018-10-08 11:00:39|2018-09-28 19:22:42|\n",
      "|22387|                null|Logged In|    Colin|     M|          279| Freeman|      null| free|Bakersfield, CA|   GET|            Home|      532|                null|   200|Mozilla/5.0 (Wind...|    30|2018-10-08 11:00:49|2018-09-28 19:22:42|\n",
      "|22392|          Strung Out|Logged In|    Colin|     M|          280| Freeman| 211.01669| free|Bakersfield, CA|   PUT|        NextSong|      532|            Gear Box|   200|Mozilla/5.0 (Wind...|    30|2018-10-08 11:03:58|2018-09-28 19:22:42|\n",
      "|22393|                null|Logged In|    Colin|     M|          281| Freeman|      null| free|Bakersfield, CA|   GET|     Roll Advert|      532|                null|   200|Mozilla/5.0 (Wind...|    30|2018-10-08 11:03:59|2018-09-28 19:22:42|\n",
      "|22400|        Suzanne Vega|Logged In|    Colin|     M|          282| Freeman| 286.40608| free|Bakersfield, CA|   PUT|        NextSong|      532|        In Liverpool|   200|Mozilla/5.0 (Wind...|    30|2018-10-08 11:07:29|2018-09-28 19:22:42|\n",
      "|22415|        Keyshia Cole|Logged In|    Colin|     M|          283| Freeman| 244.00934| free|Bakersfield, CA|   PUT|        NextSong|      532|         Work It Out|   200|Mozilla/5.0 (Wind...|    30|2018-10-08 11:12:15|2018-09-28 19:22:42|\n",
      "|22426|  Taking Back Sunday|Logged In|    Colin|     M|          284| Freeman| 203.49342| free|Bakersfield, CA|   PUT|        NextSong|      532|Timberwolves At N...|   200|Mozilla/5.0 (Wind...|    30|2018-10-08 11:16:19|2018-09-28 19:22:42|\n",
      "|22430|                null|Logged In|    Colin|     M|          285| Freeman|      null| free|Bakersfield, CA|   GET|            Home|      532|                null|   200|Mozilla/5.0 (Wind...|    30|2018-10-08 11:16:57|2018-09-28 19:22:42|\n",
      "|22438|        Kevin Rudolf|Logged In|    Colin|     M|          286| Freeman| 397.73995| free|Bakersfield, CA|   PUT|        NextSong|      532|        Great Escape|   200|Mozilla/5.0 (Wind...|    30|2018-10-08 11:19:42|2018-09-28 19:22:42|\n",
      "|22456|  Lil Wayne / Eminem|Logged In|    Colin|     M|          287| Freeman| 229.58975| free|Bakersfield, CA|   PUT|        NextSong|      532|      Drop The World|   200|Mozilla/5.0 (Wind...|    30|2018-10-08 11:26:19|2018-09-28 19:22:42|\n",
      "|22467|Alison Krauss / U...|Logged In|    Colin|     M|          288| Freeman| 187.71546| free|Bakersfield, CA|   PUT|        NextSong|      532|   My Poor Old Heart|   200|Mozilla/5.0 (Wind...|    30|2018-10-08 11:30:08|2018-09-28 19:22:42|\n",
      "|22475|       Bubba Sparxxx|Logged In|    Colin|     M|          289| Freeman| 241.34485| free|Bakersfield, CA|   PUT|        NextSong|      532|Hey! (A Lil Grati...|   200|Mozilla/5.0 (Wind...|    30|2018-10-08 11:33:15|2018-09-28 19:22:42|\n",
      "|29743|                null|Logged In|    Colin|     M|            0| Freeman|      null| free|Bakersfield, CA|   GET|            Home|      614|                null|   200|Mozilla/5.0 (Wind...|    30|2018-10-10 05:07:47|2018-09-28 19:22:42|\n",
      "|29744|                Muse|Logged In|    Colin|     M|            1| Freeman| 258.06322| free|Bakersfield, CA|   PUT|        NextSong|      614|Map Of The Proble...|   200|Mozilla/5.0 (Wind...|    30|2018-10-10 05:08:10|2018-09-28 19:22:42|\n",
      "|29757|Todos Tus Muertos...|Logged In|    Colin|     M|            2| Freeman| 255.63383| free|Bakersfield, CA|   PUT|        NextSong|      614|        Gente Que No|   200|Mozilla/5.0 (Wind...|    30|2018-10-10 05:12:28|2018-09-28 19:22:42|\n",
      "|29770|          John Mayer|Logged In|    Colin|     M|            3| Freeman| 250.38322| free|Bakersfield, CA|   PUT|        NextSong|      614|    Half Of My Heart|   200|Mozilla/5.0 (Wind...|    30|2018-10-10 05:16:43|2018-09-28 19:22:42|\n",
      "|29781|                 112|Logged In|    Colin|     M|            4| Freeman| 283.21914| free|Bakersfield, CA|   PUT|        NextSong|      614|         All My Love|   200|Mozilla/5.0 (Wind...|    30|2018-10-10 05:20:53|2018-09-28 19:22:42|\n",
      "|29795|           Fela Kuti|Logged In|    Colin|     M|            5| Freeman| 933.43302| free|Bakersfield, CA|   PUT|        NextSong|      614|         Dog Eat Dog|   200|Mozilla/5.0 (Wind...|    30|2018-10-10 05:25:36|2018-09-28 19:22:42|\n",
      "|36174|                null|Logged In|    Colin|     M|            0| Freeman|      null| free|Bakersfield, CA|   GET|            Home|      682|                null|   200|Mozilla/5.0 (Wind...|    30|2018-10-11 12:53:02|2018-09-28 19:22:42|\n",
      "|36180|                null|Logged In|    Colin|     M|            1| Freeman|      null| free|Bakersfield, CA|   GET|            Home|      682|                null|   200|Mozilla/5.0 (Wind...|    30|2018-10-11 12:54:05|2018-09-28 19:22:42|\n",
      "|36304|                null|Logged In|    Colin|     M|            0| Freeman|      null| free|Bakersfield, CA|   GET|            Home|      757|                null|   200|Mozilla/5.0 (Wind...|    30|2018-10-11 13:34:45|2018-09-28 19:22:42|\n",
      "|36305|The New Pornograp...|Logged In|    Colin|     M|            1| Freeman| 206.81098| free|Bakersfield, CA|   PUT|        NextSong|      757|The Laws Have Cha...|   200|Mozilla/5.0 (Wind...|    30|2018-10-11 13:34:51|2018-09-28 19:22:42|\n",
      "|36315|          Mazzy Star|Logged In|    Colin|     M|            2| Freeman| 265.06404| free|Bakersfield, CA|   PUT|        NextSong|      757|       She's My Baby|   200|Mozilla/5.0 (Wind...|    30|2018-10-11 13:38:17|2018-09-28 19:22:42|\n",
      "|36326|     Sarah McLachlan|Logged In|    Colin|     M|            3| Freeman| 216.00608| free|Bakersfield, CA|   PUT|        NextSong|      757| Don't Give Up On Us|   200|Mozilla/5.0 (Wind...|    30|2018-10-11 13:42:42|2018-09-28 19:22:42|\n",
      "|36337|      Flogging Molly|Logged In|    Colin|     M|            4| Freeman| 333.53098| free|Bakersfield, CA|   PUT|        NextSong|      757|What's Left of th...|   200|Mozilla/5.0 (Wind...|    30|2018-10-11 13:46:18|2018-09-28 19:22:42|\n",
      "|36351|         Ronnie Laws|Logged In|    Colin|     M|            5| Freeman| 239.72526| free|Bakersfield, CA|   PUT|        NextSong|      757|Why Do You Laugh ...|   200|Mozilla/5.0 (Wind...|    30|2018-10-11 13:51:51|2018-09-28 19:22:42|\n",
      "|36364|         Damien Rice|Logged In|    Colin|     M|            6| Freeman| 305.84118| free|Bakersfield, CA|   PUT|        NextSong|      757|Eskimo - Album Ve...|   200|Mozilla/5.0 (Wind...|    30|2018-10-11 13:55:50|2018-09-28 19:22:42|\n",
      "|36365|                null|Logged In|    Colin|     M|            7| Freeman|      null| free|Bakersfield, CA|   GET|     Roll Advert|      757|                null|   200|Mozilla/5.0 (Wind...|    30|2018-10-11 13:55:51|2018-09-28 19:22:42|\n",
      "|36379|Mike And The Mech...|Logged In|    Colin|     M|            8| Freeman| 275.12118| free|Bakersfield, CA|   PUT|        NextSong|      757|A Beggar On A Bea...|   200|Mozilla/5.0 (Wind...|    30|2018-10-11 14:00:55|2018-09-28 19:22:42|\n",
      "|36380|                null|Logged In|    Colin|     M|            9| Freeman|      null| free|Bakersfield, CA|   GET|         Upgrade|      757|                null|   200|Mozilla/5.0 (Wind...|    30|2018-10-11 14:01:01|2018-09-28 19:22:42|\n",
      "|36392|       Kings Of Leon|Logged In|    Colin|     M|           10| Freeman| 181.13261| free|Bakersfield, CA|   PUT|        NextSong|      757|               Ragoo|   200|Mozilla/5.0 (Wind...|    30|2018-10-11 14:05:30|2018-09-28 19:22:42|\n",
      "|36399|      Ashlee Simpson|Logged In|    Colin|     M|           11| Freeman| 233.56036| free|Bakersfield, CA|   PUT|        NextSong|      757|         Unreachable|   200|Mozilla/5.0 (Wind...|    30|2018-10-11 14:08:31|2018-09-28 19:22:42|\n",
      "|36411|     Robbie Williams|Logged In|    Colin|     M|           12| Freeman| 239.62077| free|Bakersfield, CA|   PUT|        NextSong|      757|       Misunderstood|   200|Mozilla/5.0 (Wind...|    30|2018-10-11 14:12:24|2018-09-28 19:22:42|\n",
      "|36421|   Avenged Sevenfold|Logged In|    Colin|     M|           13| Freeman| 333.13914| free|Bakersfield, CA|   PUT|        NextSong|      757|Seize The Day (Al...|   200|Mozilla/5.0 (Wind...|    30|2018-10-11 14:16:23|2018-09-28 19:22:42|\n",
      "|36439|       Fleetwood Mac|Logged In|    Colin|     M|           14| Freeman|  216.5024| free|Bakersfield, CA|   PUT|        NextSong|      757|All Over Again (A...|   200|Mozilla/5.0 (Wind...|    30|2018-10-11 14:21:56|2018-09-28 19:22:42|\n",
      "|36446|      Built To Spill|Logged In|    Colin|     M|           15| Freeman| 179.09506| free|Bakersfield, CA|   PUT|        NextSong|      757|         Car (Album)|   200|Mozilla/5.0 (Wind...|    30|2018-10-11 14:25:32|2018-09-28 19:22:42|\n",
      "|36453|      The Black Keys|Logged In|    Colin|     M|           16| Freeman| 208.19546| free|Bakersfield, CA|   PUT|        NextSong|      757|      You're The One|   200|Mozilla/5.0 (Wind...|    30|2018-10-11 14:28:31|2018-09-28 19:22:42|\n",
      "|36461|      Britney Spears|Logged In|    Colin|     M|           17| Freeman| 197.09342| free|Bakersfield, CA|   PUT|        NextSong|      757|(You Drive Me) Cr...|   200|Mozilla/5.0 (Wind...|    30|2018-10-11 14:31:59|2018-09-28 19:22:42|\n",
      "|36472|          Boys Noize|Logged In|    Colin|     M|           18| Freeman| 320.39138| free|Bakersfield, CA|   PUT|        NextSong|      757|         The Battery|   200|Mozilla/5.0 (Wind...|    30|2018-10-11 14:35:16|2018-09-28 19:22:42|\n",
      "|36487|       Christy Moore|Logged In|    Colin|     M|           19| Freeman| 256.96608| free|Bakersfield, CA|   PUT|        NextSong|      757|        Ordinary Man|   200|Mozilla/5.0 (Wind...|    30|2018-10-11 14:40:36|2018-09-28 19:22:42|\n",
      "|36498|          Ron Carter|Logged In|    Colin|     M|           20| Freeman| 497.13587| free|Bakersfield, CA|   PUT|        NextSong|      757| I CAN'T GET STARTED|   200|Mozilla/5.0 (Wind...|    30|2018-10-11 14:44:52|2018-09-28 19:22:42|\n",
      "|36500|                null|Logged In|    Colin|     M|           21| Freeman|      null| free|Bakersfield, CA|   PUT|       Thumbs Up|      757|                null|   307|Mozilla/5.0 (Wind...|    30|2018-10-11 14:44:53|2018-09-28 19:22:42|\n",
      "|36521|    Carlos Y JosÃÂ©|Logged In|    Colin|     M|           22| Freeman| 181.34159| free|Bakersfield, CA|   PUT|        NextSong|      757|   Corrido Al Torero|   200|Mozilla/5.0 (Wind...|    30|2018-10-11 14:53:09|2018-09-28 19:22:42|\n",
      "|36531|     Yeah Yeah Yeahs|Logged In|    Colin|     M|           23| Freeman| 248.37179| free|Bakersfield, CA|   PUT|        NextSong|      757|           Dull Life|   200|Mozilla/5.0 (Wind...|    30|2018-10-11 14:56:10|2018-09-28 19:22:42|\n",
      "|36542|        Shuggie Otis|Logged In|    Colin|     M|           24| Freeman| 254.85016| free|Bakersfield, CA|   PUT|        NextSong|      757|       Aht Uh Mi Hed|   200|Mozilla/5.0 (Wind...|    30|2018-10-11 15:00:18|2018-09-28 19:22:42|\n",
      "|36543|                null|Logged In|    Colin|     M|           25| Freeman|      null| free|Bakersfield, CA|   GET|     Roll Advert|      757|                null|   200|Mozilla/5.0 (Wind...|    30|2018-10-11 15:01:05|2018-09-28 19:22:42|\n",
      "|36545|                null|Logged In|    Colin|     M|           26| Freeman|      null| free|Bakersfield, CA|   GET|     Roll Advert|      757|                null|   200|Mozilla/5.0 (Wind...|    30|2018-10-11 15:01:13|2018-09-28 19:22:42|\n",
      "|37165|Volcano_ I'm Stil...|Logged In|    Colin|     M|            0| Freeman| 150.88281| free|Bakersfield, CA|   PUT|        NextSong|      763|Fisticuffs (LP Ve...|   200|Mozilla/5.0 (Wind...|    30|2018-10-11 19:05:37|2018-09-28 19:22:42|\n",
      "|37171|        Madison Park|Logged In|    Colin|     M|            1| Freeman| 234.70975| free|Bakersfield, CA|   PUT|        NextSong|      763|      More Than This|   200|Mozilla/5.0 (Wind...|    30|2018-10-11 19:08:07|2018-09-28 19:22:42|\n",
      "|37179|            Amos Lee|Logged In|    Colin|     M|            2| Freeman| 178.99057| free|Bakersfield, CA|   PUT|        NextSong|      763|     Baby I Want You|   200|Mozilla/5.0 (Wind...|    30|2018-10-11 19:12:01|2018-09-28 19:22:42|\n",
      "|37185|         Miley Cyrus|Logged In|    Colin|     M|            3| Freeman| 237.60934| free|Bakersfield, CA|   PUT|        NextSong|      763|          I Miss You|   200|Mozilla/5.0 (Wind...|    30|2018-10-11 19:14:59|2018-09-28 19:22:42|\n",
      "|37188|                null|Logged In|    Colin|     M|            4| Freeman|      null| free|Bakersfield, CA|   GET|     Roll Advert|      763|                null|   200|Mozilla/5.0 (Wind...|    30|2018-10-11 19:15:31|2018-09-28 19:22:42|\n",
      "|37196|              Camila|Logged In|    Colin|     M|            5| Freeman| 258.53342| free|Bakersfield, CA|   PUT|        NextSong|      763|       Alejate De Mi|   200|Mozilla/5.0 (Wind...|    30|2018-10-11 19:18:56|2018-09-28 19:22:42|\n",
      "|37204|          Buckcherry|Logged In|    Colin|     M|            6| Freeman| 201.79546| free|Bakersfield, CA|   PUT|        NextSong|      763|Crazy Bitch (Albu...|   200|Mozilla/5.0 (Wind...|    30|2018-10-11 19:23:14|2018-09-28 19:22:42|\n",
      "|37210|               Motel|Logged In|    Colin|     M|            7| Freeman| 226.53342| free|Bakersfield, CA|   PUT|        NextSong|      763|     Por segunda vez|   200|Mozilla/5.0 (Wind...|    30|2018-10-11 19:26:35|2018-09-28 19:22:42|\n",
      "|37212|                null|Logged In|    Colin|     M|            8| Freeman|      null| free|Bakersfield, CA|   PUT|       Thumbs Up|      763|                null|   307|Mozilla/5.0 (Wind...|    30|2018-10-11 19:26:36|2018-09-28 19:22:42|\n",
      "|37219|           Poni Hoax|Logged In|    Colin|     M|            9| Freeman| 283.79383| free|Bakersfield, CA|   PUT|        NextSong|      763|          Antibodies|   200|Mozilla/5.0 (Wind...|    30|2018-10-11 19:30:21|2018-09-28 19:22:42|\n",
      "|37228|Kings Of Convenience|Logged In|    Colin|     M|           10| Freeman| 187.29751| free|Bakersfield, CA|   PUT|        NextSong|      763|          Toxic Girl|   200|Mozilla/5.0 (Wind...|    30|2018-10-11 19:35:04|2018-09-28 19:22:42|\n",
      "|37235|       Gillian Welch|Logged In|    Colin|     M|           11| Freeman| 199.18322| free|Bakersfield, CA|   PUT|        NextSong|      763|            Lowlands|   200|Mozilla/5.0 (Wind...|    30|2018-10-11 19:38:11|2018-09-28 19:22:42|\n",
      "|37242|     Nine Inch Nails|Logged In|    Colin|     M|           12| Freeman| 347.92444| free|Bakersfield, CA|   PUT|        NextSong|      763|         Even Deeper|   200|Mozilla/5.0 (Wind...|    30|2018-10-11 19:41:30|2018-09-28 19:22:42|\n",
      "|37243|                null|Logged In|    Colin|     M|           13| Freeman|      null| free|Bakersfield, CA|   GET|     Roll Advert|      763|                null|   200|Mozilla/5.0 (Wind...|    30|2018-10-11 19:41:41|2018-09-28 19:22:42|\n",
      "|37253|Smokey Robinson &...|Logged In|    Colin|     M|           14| Freeman|  168.9073| free|Bakersfield, CA|   PUT|        NextSong|      763|I Second That Emo...|   200|Mozilla/5.0 (Wind...|    30|2018-10-11 19:47:17|2018-09-28 19:22:42|\n",
      "|37261|        Scatman John|Logged In|    Colin|     M|           15| Freeman|  212.1922| free|Bakersfield, CA|   PUT|        NextSong|      763|Scatman (Ski-Ba-B...|   200|Mozilla/5.0 (Wind...|    30|2018-10-11 19:50:05|2018-09-28 19:22:42|\n",
      "|37269|    Allan Holdsworth|Logged In|    Colin|     M|           16| Freeman| 191.52934| free|Bakersfield, CA|   PUT|        NextSong|      763|           Countdown|   200|Mozilla/5.0 (Wind...|    30|2018-10-11 19:53:37|2018-09-28 19:22:42|\n",
      "|37277|Drake / Kanye Wes...|Logged In|    Colin|     M|           17| Freeman| 357.66812| free|Bakersfield, CA|   PUT|        NextSong|      763|             Forever|   200|Mozilla/5.0 (Wind...|    30|2018-10-11 19:56:48|2018-09-28 19:22:42|\n",
      "|37291|      Bootsy Collins|Logged In|    Colin|     M|           18| Freeman| 336.79628| free|Bakersfield, CA|   PUT|        NextSong|      763|           Bootzilla|   200|Mozilla/5.0 (Wind...|    30|2018-10-11 20:02:45|2018-09-28 19:22:42|\n",
      "|37292|                null|Logged In|    Colin|     M|           19| Freeman|      null| free|Bakersfield, CA|   PUT|       Thumbs Up|      763|                null|   307|Mozilla/5.0 (Wind...|    30|2018-10-11 20:02:46|2018-09-28 19:22:42|\n",
      "|37306|N.W.A featuring E...|Logged In|    Colin|     M|           20| Freeman| 237.08689| free|Bakersfield, CA|   PUT|        NextSong|      763|I'd Rather Fuck Y...|   200|Mozilla/5.0 (Wind...|    30|2018-10-11 20:08:21|2018-09-28 19:22:42|\n",
      "|37315|           Zero Boys|Logged In|    Colin|     M|           21| Freeman| 112.19546| free|Bakersfield, CA|   PUT|        NextSong|      763|      New Generation|   200|Mozilla/5.0 (Wind...|    30|2018-10-11 20:12:18|2018-09-28 19:22:42|\n",
      "|37318|       Colby O'Donis|Logged In|    Colin|     M|           22| Freeman| 213.83791| free|Bakersfield, CA|   PUT|        NextSong|      763|          Follow You|   200|Mozilla/5.0 (Wind...|    30|2018-10-11 20:14:10|2018-09-28 19:22:42|\n",
      "|37326|                 JET|Logged In|    Colin|     M|           23| Freeman| 276.79302| free|Bakersfield, CA|   PUT|        NextSong|      763|Shine On (Album V...|   200|Mozilla/5.0 (Wind...|    30|2018-10-11 20:17:43|2018-09-28 19:22:42|\n",
      "|37334|Red Hot Chili Pep...|Logged In|    Colin|     M|           24| Freeman| 367.01995| free|Bakersfield, CA|   PUT|        NextSong|      763|Venice Queen (Alb...|   200|Mozilla/5.0 (Wind...|    30|2018-10-11 20:22:19|2018-09-28 19:22:42|\n",
      "|37344|   She Wants Revenge|Logged In|    Colin|     M|           25| Freeman| 284.60363| free|Bakersfield, CA|   PUT|        NextSong|      763|      Tear You Apart|   200|Mozilla/5.0 (Wind...|    30|2018-10-11 20:28:26|2018-09-28 19:22:42|\n",
      "|37355|Barry Tuckwell/Ac...|Logged In|    Colin|     M|           26| Freeman| 277.15873| free|Bakersfield, CA|   PUT|        NextSong|      763|Horn Concerto No....|   200|Mozilla/5.0 (Wind...|    30|2018-10-11 20:33:10|2018-09-28 19:22:42|\n",
      "|37356|                null|Logged In|    Colin|     M|           27| Freeman|      null| free|Bakersfield, CA|   PUT|       Thumbs Up|      763|                null|   307|Mozilla/5.0 (Wind...|    30|2018-10-11 20:33:11|2018-09-28 19:22:42|\n",
      "|37364|     Alice In Chains|Logged In|    Colin|     M|           28| Freeman|  423.6273| free|Bakersfield, CA|   PUT|        NextSong|      763|            Over Now|   200|Mozilla/5.0 (Wind...|    30|2018-10-11 20:37:47|2018-09-28 19:22:42|\n",
      "|37365|                null|Logged In|    Colin|     M|           29| Freeman|      null| free|Bakersfield, CA|   GET|         Upgrade|      763|                null|   200|Mozilla/5.0 (Wind...|    30|2018-10-11 20:37:53|2018-09-28 19:22:42|\n",
      "|37378|          Rob Zombie|Logged In|    Colin|     M|           30| Freeman| 220.13342| free|Bakersfield, CA|   PUT|        NextSong|      763|          Superbeast|   200|Mozilla/5.0 (Wind...|    30|2018-10-11 20:44:50|2018-09-28 19:22:42|\n",
      "|37379|                null|Logged In|    Colin|     M|           31| Freeman|      null| free|Bakersfield, CA|   PUT|          Logout|      763|                null|   307|Mozilla/5.0 (Wind...|    30|2018-10-11 20:44:51|2018-09-28 19:22:42|\n",
      "|46253|                null|Logged In|    Colin|     M|            1| Freeman|      null| free|Bakersfield, CA|   GET|            Home|      816|                null|   200|Mozilla/5.0 (Wind...|    30|2018-10-15 12:00:37|2018-09-28 19:22:42|\n",
      "|46255|     The Futureheads|Logged In|    Colin|     M|            2| Freeman|  194.2722| free|Bakersfield, CA|   PUT|        NextSong|      816|   Broke Up The Time|   200|Mozilla/5.0 (Wind...|    30|2018-10-15 12:01:18|2018-09-28 19:22:42|\n",
      "|46258|                null|Logged In|    Colin|     M|            3| Freeman|      null| free|Bakersfield, CA|   PUT| Add to Playlist|      816|                null|   200|Mozilla/5.0 (Wind...|    30|2018-10-15 12:01:44|2018-09-28 19:22:42|\n",
      "|46272|         Chuck Berry|Logged In|    Colin|     M|            4| Freeman| 147.06893| free|Bakersfield, CA|   PUT|        NextSong|      816| Roll Over Beethoven|   200|Mozilla/5.0 (Wind...|    30|2018-10-15 12:04:32|2018-09-28 19:22:42|\n",
      "|46283|Bob Crosby and th...|Logged In|    Colin|     M|            5| Freeman| 174.78485| free|Bakersfield, CA|   PUT|        NextSong|      816|       Way Back Home|   200|Mozilla/5.0 (Wind...|    30|2018-10-15 12:06:59|2018-09-28 19:22:42|\n",
      "|46294|      Rock Kills Kid|Logged In|    Colin|     M|            6| Freeman| 271.38567| free|Bakersfield, CA|   PUT|        NextSong|      816|Back To Life (Alb...|   200|Mozilla/5.0 (Wind...|    30|2018-10-15 12:09:53|2018-09-28 19:22:42|\n",
      "|46316|       Sheena Easton|Logged In|    Colin|     M|            7| Freeman| 239.62077| free|Bakersfield, CA|   PUT|        NextSong|      816|Strut (1993 Digit...|   200|Mozilla/5.0 (Wind...|    30|2018-10-15 12:14:24|2018-09-28 19:22:42|\n",
      "|46335|           Holy Fuck|Logged In|    Colin|     M|            8| Freeman| 223.84281| free|Bakersfield, CA|   PUT|        NextSong|      816|Super Inuit (Stud...|   200|Mozilla/5.0 (Wind...|    30|2018-10-15 12:18:23|2018-09-28 19:22:42|\n",
      "|46349|          The Crests|Logged In|    Colin|     M|            9| Freeman| 182.88281| free|Bakersfield, CA|   PUT|        NextSong|      816|          16 Candles|   200|Mozilla/5.0 (Wind...|    30|2018-10-15 12:22:06|2018-09-28 19:22:42|\n",
      "|46365|        Larry Norman|Logged In|    Colin|     M|           10| Freeman| 232.33261| free|Bakersfield, CA|   PUT|        NextSong|      816|          The Outlaw|   200|Mozilla/5.0 (Wind...|    30|2018-10-15 12:25:08|2018-09-28 19:22:42|\n",
      "|46390|          Jason Mraz|Logged In|    Colin|     M|           11| Freeman| 218.40934| free|Bakersfield, CA|   PUT|        NextSong|      816|Geek In The Pink ...|   200|Mozilla/5.0 (Wind...|    30|2018-10-15 12:29:00|2018-09-28 19:22:42|\n",
      "|46404|        Dimmu Borgir|Logged In|    Colin|     M|           12| Freeman| 259.02975| free|Bakersfield, CA|   PUT|        NextSong|      816|   The Chosen Legacy|   200|Mozilla/5.0 (Wind...|    30|2018-10-15 12:32:38|2018-09-28 19:22:42|\n",
      "|46421|      John Sebastian|Logged In|    Colin|     M|           13| Freeman| 218.85342| free|Bakersfield, CA|   PUT|        NextSong|      816|Don't You Run Wit...|   200|Mozilla/5.0 (Wind...|    30|2018-10-15 12:36:57|2018-09-28 19:22:42|\n",
      "|46430|                null|Logged In|    Colin|     M|           14| Freeman|      null| free|Bakersfield, CA|   GET|     Roll Advert|      816|                null|   200|Mozilla/5.0 (Wind...|    30|2018-10-15 12:37:51|2018-09-28 19:22:42|\n",
      "|46435|      Arctic Monkeys|Logged In|    Colin|     M|           15| Freeman| 172.25098| free|Bakersfield, CA|   PUT|        NextSong|      816|          Brianstorm|   200|Mozilla/5.0 (Wind...|    30|2018-10-15 12:40:35|2018-09-28 19:22:42|\n",
      "|46448|Lauryn Hill Featu...|Logged In|    Colin|     M|           16| Freeman| 369.29261| free|Bakersfield, CA|   PUT|        NextSong|      816|             To Zion|   200|Mozilla/5.0 (Wind...|    30|2018-10-15 12:43:27|2018-09-28 19:22:42|\n",
      "|46449|                null|Logged In|    Colin|     M|           17| Freeman|      null| free|Bakersfield, CA|   GET|            Home|      816|                null|   200|Mozilla/5.0 (Wind...|    30|2018-10-15 12:43:30|2018-09-28 19:22:42|\n",
      "|46471|             Skillet|Logged In|    Colin|     M|           18| Freeman| 218.38322| free|Bakersfield, CA|   PUT|        NextSong|      816|Lucy (Album Version)|   200|Mozilla/5.0 (Wind...|    30|2018-10-15 12:49:36|2018-09-28 19:22:42|\n",
      "|46484|   Justin Timberlake|Logged In|    Colin|     M|           19| Freeman|  313.0771| free|Bakersfield, CA|   PUT|        NextSong|      816|What Goes Around....|   200|Mozilla/5.0 (Wind...|    30|2018-10-15 12:53:14|2018-09-28 19:22:42|\n",
      "|46509|       Todd Rundgren|Logged In|    Colin|     M|           20| Freeman| 214.20363| free|Bakersfield, CA|   PUT|        NextSong|      816|    Bang On The Drum|   200|Mozilla/5.0 (Wind...|    30|2018-10-15 12:58:27|2018-09-28 19:22:42|\n",
      "|46528|            Syd Dale|Logged In|    Colin|     M|           21| Freeman| 140.95628| free|Bakersfield, CA|   PUT|        NextSong|      816|          Bill Sykes|   200|Mozilla/5.0 (Wind...|    30|2018-10-15 13:02:01|2018-09-28 19:22:42|\n",
      "|46539|  DAVE MATTHEWS BAND|Logged In|    Colin|     M|           22| Freeman| 358.21669| free|Bakersfield, CA|   PUT|        NextSong|      816|      Rhyme & Reason|   200|Mozilla/5.0 (Wind...|    30|2018-10-15 13:04:21|2018-09-28 19:22:42|\n",
      "|46558|   Michael Giacchino|Logged In|    Colin|     M|           23| Freeman| 184.58077| free|Bakersfield, CA|   PUT|        NextSong|      816|Schifrin and Vari...|   200|Mozilla/5.0 (Wind...|    30|2018-10-15 13:10:19|2018-09-28 19:22:42|\n",
      "|46559|                null|Logged In|    Colin|     M|           24| Freeman|      null| free|Bakersfield, CA|   PUT|       Thumbs Up|      816|                null|   307|Mozilla/5.0 (Wind...|    30|2018-10-15 13:10:20|2018-09-28 19:22:42|\n",
      "|46571|California Swag D...|Logged In|    Colin|     M|           25| Freeman| 239.17669| free|Bakersfield, CA|   PUT|        NextSong|      816|Teach Me How To D...|   200|Mozilla/5.0 (Wind...|    30|2018-10-15 13:13:23|2018-09-28 19:22:42|\n",
      "|46587|                Live|Logged In|    Colin|     M|           26| Freeman| 233.89995| free|Bakersfield, CA|   PUT|        NextSong|      816|   We Deal In Dreams|   200|Mozilla/5.0 (Wind...|    30|2018-10-15 13:17:22|2018-09-28 19:22:42|\n",
      "|46602|            BjÃÂ¶rk|Logged In|    Colin|     M|           27| Freeman| 348.57751| free|Bakersfield, CA|   PUT|        NextSong|      816|                Undo|   200|Mozilla/5.0 (Wind...|    30|2018-10-15 13:21:15|2018-09-28 19:22:42|\n",
      "|46620|         Linkin Park|Logged In|    Colin|     M|           28| Freeman| 191.45098| free|Bakersfield, CA|   PUT|        NextSong|      816|Pushing Me Away (...|   200|Mozilla/5.0 (Wind...|    30|2018-10-15 13:27:03|2018-09-28 19:22:42|\n",
      "|46622|                null|Logged In|    Colin|     M|           29| Freeman|      null| free|Bakersfield, CA|   GET|     Roll Advert|      816|                null|   200|Mozilla/5.0 (Wind...|    30|2018-10-15 13:27:21|2018-09-28 19:22:42|\n",
      "|46623|                null|Logged In|    Colin|     M|           30| Freeman|      null| free|Bakersfield, CA|   PUT|          Logout|      816|                null|   307|Mozilla/5.0 (Wind...|    30|2018-10-15 13:27:22|2018-09-28 19:22:42|\n",
      "|46626|                null|Logged In|    Colin|     M|           33| Freeman|      null| free|Bakersfield, CA|   GET|            Home|      816|                null|   200|Mozilla/5.0 (Wind...|    30|2018-10-15 13:27:23|2018-09-28 19:22:42|\n",
      "|46636|Bob Marley & The ...|Logged In|    Colin|     M|           34| Freeman| 210.33751| free|Bakersfield, CA|   PUT|        NextSong|      816|Trouble Dub - FAM...|   200|Mozilla/5.0 (Wind...|    30|2018-10-15 13:30:14|2018-09-28 19:22:42|\n",
      "|46651|          Eddy Grant|Logged In|    Colin|     M|           35| Freeman| 224.88771| free|Bakersfield, CA|   PUT|        NextSong|      816|     Electric Avenue|   200|Mozilla/5.0 (Wind...|    30|2018-10-15 13:33:44|2018-09-28 19:22:42|\n",
      "|46666|         Alicia Keys|Logged In|    Colin|     M|           36| Freeman|  229.0673| free|Bakersfield, CA|   PUT|        NextSong|      816|  If I Ain't Got You|   200|Mozilla/5.0 (Wind...|    30|2018-10-15 13:37:28|2018-09-28 19:22:42|\n",
      "|46667|                null|Logged In|    Colin|     M|           37| Freeman|      null| free|Bakersfield, CA|   GET|     Roll Advert|      816|                null|   200|Mozilla/5.0 (Wind...|    30|2018-10-15 13:37:48|2018-09-28 19:22:42|\n",
      "|46670|                null|Logged In|    Colin|     M|           38| Freeman|      null| free|Bakersfield, CA|   GET|     Roll Advert|      816|                null|   200|Mozilla/5.0 (Wind...|    30|2018-10-15 13:38:45|2018-09-28 19:22:42|\n",
      "|46679|                1919|Logged In|    Colin|     M|           39| Freeman| 245.39383| free|Bakersfield, CA|   PUT|        NextSong|      816|               Dream|   200|Mozilla/5.0 (Wind...|    30|2018-10-15 13:41:17|2018-09-28 19:22:42|\n",
      "|46697|   C.V. JÃÂ¸rgensen|Logged In|    Colin|     M|           40| Freeman| 273.00526| free|Bakersfield, CA|   PUT|        NextSong|      816|Pak Dit Grej (199...|   200|Mozilla/5.0 (Wind...|    30|2018-10-15 13:45:22|2018-09-28 19:22:42|\n",
      "|46709|               Feist|Logged In|    Colin|     M|           41| Freeman| 184.94649| free|Bakersfield, CA|   PUT|        NextSong|      816|      My Moon My Man|   200|Mozilla/5.0 (Wind...|    30|2018-10-15 13:49:55|2018-09-28 19:22:42|\n",
      "|46711|                null|Logged In|    Colin|     M|           42| Freeman|      null| free|Bakersfield, CA|   PUT|       Thumbs Up|      816|                null|   307|Mozilla/5.0 (Wind...|    30|2018-10-15 13:49:56|2018-09-28 19:22:42|\n",
      "|46726|        Jack Johnson|Logged In|    Colin|     M|           43| Freeman| 201.63873| free|Bakersfield, CA|   PUT|        NextSong|      816|      Constellations|   200|Mozilla/5.0 (Wind...|    30|2018-10-15 13:52:59|2018-09-28 19:22:42|\n",
      "|46741|Prince & The Revo...|Logged In|    Colin|     M|           44| Freeman| 227.65669| free|Bakersfield, CA|   PUT|        NextSong|      816|   Kiss (LP Version)|   200|Mozilla/5.0 (Wind...|    30|2018-10-15 13:56:20|2018-09-28 19:22:42|\n",
      "|46753|         Los Bunkers|Logged In|    Colin|     M|           45| Freeman| 217.83465| free|Bakersfield, CA|   PUT|        NextSong|      816|         Ven AquÃÂ­|   200|Mozilla/5.0 (Wind...|    30|2018-10-15 14:00:07|2018-09-28 19:22:42|\n",
      "|46768|        Wayne Newton|Logged In|    Colin|     M|           46| Freeman| 152.97261| free|Bakersfield, CA|   PUT|        NextSong|      816|   Christmas Journey|   200|Mozilla/5.0 (Wind...|    30|2018-10-15 14:03:44|2018-09-28 19:22:42|\n",
      "|46776|          White Lion|Logged In|    Colin|     M|           47| Freeman| 295.36608| free|Bakersfield, CA|   PUT|        NextSong|      816|      Little Fighter|   200|Mozilla/5.0 (Wind...|    30|2018-10-15 14:06:16|2018-09-28 19:22:42|\n",
      "|46794|          Atmosphere|Logged In|    Colin|     M|           48| Freeman| 551.07873| free|Bakersfield, CA|   PUT|        NextSong|      816|Always Coming Bac...|   200|Mozilla/5.0 (Wind...|    30|2018-10-15 14:11:11|2018-09-28 19:22:42|\n",
      "|46827|           Skambankt|Logged In|    Colin|     M|           49| Freeman|  168.6722| free|Bakersfield, CA|   PUT|        NextSong|      816|              Alarm!|   200|Mozilla/5.0 (Wind...|    30|2018-10-15 14:20:22|2018-09-28 19:22:42|\n",
      "|46836|         Snow Patrol|Logged In|    Colin|     M|           50| Freeman| 445.90975| free|Bakersfield, CA|   PUT|        NextSong|      816|                 Run|   200|Mozilla/5.0 (Wind...|    30|2018-10-15 14:23:10|2018-09-28 19:22:42|\n",
      "|46858|       Markus Schulz|Logged In|    Colin|     M|           51| Freeman| 460.87791| free|Bakersfield, CA|   PUT|        NextSong|      816|        Do You Dream|   200|Mozilla/5.0 (Wind...|    30|2018-10-15 14:30:35|2018-09-28 19:22:42|\n",
      "|46880|            Paramore|Logged In|    Colin|     M|           52| Freeman| 267.65016| free|Bakersfield, CA|   PUT|        NextSong|      816|The Only Exceptio...|   200|Mozilla/5.0 (Wind...|    30|2018-10-15 14:38:15|2018-09-28 19:22:42|\n",
      "|46881|                null|Logged In|    Colin|     M|           53| Freeman|      null| free|Bakersfield, CA|   GET|     Roll Advert|      816|                null|   200|Mozilla/5.0 (Wind...|    30|2018-10-15 14:38:38|2018-09-28 19:22:42|\n",
      "|46895|            No Doubt|Logged In|    Colin|     M|           54| Freeman| 266.68363| free|Bakersfield, CA|   PUT|        NextSong|      816|          Spiderwebs|   200|Mozilla/5.0 (Wind...|    30|2018-10-15 14:42:42|2018-09-28 19:22:42|\n",
      "|46906|         Boyz II Men|Logged In|    Colin|     M|           55| Freeman|  268.5122| free|Bakersfield, CA|   PUT|        NextSong|      816|     Please Don't Go|   200|Mozilla/5.0 (Wind...|    30|2018-10-15 14:47:08|2018-09-28 19:22:42|\n",
      "|46909|                null|Logged In|    Colin|     M|           56| Freeman|      null| free|Bakersfield, CA|   PUT| Add to Playlist|      816|                null|   200|Mozilla/5.0 (Wind...|    30|2018-10-15 14:47:18|2018-09-28 19:22:42|\n",
      "|46919|Kid Cudi / MGMT /...|Logged In|    Colin|     M|           57| Freeman| 295.67955| free|Bakersfield, CA|   PUT|        NextSong|      816|Pursuit Of Happin...|   200|Mozilla/5.0 (Wind...|    30|2018-10-15 14:51:36|2018-09-28 19:22:42|\n",
      "|46937|             Rihanna|Logged In|    Colin|     M|           58| Freeman| 200.61995| free|Bakersfield, CA|   PUT|        NextSong|      816|     Breakin' Dishes|   200|Mozilla/5.0 (Wind...|    30|2018-10-15 14:56:31|2018-09-28 19:22:42|\n",
      "|46948|                Guru|Logged In|    Colin|     M|           59| Freeman| 153.02485| free|Bakersfield, CA|   PUT|        NextSong|      816|        Hall of Fame|   200|Mozilla/5.0 (Wind...|    30|2018-10-15 14:59:51|2018-09-28 19:22:42|\n",
      "|46960|         Hans Zimmer|Logged In|    Colin|     M|           60| Freeman| 426.10893| free|Bakersfield, CA|   PUT|        NextSong|      816|            Brothers|   200|Mozilla/5.0 (Wind...|    30|2018-10-15 15:02:24|2018-09-28 19:22:42|\n",
      "|46976|         Imogen Heap|Logged In|    Colin|     M|           61| Freeman| 509.36118| free|Bakersfield, CA|   PUT|        NextSong|      816|         Hide & Seek|   200|Mozilla/5.0 (Wind...|    30|2018-10-15 15:09:30|2018-09-28 19:22:42|\n",
      "|46977|                null|Logged In|    Colin|     M|           62| Freeman|      null| free|Bakersfield, CA|   PUT| Add to Playlist|      816|                null|   200|Mozilla/5.0 (Wind...|    30|2018-10-15 15:09:37|2018-09-28 19:22:42|\n",
      "|47003|        Depeche Mode|Logged In|    Colin|     M|           63| Freeman| 357.66812| free|Bakersfield, CA|   PUT|        NextSong|      816|It's No Good (Sin...|   200|Mozilla/5.0 (Wind...|    30|2018-10-15 15:17:59|2018-09-28 19:22:42|\n",
      "|47022|  The Appleseed Cast|Logged In|    Colin|     M|           64| Freeman| 220.57751| free|Bakersfield, CA|   PUT|        NextSong|      816|Here We Are (Fami...|   200|Mozilla/5.0 (Wind...|    30|2018-10-15 15:23:56|2018-09-28 19:22:42|\n",
      "|47032|        Paul Mauriat|Logged In|    Colin|     M|           65| Freeman| 153.73016| free|Bakersfield, CA|   PUT|        NextSong|      816|        Love Is Blue|   200|Mozilla/5.0 (Wind...|    30|2018-10-15 15:27:36|2018-09-28 19:22:42|\n",
      "|47033|                null|Logged In|    Colin|     M|           66| Freeman|      null| free|Bakersfield, CA|   PUT|       Thumbs Up|      816|                null|   307|Mozilla/5.0 (Wind...|    30|2018-10-15 15:27:37|2018-09-28 19:22:42|\n",
      "|47047|    The Letter Black|Logged In|    Colin|     M|           67| Freeman| 205.03465| free|Bakersfield, CA|   PUT|        NextSong|      816|             Wounded|   200|Mozilla/5.0 (Wind...|    30|2018-10-15 15:30:09|2018-09-28 19:22:42|\n",
      "|47057|                Live|Logged In|    Colin|     M|           68| Freeman| 205.37424| free|Bakersfield, CA|   PUT|        NextSong|      816|   Selling The Drama|   200|Mozilla/5.0 (Wind...|    30|2018-10-15 15:33:34|2018-09-28 19:22:42|\n",
      "|47067|       Guns N' Roses|Logged In|    Colin|     M|           69| Freeman| 219.34975| free|Bakersfield, CA|   PUT|        NextSong|      816|         My Michelle|   200|Mozilla/5.0 (Wind...|    30|2018-10-15 15:36:59|2018-09-28 19:22:42|\n",
      "|47068|                null|Logged In|    Colin|     M|           70| Freeman|      null| free|Bakersfield, CA|   PUT|          Logout|      816|                null|   307|Mozilla/5.0 (Wind...|    30|2018-10-15 15:37:00|2018-09-28 19:22:42|\n",
      "|47081|                null|Logged In|    Colin|     M|           75| Freeman|      null| free|Bakersfield, CA|   GET|            Home|      816|                null|   200|Mozilla/5.0 (Wind...|    30|2018-10-15 15:40:43|2018-09-28 19:22:42|\n",
      "|47082|           The Kills|Logged In|    Colin|     M|           76| Freeman| 280.13669| free|Bakersfield, CA|   PUT|        NextSong|      816|        Superstition|   200|Mozilla/5.0 (Wind...|    30|2018-10-15 15:40:52|2018-09-28 19:22:42|\n",
      "|47093|            Coldplay|Logged In|    Colin|     M|           77| Freeman| 311.27465| free|Bakersfield, CA|   PUT|        NextSong|      816|       The Scientist|   200|Mozilla/5.0 (Wind...|    30|2018-10-15 15:45:32|2018-09-28 19:22:42|\n",
      "|47095|                null|Logged In|    Colin|     M|           78| Freeman|      null| free|Bakersfield, CA|   GET|            Help|      816|                null|   200|Mozilla/5.0 (Wind...|    30|2018-10-15 15:46:06|2018-09-28 19:22:42|\n",
      "|47113|        Bill Withers|Logged In|    Colin|     M|           79| Freeman| 383.73832| free|Bakersfield, CA|   PUT|        NextSong|      816|Make Love To Your...|   200|Mozilla/5.0 (Wind...|    30|2018-10-15 15:50:43|2018-09-28 19:22:42|\n",
      "|47125|             Cursive|Logged In|    Colin|     M|           80| Freeman| 396.66893| free|Bakersfield, CA|   PUT|        NextSong|      816|         Art is Hard|   200|Mozilla/5.0 (Wind...|    30|2018-10-15 15:57:06|2018-09-28 19:22:42|\n",
      "|47126|                null|Logged In|    Colin|     M|           81| Freeman|      null| free|Bakersfield, CA|   GET|            Home|      816|                null|   200|Mozilla/5.0 (Wind...|    30|2018-10-15 15:57:10|2018-09-28 19:22:42|\n",
      "|47128|                null|Logged In|    Colin|     M|           82| Freeman|      null| free|Bakersfield, CA|   PUT|      Add Friend|      816|                null|   307|Mozilla/5.0 (Wind...|    30|2018-10-15 15:57:11|2018-09-28 19:22:42|\n",
      "|47130|                null|Logged In|    Colin|     M|           83| Freeman|      null| free|Bakersfield, CA|   GET|        Settings|      816|                null|   200|Mozilla/5.0 (Wind...|    30|2018-10-15 15:57:25|2018-09-28 19:22:42|\n",
      "|52887|                null|Logged In|    Colin|     M|            0| Freeman|      null| free|Bakersfield, CA|   GET|            Home|      892|                null|   200|Mozilla/5.0 (Wind...|    30|2018-10-16 20:10:38|2018-09-28 19:22:42|\n",
      "|52888|                null|Logged In|    Colin|     M|            1| Freeman|      null| free|Bakersfield, CA|   PUT|          Logout|      892|                null|   307|Mozilla/5.0 (Wind...|    30|2018-10-16 20:10:39|2018-09-28 19:22:42|\n",
      "|69306|                null|Logged In|    Colin|     M|            2| Freeman|      null| free|Bakersfield, CA|   GET|            Home|      945|                null|   200|Mozilla/5.0 (Wind...|    30|2018-10-20 18:29:29|2018-09-28 19:22:42|\n",
      "|75998|Carbon Based Life...|Logged In|    Colin|     M|            0| Freeman| 425.27302| free|Bakersfield, CA|   PUT|        NextSong|     1110|      Silent Running|   200|Mozilla/5.0 (Wind...|    30|2018-10-23 01:14:44|2018-09-28 19:22:42|\n",
      "|76013|           Metallica|Logged In|    Colin|     M|            1| Freeman| 396.40771| free|Bakersfield, CA|   PUT|        NextSong|     1110|   The Unforgiven II|   200|Mozilla/5.0 (Wind...|    30|2018-10-23 01:21:49|2018-09-28 19:22:42|\n",
      "|76022|Les MisÃÂ©rables...|Logged In|    Colin|     M|            2| Freeman| 219.92444| free|Bakersfield, CA|   PUT|        NextSong|     1110| Valjean's Soliloquy|   200|Mozilla/5.0 (Wind...|    30|2018-10-23 01:28:25|2018-09-28 19:22:42|\n",
      "|76029|           FM Static|Logged In|    Colin|     M|            3| Freeman| 218.27873| free|Bakersfield, CA|   PUT|        NextSong|     1110|             Tonight|   200|Mozilla/5.0 (Wind...|    30|2018-10-23 01:32:04|2018-09-28 19:22:42|\n",
      "|76039|   Little River Band|Logged In|    Colin|     M|            4| Freeman| 177.57995| free|Bakersfield, CA|   PUT|        NextSong|     1110|Playing To Win (2...|   200|Mozilla/5.0 (Wind...|    30|2018-10-23 01:35:42|2018-09-28 19:22:42|\n",
      "|76045|       Ismael Rivera|Logged In|    Colin|     M|            5| Freeman| 337.71057| free|Bakersfield, CA|   PUT|        NextSong|     1110|         El nazareno|   200|Mozilla/5.0 (Wind...|    30|2018-10-23 01:38:39|2018-09-28 19:22:42|\n",
      "|76052|       Mayday Parade|Logged In|    Colin|     M|            6| Freeman|  237.5571| free|Bakersfield, CA|   PUT|        NextSong|     1110|           Your Song|   200|Mozilla/5.0 (Wind...|    30|2018-10-23 01:44:16|2018-09-28 19:22:42|\n",
      "|76062|   The Golden Filter|Logged In|    Colin|     M|            7| Freeman| 322.82077| free|Bakersfield, CA|   PUT|        NextSong|     1110|         Thunderbird|   200|Mozilla/5.0 (Wind...|    30|2018-10-23 01:48:13|2018-09-28 19:22:42|\n",
      "|76078|             ManÃÂ¡|Logged In|    Colin|     M|            8| Freeman| 252.86485| free|Bakersfield, CA|   PUT|        NextSong|     1110|      Rayando el sol|   200|Mozilla/5.0 (Wind...|    30|2018-10-23 01:53:35|2018-09-28 19:22:42|\n",
      "|76088|  Scissors For Lefty|Logged In|    Colin|     M|            9| Freeman|  228.0224| free|Bakersfield, CA|   PUT|        NextSong|     1110|Mama Your Boys Wi...|   200|Mozilla/5.0 (Wind...|    30|2018-10-23 01:57:47|2018-09-28 19:22:42|\n",
      "|76096|     A Hope For Home|Logged In|    Colin|     M|           10| Freeman| 388.38812| free|Bakersfield, CA|   PUT|        NextSong|     1110|Absolution: Of Fl...|   200|Mozilla/5.0 (Wind...|    30|2018-10-23 02:01:35|2018-09-28 19:22:42|\n",
      "|76109|               Elbow|Logged In|    Colin|     M|           11| Freeman| 291.00363| free|Bakersfield, CA|   PUT|        NextSong|     1110|    The Bones Of You|   200|Mozilla/5.0 (Wind...|    30|2018-10-23 02:08:03|2018-09-28 19:22:42|\n",
      "|76122|             Example|Logged In|    Colin|     M|           12| Freeman|  180.4273| free|Bakersfield, CA|   PUT|        NextSong|     1110|          Kickstarts|   200|Mozilla/5.0 (Wind...|    30|2018-10-23 02:12:54|2018-09-28 19:22:42|\n",
      "|76128|      The Lemonheads|Logged In|    Colin|     M|           13| Freeman| 220.94322| free|Bakersfield, CA|   PUT|        NextSong|     1110|Mrs. Robinson (LP...|   200|Mozilla/5.0 (Wind...|    30|2018-10-23 02:15:54|2018-09-28 19:22:42|\n",
      "|76129|                null|Logged In|    Colin|     M|           14| Freeman|      null| free|Bakersfield, CA|   PUT| Add to Playlist|     1110|                null|   200|Mozilla/5.0 (Wind...|    30|2018-10-23 02:16:05|2018-09-28 19:22:42|\n",
      "|76137|          Luke Bryan|Logged In|    Colin|     M|           15| Freeman| 175.17669| free|Bakersfield, CA|   PUT|        NextSong|     1110|Rain Is A Good Thing|   200|Mozilla/5.0 (Wind...|    30|2018-10-23 02:19:34|2018-09-28 19:22:42|\n",
      "|76142|                 Fey|Logged In|    Colin|     M|           16| Freeman| 208.37832| free|Bakersfield, CA|   PUT|        NextSong|     1110|       Barco a Venus|   200|Mozilla/5.0 (Wind...|    30|2018-10-23 02:22:29|2018-09-28 19:22:42|\n",
      "|76153|             Pantera|Logged In|    Colin|     M|           17| Freeman| 244.50567| free|Bakersfield, CA|   PUT|        NextSong|     1110|Planet Caravan (R...|   200|Mozilla/5.0 (Wind...|    30|2018-10-23 02:25:57|2018-09-28 19:22:42|\n",
      "|76162|      Modern English|Logged In|    Colin|     M|           18| Freeman| 277.52444| free|Bakersfield, CA|   PUT|        NextSong|     1110|     I Melt With You|   200|Mozilla/5.0 (Wind...|    30|2018-10-23 02:30:01|2018-09-28 19:22:42|\n",
      "+-----+--------------------+---------+---------+------+-------------+--------+----------+-----+---------------+------+----------------+---------+--------------------+------+--------------------+------+-------------------+-------------------+\n",
      "only showing top 500 rows\n",
      "\n"
     ]
    }
   ],
   "source": [
    "data.where('userId = 30').orderBy('ts').show(n=500)"
   ]
  },
  {
   "cell_type": "code",
   "execution_count": 67,
   "metadata": {},
   "outputs": [
    {
     "name": "stdout",
     "output_type": "stream",
     "text": [
      "+---+-------------------+\n",
      "| _1|       registration|\n",
      "+---+-------------------+\n",
      "|  0|2018-09-28 19:22:42|\n",
      "|  1|2018-09-30 15:20:30|\n",
      "|  2|2018-09-28 19:22:42|\n",
      "|  3|2018-09-30 15:20:30|\n",
      "|  4|2018-09-28 19:22:42|\n",
      "|  5|2018-09-30 15:20:30|\n",
      "|  6|2018-09-30 15:20:30|\n",
      "|  7|2018-09-28 19:22:42|\n",
      "|  8|2018-09-28 19:22:42|\n",
      "|  9|2018-09-28 19:22:42|\n",
      "| 10|2018-09-30 15:20:30|\n",
      "| 11|2018-09-30 15:20:30|\n",
      "| 12|2018-09-28 19:22:42|\n",
      "| 13|2018-09-30 15:20:30|\n",
      "| 14|2018-09-30 15:20:30|\n",
      "| 15|2018-09-28 19:22:42|\n",
      "| 16|2018-09-30 15:20:30|\n",
      "| 17|2018-09-19 10:53:39|\n",
      "| 18|2018-09-28 19:22:42|\n",
      "| 19|2018-09-30 15:20:30|\n",
      "+---+-------------------+\n",
      "only showing top 20 rows\n",
      "\n"
     ]
    }
   ],
   "source": [
    "date2.show()"
   ]
  },
  {
   "cell_type": "code",
   "execution_count": 74,
   "metadata": {},
   "outputs": [
    {
     "data": {
      "text/plain": [
       "Column<'to_timestamp(ts)'>"
      ]
     },
     "execution_count": 74,
     "metadata": {},
     "output_type": "execute_result"
    }
   ],
   "source": [
    "\n",
    "F.to_timestamp(date1.ts)"
   ]
  },
  {
   "cell_type": "code",
   "execution_count": 75,
   "metadata": {},
   "outputs": [
    {
     "data": {
      "text/plain": [
       "Column<'to_date(ts)'>"
      ]
     },
     "execution_count": 75,
     "metadata": {},
     "output_type": "execute_result"
    }
   ],
   "source": [
    "F.to_date(date1.ts)"
   ]
  },
  {
   "cell_type": "code",
   "execution_count": 82,
   "metadata": {},
   "outputs": [
    {
     "name": "stdout",
     "output_type": "stream",
     "text": [
      "root\n",
      " |-- _1: string (nullable = true)\n",
      " |-- registration: date (nullable = true)\n",
      "\n"
     ]
    }
   ],
   "source": [
    "date2.printSchema()"
   ]
  },
  {
   "cell_type": "code",
   "execution_count": 90,
   "metadata": {},
   "outputs": [],
   "source": [
    "data = data.withColumn(\"ts\", F.to_date(data.ts))\n",
    "data = data.withColumn(\"registration\", F.to_date(data.registration))"
   ]
  },
  {
   "cell_type": "code",
   "execution_count": 77,
   "metadata": {},
   "outputs": [],
   "source": [
    "date1 = date1.withColumn(\"ts\", F.to_date(date1.ts))"
   ]
  },
  {
   "cell_type": "code",
   "execution_count": 87,
   "metadata": {},
   "outputs": [
    {
     "data": {
      "text/plain": [
       "Column<'(max(ts) - min(registration))'>"
      ]
     },
     "execution_count": 87,
     "metadata": {},
     "output_type": "execute_result"
    }
   ],
   "source": [
    "(F.max(date1.ts) - F.min(date2.registration))"
   ]
  },
  {
   "cell_type": "code",
   "execution_count": null,
   "metadata": {},
   "outputs": [],
   "source": [
    "date2.registration."
   ]
  },
  {
   "cell_type": "code",
   "execution_count": 86,
   "metadata": {},
   "outputs": [
    {
     "data": {
      "text/plain": [
       "Column<'(ts - ts)'>"
      ]
     },
     "execution_count": 86,
     "metadata": {},
     "output_type": "execute_result"
    }
   ],
   "source": [
    "(date1.ts - date1.ts)"
   ]
  },
  {
   "cell_type": "code",
   "execution_count": 79,
   "metadata": {},
   "outputs": [],
   "source": [
    "date2 = date2.withColumn(\"registration\", F.to_date(date2.registration))"
   ]
  },
  {
   "cell_type": "code",
   "execution_count": 80,
   "metadata": {},
   "outputs": [
    {
     "ename": "TypeError",
     "evalue": "Invalid argument, not a string or column: DataFrame[ts: date] of type <class 'pyspark.sql.dataframe.DataFrame'>. For column literals, use 'lit', 'array', 'struct' or 'create_map' function.",
     "output_type": "error",
     "traceback": [
      "\u001b[1;31m---------------------------------------------------------------------------\u001b[0m",
      "\u001b[1;31mTypeError\u001b[0m                                 Traceback (most recent call last)",
      "Cell \u001b[1;32mIn[80], line 1\u001b[0m\n\u001b[1;32m----> 1\u001b[0m F\u001b[39m.\u001b[39;49mdatediff(date1\u001b[39m.\u001b[39;49mselect(\u001b[39m'\u001b[39;49m\u001b[39mts\u001b[39;49m\u001b[39m'\u001b[39;49m), date2\u001b[39m.\u001b[39;49mselect(\u001b[39m'\u001b[39;49m\u001b[39mregistration\u001b[39;49m\u001b[39m'\u001b[39;49m))\n",
      "File \u001b[1;32mc:\\Users\\marco\\OneDrive\\Documentos\\Python\\Projetos\\Churn (Pyspark)\\env\\lib\\site-packages\\pyspark\\sql\\functions.py:1940\u001b[0m, in \u001b[0;36mdatediff\u001b[1;34m(end, start)\u001b[0m\n\u001b[0;32m   1928\u001b[0m \u001b[39m\u001b[39m\u001b[39m\"\"\"\u001b[39;00m\n\u001b[0;32m   1929\u001b[0m \u001b[39mReturns the number of days from `start` to `end`.\u001b[39;00m\n\u001b[0;32m   1930\u001b[0m \n\u001b[1;32m   (...)\u001b[0m\n\u001b[0;32m   1937\u001b[0m \u001b[39m[Row(diff=32)]\u001b[39;00m\n\u001b[0;32m   1938\u001b[0m \u001b[39m\"\"\"\u001b[39;00m\n\u001b[0;32m   1939\u001b[0m sc \u001b[39m=\u001b[39m SparkContext\u001b[39m.\u001b[39m_active_spark_context\n\u001b[1;32m-> 1940\u001b[0m \u001b[39mreturn\u001b[39;00m Column(sc\u001b[39m.\u001b[39m_jvm\u001b[39m.\u001b[39mfunctions\u001b[39m.\u001b[39mdatediff(_to_java_column(end), _to_java_column(start)))\n",
      "File \u001b[1;32mc:\\Users\\marco\\OneDrive\\Documentos\\Python\\Projetos\\Churn (Pyspark)\\env\\lib\\site-packages\\pyspark\\sql\\column.py:45\u001b[0m, in \u001b[0;36m_to_java_column\u001b[1;34m(col)\u001b[0m\n\u001b[0;32m     43\u001b[0m     jcol \u001b[39m=\u001b[39m _create_column_from_name(col)\n\u001b[0;32m     44\u001b[0m \u001b[39melse\u001b[39;00m:\n\u001b[1;32m---> 45\u001b[0m     \u001b[39mraise\u001b[39;00m \u001b[39mTypeError\u001b[39;00m(\n\u001b[0;32m     46\u001b[0m         \u001b[39m\"\u001b[39m\u001b[39mInvalid argument, not a string or column: \u001b[39m\u001b[39m\"\u001b[39m\n\u001b[0;32m     47\u001b[0m         \u001b[39m\"\u001b[39m\u001b[39m{0}\u001b[39;00m\u001b[39m of type \u001b[39m\u001b[39m{1}\u001b[39;00m\u001b[39m. \u001b[39m\u001b[39m\"\u001b[39m\n\u001b[0;32m     48\u001b[0m         \u001b[39m\"\u001b[39m\u001b[39mFor column literals, use \u001b[39m\u001b[39m'\u001b[39m\u001b[39mlit\u001b[39m\u001b[39m'\u001b[39m\u001b[39m, \u001b[39m\u001b[39m'\u001b[39m\u001b[39marray\u001b[39m\u001b[39m'\u001b[39m\u001b[39m, \u001b[39m\u001b[39m'\u001b[39m\u001b[39mstruct\u001b[39m\u001b[39m'\u001b[39m\u001b[39m or \u001b[39m\u001b[39m'\u001b[39m\u001b[39mcreate_map\u001b[39m\u001b[39m'\u001b[39m\u001b[39m \u001b[39m\u001b[39m\"\u001b[39m\n\u001b[0;32m     49\u001b[0m         \u001b[39m\"\u001b[39m\u001b[39mfunction.\u001b[39m\u001b[39m\"\u001b[39m\u001b[39m.\u001b[39mformat(col, \u001b[39mtype\u001b[39m(col)))\n\u001b[0;32m     50\u001b[0m \u001b[39mreturn\u001b[39;00m jcol\n",
      "\u001b[1;31mTypeError\u001b[0m: Invalid argument, not a string or column: DataFrame[ts: date] of type <class 'pyspark.sql.dataframe.DataFrame'>. For column literals, use 'lit', 'array', 'struct' or 'create_map' function."
     ]
    }
   ],
   "source": [
    "F.datediff(date1.select('ts'), date2.select('registration'))\n",
    "\n"
   ]
  },
  {
   "cell_type": "code",
   "execution_count": null,
   "metadata": {},
   "outputs": [],
   "source": [
    "data = data.withColumn(\"ts\", F.to_date(data.ts))\n",
    "data = data.withColumn(\"registration\", F.to_date(data.registration))"
   ]
  },
  {
   "cell_type": "code",
   "execution_count": 93,
   "metadata": {},
   "outputs": [
    {
     "ename": "TypeError",
     "evalue": "Invalid argument, not a string or column: DataFrame[ts: date] of type <class 'pyspark.sql.dataframe.DataFrame'>. For column literals, use 'lit', 'array', 'struct' or 'create_map' function.",
     "output_type": "error",
     "traceback": [
      "\u001b[1;31m---------------------------------------------------------------------------\u001b[0m",
      "\u001b[1;31mTypeError\u001b[0m                                 Traceback (most recent call last)",
      "Cell \u001b[1;32mIn[93], line 2\u001b[0m\n\u001b[0;32m      1\u001b[0m data\u001b[39m.\u001b[39mwhere(data\u001b[39m.\u001b[39muserId \u001b[39m!=\u001b[39m \u001b[39m\"\u001b[39m\u001b[39m\"\u001b[39m)\u001b[39m.\u001b[39mgroupby([\u001b[39m'\u001b[39m\u001b[39muserId\u001b[39m\u001b[39m'\u001b[39m,\u001b[39m'\u001b[39m\u001b[39msessionId\u001b[39m\u001b[39m'\u001b[39m]) \\\n\u001b[1;32m----> 2\u001b[0m                                             \u001b[39m.\u001b[39magg(F\u001b[39m.\u001b[39;49mdatediff(date1\u001b[39m.\u001b[39;49mselect(\u001b[39m'\u001b[39;49m\u001b[39mts\u001b[39;49m\u001b[39m'\u001b[39;49m), date2\u001b[39m.\u001b[39;49mselect(\u001b[39m'\u001b[39;49m\u001b[39mregistration\u001b[39;49m\u001b[39m'\u001b[39;49m))\u001b[39m.\u001b[39malias(\u001b[39m'\u001b[39m\u001b[39msessionlength\u001b[39m\u001b[39m'\u001b[39m))\u001b[39m.\u001b[39mshow(truncate\u001b[39m=\u001b[39m\u001b[39mFalse\u001b[39;00m)\n",
      "File \u001b[1;32mc:\\Users\\marco\\OneDrive\\Documentos\\Python\\Projetos\\Churn (Pyspark)\\env\\lib\\site-packages\\pyspark\\sql\\functions.py:1940\u001b[0m, in \u001b[0;36mdatediff\u001b[1;34m(end, start)\u001b[0m\n\u001b[0;32m   1928\u001b[0m \u001b[39m\u001b[39m\u001b[39m\"\"\"\u001b[39;00m\n\u001b[0;32m   1929\u001b[0m \u001b[39mReturns the number of days from `start` to `end`.\u001b[39;00m\n\u001b[0;32m   1930\u001b[0m \n\u001b[1;32m   (...)\u001b[0m\n\u001b[0;32m   1937\u001b[0m \u001b[39m[Row(diff=32)]\u001b[39;00m\n\u001b[0;32m   1938\u001b[0m \u001b[39m\"\"\"\u001b[39;00m\n\u001b[0;32m   1939\u001b[0m sc \u001b[39m=\u001b[39m SparkContext\u001b[39m.\u001b[39m_active_spark_context\n\u001b[1;32m-> 1940\u001b[0m \u001b[39mreturn\u001b[39;00m Column(sc\u001b[39m.\u001b[39m_jvm\u001b[39m.\u001b[39mfunctions\u001b[39m.\u001b[39mdatediff(_to_java_column(end), _to_java_column(start)))\n",
      "File \u001b[1;32mc:\\Users\\marco\\OneDrive\\Documentos\\Python\\Projetos\\Churn (Pyspark)\\env\\lib\\site-packages\\pyspark\\sql\\column.py:45\u001b[0m, in \u001b[0;36m_to_java_column\u001b[1;34m(col)\u001b[0m\n\u001b[0;32m     43\u001b[0m     jcol \u001b[39m=\u001b[39m _create_column_from_name(col)\n\u001b[0;32m     44\u001b[0m \u001b[39melse\u001b[39;00m:\n\u001b[1;32m---> 45\u001b[0m     \u001b[39mraise\u001b[39;00m \u001b[39mTypeError\u001b[39;00m(\n\u001b[0;32m     46\u001b[0m         \u001b[39m\"\u001b[39m\u001b[39mInvalid argument, not a string or column: \u001b[39m\u001b[39m\"\u001b[39m\n\u001b[0;32m     47\u001b[0m         \u001b[39m\"\u001b[39m\u001b[39m{0}\u001b[39;00m\u001b[39m of type \u001b[39m\u001b[39m{1}\u001b[39;00m\u001b[39m. \u001b[39m\u001b[39m\"\u001b[39m\n\u001b[0;32m     48\u001b[0m         \u001b[39m\"\u001b[39m\u001b[39mFor column literals, use \u001b[39m\u001b[39m'\u001b[39m\u001b[39mlit\u001b[39m\u001b[39m'\u001b[39m\u001b[39m, \u001b[39m\u001b[39m'\u001b[39m\u001b[39marray\u001b[39m\u001b[39m'\u001b[39m\u001b[39m, \u001b[39m\u001b[39m'\u001b[39m\u001b[39mstruct\u001b[39m\u001b[39m'\u001b[39m\u001b[39m or \u001b[39m\u001b[39m'\u001b[39m\u001b[39mcreate_map\u001b[39m\u001b[39m'\u001b[39m\u001b[39m \u001b[39m\u001b[39m\"\u001b[39m\n\u001b[0;32m     49\u001b[0m         \u001b[39m\"\u001b[39m\u001b[39mfunction.\u001b[39m\u001b[39m\"\u001b[39m\u001b[39m.\u001b[39mformat(col, \u001b[39mtype\u001b[39m(col)))\n\u001b[0;32m     50\u001b[0m \u001b[39mreturn\u001b[39;00m jcol\n",
      "\u001b[1;31mTypeError\u001b[0m: Invalid argument, not a string or column: DataFrame[ts: date] of type <class 'pyspark.sql.dataframe.DataFrame'>. For column literals, use 'lit', 'array', 'struct' or 'create_map' function."
     ]
    }
   ],
   "source": [
    "data.where(data.userId != \"\").groupby(['userId','sessionId']) \\\n",
    "                                            .agg(((F.max('ts') - F.min('ts'))).alias('sessionlength')).show(truncate=False)"
   ]
  },
  {
   "cell_type": "code",
   "execution_count": 52,
   "metadata": {},
   "outputs": [
    {
     "data": {
      "text/plain": [
       "Column<'ts'>"
      ]
     },
     "execution_count": 52,
     "metadata": {},
     "output_type": "execute_result"
    }
   ],
   "source": [
    "data['ts']."
   ]
  },
  {
   "cell_type": "code",
   "execution_count": 50,
   "metadata": {},
   "outputs": [
    {
     "name": "stdout",
     "output_type": "stream",
     "text": [
      "+-------------------+\n",
      "|                 ts|\n",
      "+-------------------+\n",
      "|2018-09-30 21:01:57|\n",
      "+-------------------+\n",
      "only showing top 1 row\n",
      "\n"
     ]
    }
   ],
   "source": [
    "data.select('ts').show(n=1)"
   ]
  },
  {
   "cell_type": "code",
   "execution_count": 43,
   "metadata": {},
   "outputs": [
    {
     "name": "stdout",
     "output_type": "stream",
     "text": [
      "+--------------------------------------------------+---------+-----+-------------+\n",
      "|userId                                            |sessionId|churn|sessionlength|\n",
      "+--------------------------------------------------+---------+-----+-------------+\n",
      "| like Gecko) Chrome/35.0.1916.153 Safari/537.36\"\"\"|101      |0    |29003.0      |\n",
      "| like Gecko) Chrome/35.0.1916.153 Safari/537.36\"\"\"|116      |0    |2555.0       |\n",
      "| like Gecko) Chrome/35.0.1916.153 Safari/537.36\"\"\"|120      |0    |2390.0       |\n",
      "| like Gecko) Chrome/35.0.1916.153 Safari/537.36\"\"\"|123      |0    |78344.0      |\n",
      "| like Gecko) Chrome/35.0.1916.153 Safari/537.36\"\"\"|129      |0    |9964.0       |\n",
      "| like Gecko) Chrome/35.0.1916.153 Safari/537.36\"\"\"|129      |1    |0.0          |\n",
      "| like Gecko) Chrome/35.0.1916.153 Safari/537.36\"\"\"|147      |0    |3971.0       |\n",
      "| like Gecko) Chrome/35.0.1916.153 Safari/537.36\"\"\"|148      |0    |17166.0      |\n",
      "| like Gecko) Chrome/35.0.1916.153 Safari/537.36\"\"\"|183      |0    |24015.0      |\n",
      "| like Gecko) Chrome/35.0.1916.153 Safari/537.36\"\"\"|186      |0    |2194.0       |\n",
      "| like Gecko) Chrome/35.0.1916.153 Safari/537.36\"\"\"|19       |0    |27985.0      |\n",
      "| like Gecko) Chrome/35.0.1916.153 Safari/537.36\"\"\"|191      |0    |95252.0      |\n",
      "| like Gecko) Chrome/35.0.1916.153 Safari/537.36\"\"\"|211      |0    |28511.0      |\n",
      "| like Gecko) Chrome/35.0.1916.153 Safari/537.36\"\"\"|224      |0    |1588.0       |\n",
      "| like Gecko) Chrome/35.0.1916.153 Safari/537.36\"\"\"|226      |0    |18251.0      |\n",
      "| like Gecko) Chrome/35.0.1916.153 Safari/537.36\"\"\"|233      |0    |5337.0       |\n",
      "| like Gecko) Chrome/35.0.1916.153 Safari/537.36\"\"\"|236      |0    |47019.0      |\n",
      "| like Gecko) Chrome/35.0.1916.153 Safari/537.36\"\"\"|241      |0    |13767.0      |\n",
      "| like Gecko) Chrome/35.0.1916.153 Safari/537.36\"\"\"|248      |0    |2975.0       |\n",
      "| like Gecko) Chrome/35.0.1916.153 Safari/537.36\"\"\"|25       |0    |5429.0       |\n",
      "+--------------------------------------------------+---------+-----+-------------+\n",
      "only showing top 20 rows\n",
      "\n"
     ]
    }
   ],
   "source": [
    "data.where(data.userId != \"30\").groupby(['userId','sessionId', 'churn']) \\\n",
    "                                            .agg(((F.max('ts') - F.min('ts'))/1000).alias('sessionlength')).show(truncate=False)"
   ]
  }
 ],
 "metadata": {
  "kernelspec": {
   "display_name": "env",
   "language": "python",
   "name": "python3"
  },
  "language_info": {
   "codemirror_mode": {
    "name": "ipython",
    "version": 3
   },
   "file_extension": ".py",
   "mimetype": "text/x-python",
   "name": "python",
   "nbconvert_exporter": "python",
   "pygments_lexer": "ipython3",
   "version": "3.9.10"
  },
  "orig_nbformat": 4
 },
 "nbformat": 4,
 "nbformat_minor": 2
}
